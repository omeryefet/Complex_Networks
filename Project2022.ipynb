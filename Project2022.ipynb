{
 "cells": [
  {
   "cell_type": "code",
   "execution_count": 46,
   "metadata": {},
   "outputs": [],
   "source": [
    "import networkx as nx # the main libary we will use\n",
    "from networkx.algorithms import bipartite\n",
    "from networkx.algorithms import community, centrality\n",
    "import numpy as np\n",
    "import pandas as pd\n",
    "import matplotlib.pyplot as plt\n",
    "from scipy.optimize import curve_fit\n",
    "%matplotlib inline \n",
    "from datetime import datetime, timedelta\n",
    "from datetime import date\n",
    "import powerlaw\n",
    "from collections import defaultdict, Counter\n",
    "from networkx.algorithms import community\n",
    "from networkx.algorithms import bipartite\n",
    "from networkx.algorithms import centrality as ce\n",
    "from networkx.algorithms import community as c\n",
    "from IPython.display import display, HTML\n",
    "from community import community_louvain\n",
    "from networkx.algorithms.community import greedy_modularity_communities"
   ]
  },
  {
   "cell_type": "code",
   "execution_count": 3,
   "metadata": {},
   "outputs": [],
   "source": [
    "file= 'data/Investments.xlsx'\n",
    "df = pd.read_excel(file)"
   ]
  },
  {
   "cell_type": "markdown",
   "metadata": {},
   "source": [
    "### Preprocess"
   ]
  },
  {
   "cell_type": "code",
   "execution_count": 4,
   "metadata": {},
   "outputs": [],
   "source": [
    "df = df[['company_name','company_market','investor_name','funded_year','raised_amount_usd']]\n",
    "df.rename(columns = {'company_name' : 'Company_Name', 'company_market' : 'Company_Market', 'investor_name':'Investor_Name', 'funded_year':'Funded_Year', 'raised_amount_usd':'Raised_Amount_USD'}, inplace = True)\n",
    "df = df.dropna()\n",
    "df = df[df.Raised_Amount_USD != 0]\n",
    "df = df[df.Funded_Year>=1990]"
   ]
  },
  {
   "cell_type": "code",
   "execution_count": 5,
   "metadata": {},
   "outputs": [
    {
     "data": {
      "text/html": [
       "<div>\n",
       "<style scoped>\n",
       "    .dataframe tbody tr th:only-of-type {\n",
       "        vertical-align: middle;\n",
       "    }\n",
       "\n",
       "    .dataframe tbody tr th {\n",
       "        vertical-align: top;\n",
       "    }\n",
       "\n",
       "    .dataframe thead th {\n",
       "        text-align: right;\n",
       "    }\n",
       "</style>\n",
       "<table border=\"1\" class=\"dataframe\">\n",
       "  <thead>\n",
       "    <tr style=\"text-align: right;\">\n",
       "      <th></th>\n",
       "      <th>Company_Name</th>\n",
       "      <th>Company_Market</th>\n",
       "      <th>Investor_Name</th>\n",
       "      <th>Funded_Year</th>\n",
       "      <th>Raised_Amount_USD</th>\n",
       "    </tr>\n",
       "  </thead>\n",
       "  <tbody>\n",
       "    <tr>\n",
       "      <th>31</th>\n",
       "      <td>Knowledge Adventure</td>\n",
       "      <td>Games</td>\n",
       "      <td>William Lohse</td>\n",
       "      <td>1990</td>\n",
       "      <td>60000.0</td>\n",
       "    </tr>\n",
       "    <tr>\n",
       "      <th>43</th>\n",
       "      <td>Market Wire</td>\n",
       "      <td>Advertising</td>\n",
       "      <td>Hummer Winblad Venture Partners</td>\n",
       "      <td>1990</td>\n",
       "      <td>17550000.0</td>\n",
       "    </tr>\n",
       "    <tr>\n",
       "      <th>44</th>\n",
       "      <td>Market Wire</td>\n",
       "      <td>Advertising</td>\n",
       "      <td>Mindful Investors</td>\n",
       "      <td>1990</td>\n",
       "      <td>17550000.0</td>\n",
       "    </tr>\n",
       "    <tr>\n",
       "      <th>45</th>\n",
       "      <td>Market Wire</td>\n",
       "      <td>Advertising</td>\n",
       "      <td>Montreux Equity Partners</td>\n",
       "      <td>1990</td>\n",
       "      <td>17550000.0</td>\n",
       "    </tr>\n",
       "    <tr>\n",
       "      <th>46</th>\n",
       "      <td>Market Wire</td>\n",
       "      <td>Advertising</td>\n",
       "      <td>Osprey Ventures</td>\n",
       "      <td>1990</td>\n",
       "      <td>17550000.0</td>\n",
       "    </tr>\n",
       "  </tbody>\n",
       "</table>\n",
       "</div>"
      ],
      "text/plain": [
       "           Company_Name Company_Market                    Investor_Name  \\\n",
       "31  Knowledge Adventure          Games                    William Lohse   \n",
       "43          Market Wire    Advertising  Hummer Winblad Venture Partners   \n",
       "44          Market Wire    Advertising                Mindful Investors   \n",
       "45          Market Wire    Advertising         Montreux Equity Partners   \n",
       "46          Market Wire    Advertising                  Osprey Ventures   \n",
       "\n",
       "    Funded_Year  Raised_Amount_USD  \n",
       "31         1990            60000.0  \n",
       "43         1990         17550000.0  \n",
       "44         1990         17550000.0  \n",
       "45         1990         17550000.0  \n",
       "46         1990         17550000.0  "
      ]
     },
     "execution_count": 5,
     "metadata": {},
     "output_type": "execute_result"
    }
   ],
   "source": [
    "df.head()"
   ]
  },
  {
   "cell_type": "markdown",
   "metadata": {},
   "source": [
    "### Data exploration"
   ]
  },
  {
   "cell_type": "code",
   "execution_count": 6,
   "metadata": {},
   "outputs": [
    {
     "name": "stdout",
     "output_type": "stream",
     "text": [
      "Number of unique investors: 20156\n",
      "Number of unique companies: 24908\n",
      "Number of unique company markets: 695\n",
      "Number of unique years: 23\n",
      "Number of investments: 99090\n"
     ]
    }
   ],
   "source": [
    "print(f\"Number of unique investors: {df['Investor_Name'].nunique()}\")\n",
    "print(f\"Number of unique companies: {df['Company_Name'].nunique()}\")\n",
    "print(f\"Number of unique company markets: {df['Company_Market'].nunique()}\")\n",
    "print(f\"Number of unique years: {df['Funded_Year'].nunique()}\")\n",
    "print(f\"Number of investments: {df.shape[0]}\")"
   ]
  },
  {
   "cell_type": "markdown",
   "metadata": {},
   "source": [
    "#### Building the network"
   ]
  },
  {
   "cell_type": "code",
   "execution_count": 7,
   "metadata": {},
   "outputs": [
    {
     "name": "stdout",
     "output_type": "stream",
     "text": [
      "General information about the graph (all data):\n",
      "\n",
      " Name: \n",
      "Type: MultiDiGraph\n",
      "Number of nodes: 44777\n",
      "Number of edges: 99090\n",
      "Average in degree:   2.2130\n",
      "Average out degree:   2.2130\n"
     ]
    }
   ],
   "source": [
    "G_weighted_directed = nx.from_pandas_edgelist(df=df,source='Investor_Name',target='Company_Name',edge_attr=True,create_using=nx.MultiDiGraph())\n",
    "print('General information about the graph (all data):\\n\\n',nx.info(G_weighted_directed))"
   ]
  },
  {
   "cell_type": "markdown",
   "metadata": {},
   "source": [
    "#### Split the data by years"
   ]
  },
  {
   "cell_type": "code",
   "execution_count": 8,
   "metadata": {},
   "outputs": [],
   "source": [
    "years_range = [(1990, 1994), (1995, 1999), (2000, 2004), (2005,2009), (2010, 2014)]\n",
    "years_dict = {i:year_range for i,year_range in enumerate(years_range)}\n",
    "df_list =[df[(df['Funded_Year'] <= year_range[1]) & (df['Funded_Year'] >= year_range[0])] for year_range in years_range]\n",
    "graph_list = [nx.from_pandas_edgelist(df_list[i],source='Investor_Name',target='Company_Name', edge_attr=['Company_Market','Raised_Amount_USD'], create_using=nx.MultiDiGraph()) for i, _ in enumerate(years_range)]"
   ]
  },
  {
   "cell_type": "markdown",
   "metadata": {},
   "source": [
    "#### General distributions"
   ]
  },
  {
   "cell_type": "code",
   "execution_count": 9,
   "metadata": {},
   "outputs": [
    {
     "name": "stdout",
     "output_type": "stream",
     "text": [
      "   Years     :   Edges   \n",
      "1990 - 1994  :    15\n",
      "1995 - 1999  :    233\n",
      "2000 - 2004  :    1635\n",
      "2005 - 2009  :    28455\n",
      "2010 - 2014  :    68752\n"
     ]
    },
    {
     "data": {
      "image/png": "[encoded data removed]",
      "text/plain": [
       "<Figure size 1440x360 with 2 Axes>"
      ]
     },
     "metadata": {
      "needs_background": "light"
     },
     "output_type": "display_data"
    }
   ],
   "source": [
    "print('   Years     :   Edges   ')\n",
    "edge_number_histogram = {f'{year_range[0]} - {year_range[1]}':graph_list[i].number_of_edges() for i, year_range  in enumerate(years_range)}\n",
    "for years,edges in edge_number_histogram.items():\n",
    "    print(f'{years}  :    {edges}')\n",
    "\n",
    "fig, axs = plt.subplots(1,2,figsize=(20,5))\n",
    "for i in range(2):\n",
    "    axs[i].bar(edge_number_histogram.keys(), edge_number_histogram.values())\n",
    "    axs[i].set_xlabel(\"Years\")\n",
    "    axs[i].set_ylabel(\"Number of edges\")\n",
    "    titel = f'Number of edges over the years'\n",
    "    if i>0:\n",
    "        axs[i].set_yscale('log')\n",
    "        titel += ' (log scale - Y axis)'\n",
    "    axs[i].set_title(titel)"
   ]
  },
  {
   "cell_type": "code",
   "execution_count": 10,
   "metadata": {},
   "outputs": [
    {
     "name": "stdout",
     "output_type": "stream",
     "text": [
      "   Years     :   Nodes   \n",
      "1990 - 1994  :    21\n",
      "1995 - 1999  :    256\n",
      "2000 - 2004  :    1317\n",
      "2005 - 2009  :    14250\n",
      "2010 - 2014  :    35122\n"
     ]
    },
    {
     "data": {
      "image/png": "[encoded data removed]",
      "text/plain": [
       "<Figure size 1440x360 with 2 Axes>"
      ]
     },
     "metadata": {
      "needs_background": "light"
     },
     "output_type": "display_data"
    }
   ],
   "source": [
    "print('   Years     :   Nodes   ')\n",
    "node_number_histogram = {f'{year_range[0]} - {year_range[1]}':graph_list[i].number_of_nodes() for i, year_range  in enumerate(years_range)}\n",
    "for years,nodes in node_number_histogram.items():\n",
    "    print(f'{years}  :    {nodes}')\n",
    "\n",
    "fig, axs = plt.subplots(1,2,figsize=(20,5))\n",
    "for i in range(2):\n",
    "    axs[i].bar(node_number_histogram.keys(), node_number_histogram.values())\n",
    "    axs[i].set_xlabel(\"Years\")\n",
    "    axs[i].set_ylabel(\"Number of nodes\")\n",
    "    titel = f'Number of nodes over the years'\n",
    "    if i>0:\n",
    "        axs[i].set_yscale('log')\n",
    "        titel += ' (log scale - Y axis)'\n",
    "    axs[i].set_title(titel)"
   ]
  },
  {
   "cell_type": "markdown",
   "metadata": {},
   "source": [
    "#### Measures, Features and Plotting"
   ]
  },
  {
   "cell_type": "code",
   "execution_count": 11,
   "metadata": {},
   "outputs": [
    {
     "name": "stdout",
     "output_type": "stream",
     "text": [
      "Name: \n",
      "Type: MultiDiGraph\n",
      "Number of nodes: 35122\n",
      "Number of edges: 68752\n",
      "Average in degree:   1.9575\n",
      "Average out degree:   1.9575\n"
     ]
    },
    {
     "data": {
      "image/png": "[encoded data removed]",
      "text/plain": [
       "<Figure size 1440x360 with 2 Axes>"
      ]
     },
     "metadata": {
      "needs_background": "light"
     },
     "output_type": "display_data"
    },
    {
     "data": {
      "image/png": "[encoded data removed]",
      "text/plain": [
       "<Figure size 1440x360 with 2 Axes>"
      ]
     },
     "metadata": {
      "needs_background": "light"
     },
     "output_type": "display_data"
    },
    {
     "data": {
      "image/png": "[encoded data removed]",
      "text/plain": [
       "<Figure size 1440x360 with 2 Axes>"
      ]
     },
     "metadata": {
      "needs_background": "light"
     },
     "output_type": "display_data"
    }
   ],
   "source": [
    "def plot_degree_distribution(num):\n",
    "    # G_weighted_directed = nx.from_pandas_edgelist(df=df_list[4],source='Investor_Name',target='Company_Name',edge_attr=True,create_using=nx.MultiDiGraph())\n",
    "    G_weighted_directed = graph_list[num]\n",
    "    # nodes = pd.DataFrame(list(G_weighted_directed.nodes))\n",
    "    print(nx.info(G_weighted_directed))\n",
    "    # degrees = [G_weighted_directed.degree(n) for n in G_weighted_directed.nodes()]\n",
    "    degree_dict = {'In':G_weighted_directed.in_degree,'Out':G_weighted_directed.out_degree,'Total':G_weighted_directed.degree}\n",
    "    dic = defaultdict() # key=in/out/total : value=count_deg\n",
    "    for item in degree_dict.items():\n",
    "        count_deg = defaultdict(int)\n",
    "        for node, degree in item[1]:\n",
    "            count_deg[degree] += 1 / len(item[1])\n",
    "            count_deg[degree] += 1\n",
    "        dic[item[0]] = count_deg\n",
    "\n",
    "    for j,dict in dic.items():\n",
    "        fig, axs = plt.subplots(1,2,figsize=(20,5))\n",
    "        for i in range(2):\n",
    "            axs[i].scatter(dict.keys(), dict.values())\n",
    "            # mean_k = np.mean([item[0]*item[1] for item in dict.items()])\n",
    "            # max_k = max(dict.keys())\n",
    "            # a = np.linspace(1, max_k, len(list(dict.keys())))\n",
    "            # axs[i].plot(dict.keys(), poisson.pmf(a, mu=5))\n",
    "            # axs[i].plot(np.linspace(0, max_k, 100), np.exp(np.linspace(0, max_k, 100)))\n",
    "            # axs[i].plot(np.log(np.linspace(1, max_k*10, 1000000)), np.log(np.exp(np.linspace(1, max_k*10, 1000000))))\n",
    "            axs[i].set_xlabel(\"k\")\n",
    "            axs[i].set_ylabel(\"P(k)\")\n",
    "            titel = f'{j}-Degree Distribution {years_range[4][0]}-{years_range[4][1]}'\n",
    "            if i>0:\n",
    "                axs[i].set_yscale('log')\n",
    "                axs[i].set_xscale('log')\n",
    "                # mean_k = np.mean([item[0]*item[1] for item in dict.items()])\n",
    "                # max_k = max(dict.keys())\n",
    "                # a = np.linspace(1, max_k, max_k)\n",
    "                # from math import e\n",
    "                # import math\n",
    "                # b = [((e**(-mean_k))*(mean_k**i))/(math.factorial(i)) for i in a]\n",
    "                # axs[i].plot(a,b)\n",
    "                # from scipy.stats import poisson\n",
    "                # axs[i].plot(np.linspace(1, max_k, 1000000), poisson.pmf((np.linspace(1, max_k, 1000000)),mu=mean_k))\n",
    "                titel += ' (log scale)'\n",
    "            axs[i].set_title(titel)\n",
    "\n",
    "plot_degree_distribution(4)"
   ]
  },
  {
   "cell_type": "code",
   "execution_count": 12,
   "metadata": {},
   "outputs": [
    {
     "data": {
      "text/plain": [
       "array([0.09122619, 0.12771667])"
      ]
     },
     "execution_count": 12,
     "metadata": {},
     "output_type": "execute_result"
    }
   ],
   "source": [
    "from scipy.stats import poisson\n",
    "# import matplotlib.pyplot as plt\n",
    "# mu = 0.6\n",
    "# fig, ax = plt.subplots(1, 1)\n",
    "# x = np.arange(poisson.ppf(0.01, mu), poisson.ppf(0.99, mu))\n",
    "# ax.plot(x, poisson.pmf(x, mu), 'bo', ms=8, label='poisson pmf')\n",
    "# ax.vlines(x, 0, poisson.pmf(x, mu), colors='b', lw=5, alpha=0.5)\n",
    "poisson.pmf(np.array([4,5]), mu=7)"
   ]
  },
  {
   "cell_type": "code",
   "execution_count": 13,
   "metadata": {},
   "outputs": [
    {
     "data": {
      "text/plain": [
       "[<matplotlib.lines.Line2D at 0x24cad378850>]"
      ]
     },
     "execution_count": 13,
     "metadata": {},
     "output_type": "execute_result"
    },
    {
     "data": {
      "image/png": "[encoded data removed]",
      "text/plain": [
       "<Figure size 432x288 with 1 Axes>"
      ]
     },
     "metadata": {
      "needs_background": "light"
     },
     "output_type": "display_data"
    }
   ],
   "source": [
    "from scipy.stats import poisson\n",
    "import matplotlib.pyplot as plt\n",
    "%matplotlib inline \n",
    "\n",
    "#generate Poisson distribution with sample size 10000\n",
    "x = poisson.rvs(mu=3, size=1000)\n",
    "a = np.linspace(0, 1, 100)\n",
    "b = poisson.pmf(a, mu=5)\n",
    "\n",
    "#create plot of Poisson distribution\n",
    "plt.plot(a,b)\n"
   ]
  },
  {
   "cell_type": "code",
   "execution_count": 14,
   "metadata": {},
   "outputs": [
    {
     "name": "stdout",
     "output_type": "stream",
     "text": [
      "Calculating best minimal value for power law fit\n",
      "Gamma (Total)' = 2.173951997411934\n"
     ]
    },
    {
     "data": {
      "image/png": "[encoded data removed]",
      "text/plain": [
       "<Figure size 432x288 with 1 Axes>"
      ]
     },
     "metadata": {
      "needs_background": "light"
     },
     "output_type": "display_data"
    }
   ],
   "source": [
    "def plot_gamma(num):\n",
    "    G_weighted_directed = graph_list[num]\n",
    "    degree_dict = {'In':G_weighted_directed.in_degree,'Out':G_weighted_directed.out_degree,'Total':G_weighted_directed.degree}\n",
    "    degree_sequence = sorted([d for _, d in degree_dict['Total']],reverse=True)\n",
    "    figPDF = powerlaw.plot_pdf(degree_sequence,color='b')\n",
    "    figPDF.set_ylabel(r\"P(k)\")\n",
    "    figPDF.set_xlabel(r\"k\")\n",
    "    fit = powerlaw.Fit(degree_sequence,discrete=True)\n",
    "    gamma = fit.power_law.alpha\n",
    "    print(f\"Gamma (Total)' = {gamma}\")\n",
    "\n",
    "plot_gamma(0)"
   ]
  },
  {
   "cell_type": "code",
   "execution_count": 15,
   "metadata": {},
   "outputs": [
    {
     "data": {
      "image/png": "[encoded data removed]",
      "text/plain": [
       "<Figure size 432x288 with 1 Axes>"
      ]
     },
     "metadata": {},
     "output_type": "display_data"
    }
   ],
   "source": [
    "# Plot directional Graph\n",
    "\n",
    "# G = nx.MultiDiGraph()\n",
    "# edges = [df_list[3]]\n",
    "# G = nx.from_pandas_edgelist(df=df_list[1],source='Investor_Name',target='Company_Name',edge_attr=True,create_using=nx.MultiDiGraph())\n",
    "G = graph_list[1]\n",
    "pos = nx.spring_layout(G)\n",
    "nx.draw_networkx_nodes(G, pos, cmap=plt.get_cmap('jet'), node_size = 20)\n",
    "nx.draw_networkx_edges(G,pos,alpha=0.1)\n",
    "# nx.draw_networkx_labels(G, pos)\n",
    "plt.show()"
   ]
  },
  {
   "cell_type": "code",
   "execution_count": 16,
   "metadata": {},
   "outputs": [
    {
     "name": "stdout",
     "output_type": "stream",
     "text": [
      "v\n",
      "Graph of years 1990-1994 is unconnected\n",
      "Size giant componenet = 8\n"
     ]
    }
   ],
   "source": [
    "def print_giant_component(num):\n",
    "    G = nx.from_pandas_edgelist(df_list[num],source='Investor_Name',target='Company_Name', edge_attr=['Company_Market','Raised_Amount_USD'], create_using=nx.Graph())\n",
    "    print('v')\n",
    "    if nx.is_connected(G):\n",
    "      print(\"Diameter(G)=\",nx.diameter(G))\n",
    "    else:\n",
    "        print(f'Graph of years {years_dict[num][0]}-{years_dict[num][1]} is unconnected')\n",
    "        print(\"Size giant componenet =\", len(max(nx.connected_components(G),key=len)))\n",
    "\n",
    "print_giant_component(0)"
   ]
  },
  {
   "cell_type": "code",
   "execution_count": 17,
   "metadata": {},
   "outputs": [
    {
     "data": {
      "image/png": "[encoded data removed]",
      "text/plain": [
       "<Figure size 1080x720 with 1 Axes>"
      ]
     },
     "metadata": {},
     "output_type": "display_data"
    }
   ],
   "source": [
    "def plot_company_market_distribution(num): \n",
    "    df_list[num].Company_Market.value_counts().head(15).plot.pie(figsize=(15,10),autopct='%1.0f%%',fontsize=13)\n",
    "    plt.title('Investments Distribution by Company Market\\n\\n', fontsize=20, fontweight='bold',color='tomato')\n",
    "    plt.axis('equal')\n",
    "\n",
    "plot_company_market_distribution(0)"
   ]
  },
  {
   "cell_type": "markdown",
   "metadata": {},
   "source": [
    "Graphs - number of edges\n",
    "years_range = [(1990, 1994), (1995, 1999), (2000, 2004), (2005,2009), (2010, 2014)]"
   ]
  },
  {
   "cell_type": "code",
   "execution_count": 18,
   "metadata": {},
   "outputs": [],
   "source": [
    "# def get_in_out_nodes(g, investors:pd.DataFrame, company_name: pd.DataFrame):\n",
    "#     \"\"\"\n",
    "#     Split degrees to companies and investors (inbound, outbound)\n",
    "#     :param g: graph\n",
    "#     :param investors: investors DF\n",
    "#     :param company_name: comapnies DF\n",
    "#     \"\"\"\n",
    "#     all_degrees = g.degree\n",
    "#     in_nodes = defaultdict(int)\n",
    "#     out_nodes = defaultdict(int)\n",
    "\n",
    "#     for company, n_edges in all_degrees:\n",
    "#         if company in investors.values:\n",
    "#             out_nodes[company] = n_edges\n",
    "#         elif company in company_name.values:\n",
    "#             in_nodes[company] = n_edges\n",
    "\n",
    "#     print(\"Invested in companies (inbound)\")\n",
    "#     # print(dict(in_nodes))\n",
    "#     print(in_nodes)\n",
    "#     print(\"\\n\")\n",
    "#     print(\"Investing companies (outbound)\")\n",
    "#     # print(dict(out_nodes))\n",
    "#     print(out_nodes)\n",
    "#     return in_nodes, out_nodes\n",
    "\n",
    "# def avg_degree(nodes:dict):\n",
    "#     \"\"\"\n",
    "#     Calculate the average degree of the nodes in the graph\n",
    "#     :param nodes: dictionary of node_name(str): degree(int)\n",
    "#     \"\"\"\n",
    "#     return sum([degree for degree in nodes.values()]) / len(nodes)\n",
    "\n",
    "# g = graph_list[0]\n",
    "# investing_companies = df_list[0]['Investor_Name']\n",
    "# invested_companies = df_list[0]['Company_Name']\n",
    "# inbound, outbound = get_in_out_nodes(g, investing_companies, invested_companies)\n",
    "# print(avg_degree(inbound))\n",
    "# print(avg_degree(outbound))\n"
   ]
  },
  {
   "cell_type": "code",
   "execution_count": 19,
   "metadata": {},
   "outputs": [],
   "source": [
    "def build_centrality_table(num):    \n",
    "    G = nx.from_pandas_edgelist(df_list[num],source='Investor_Name',target='Company_Name', edge_attr=['Company_Market','Raised_Amount_USD'], create_using=nx.DiGraph())\n",
    "    nodes = pd.DataFrame(list(G.nodes))\n",
    "    #degree_centrality, in_degree_centrality, out_degree_centrality, betweenness_centrality and closeness_centrality\n",
    "    measures = {'Degree': nx.degree_centrality,'In-Degree': nx.in_degree_centrality,'Out-Degree': nx.out_degree_centrality,'Betweenness': nx.betweenness_centrality,'Closeness': nx.closeness_centrality}\n",
    "\n",
    "    for name, measure in measures.items():\n",
    "        if name == 'Betweenness':\n",
    "            centrality_dict = measure(G,k=min(len(G.nodes),2000))\n",
    "        else:\n",
    "            centrality_dict = measure(G)\n",
    "        nodes[name] = nodes[0].apply(lambda x: centrality_dict.get(x, None))\n",
    "    return nodes"
   ]
  },
  {
   "cell_type": "code",
   "execution_count": 20,
   "metadata": {},
   "outputs": [
    {
     "data": {
      "text/html": [
       "<div>\n",
       "<style scoped>\n",
       "    .dataframe tbody tr th:only-of-type {\n",
       "        vertical-align: middle;\n",
       "    }\n",
       "\n",
       "    .dataframe tbody tr th {\n",
       "        vertical-align: top;\n",
       "    }\n",
       "\n",
       "    .dataframe thead th {\n",
       "        text-align: right;\n",
       "    }\n",
       "</style>\n",
       "<table border=\"1\" class=\"dataframe\">\n",
       "  <thead>\n",
       "    <tr style=\"text-align: right;\">\n",
       "      <th></th>\n",
       "      <th>Company Name</th>\n",
       "      <th>Degree</th>\n",
       "      <th>In-Degree</th>\n",
       "      <th>Out-Degree</th>\n",
       "      <th>Betweenness</th>\n",
       "      <th>Closeness</th>\n",
       "    </tr>\n",
       "  </thead>\n",
       "  <tbody>\n",
       "    <tr>\n",
       "      <th>0</th>\n",
       "      <td>William Lohse</td>\n",
       "      <td>0.05</td>\n",
       "      <td>0.00</td>\n",
       "      <td>0.05</td>\n",
       "      <td>0.0</td>\n",
       "      <td>0.00</td>\n",
       "    </tr>\n",
       "    <tr>\n",
       "      <th>1</th>\n",
       "      <td>Knowledge Adventure</td>\n",
       "      <td>0.05</td>\n",
       "      <td>0.05</td>\n",
       "      <td>0.00</td>\n",
       "      <td>0.0</td>\n",
       "      <td>0.05</td>\n",
       "    </tr>\n",
       "    <tr>\n",
       "      <th>2</th>\n",
       "      <td>Hummer Winblad Venture Partners</td>\n",
       "      <td>0.05</td>\n",
       "      <td>0.00</td>\n",
       "      <td>0.05</td>\n",
       "      <td>0.0</td>\n",
       "      <td>0.00</td>\n",
       "    </tr>\n",
       "    <tr>\n",
       "      <th>3</th>\n",
       "      <td>Market Wire</td>\n",
       "      <td>0.35</td>\n",
       "      <td>0.35</td>\n",
       "      <td>0.00</td>\n",
       "      <td>0.0</td>\n",
       "      <td>0.35</td>\n",
       "    </tr>\n",
       "    <tr>\n",
       "      <th>4</th>\n",
       "      <td>Mindful Investors</td>\n",
       "      <td>0.05</td>\n",
       "      <td>0.00</td>\n",
       "      <td>0.05</td>\n",
       "      <td>0.0</td>\n",
       "      <td>0.00</td>\n",
       "    </tr>\n",
       "    <tr>\n",
       "      <th>5</th>\n",
       "      <td>Montreux Equity Partners</td>\n",
       "      <td>0.05</td>\n",
       "      <td>0.00</td>\n",
       "      <td>0.05</td>\n",
       "      <td>0.0</td>\n",
       "      <td>0.00</td>\n",
       "    </tr>\n",
       "    <tr>\n",
       "      <th>6</th>\n",
       "      <td>Osprey Ventures</td>\n",
       "      <td>0.05</td>\n",
       "      <td>0.00</td>\n",
       "      <td>0.05</td>\n",
       "      <td>0.0</td>\n",
       "      <td>0.00</td>\n",
       "    </tr>\n",
       "    <tr>\n",
       "      <th>7</th>\n",
       "      <td>Perkins Coie</td>\n",
       "      <td>0.05</td>\n",
       "      <td>0.00</td>\n",
       "      <td>0.05</td>\n",
       "      <td>0.0</td>\n",
       "      <td>0.00</td>\n",
       "    </tr>\n",
       "    <tr>\n",
       "      <th>8</th>\n",
       "      <td>Sequoia Capital</td>\n",
       "      <td>0.05</td>\n",
       "      <td>0.00</td>\n",
       "      <td>0.05</td>\n",
       "      <td>0.0</td>\n",
       "      <td>0.00</td>\n",
       "    </tr>\n",
       "    <tr>\n",
       "      <th>9</th>\n",
       "      <td>Stanford University</td>\n",
       "      <td>0.05</td>\n",
       "      <td>0.00</td>\n",
       "      <td>0.05</td>\n",
       "      <td>0.0</td>\n",
       "      <td>0.00</td>\n",
       "    </tr>\n",
       "    <tr>\n",
       "      <th>10</th>\n",
       "      <td>Motorola Solutions Venture Capital</td>\n",
       "      <td>0.05</td>\n",
       "      <td>0.00</td>\n",
       "      <td>0.05</td>\n",
       "      <td>0.0</td>\n",
       "      <td>0.00</td>\n",
       "    </tr>\n",
       "    <tr>\n",
       "      <th>11</th>\n",
       "      <td>Viewpoint Digital</td>\n",
       "      <td>0.20</td>\n",
       "      <td>0.20</td>\n",
       "      <td>0.00</td>\n",
       "      <td>0.0</td>\n",
       "      <td>0.20</td>\n",
       "    </tr>\n",
       "    <tr>\n",
       "      <th>12</th>\n",
       "      <td>Hummer Winblad</td>\n",
       "      <td>0.05</td>\n",
       "      <td>0.00</td>\n",
       "      <td>0.05</td>\n",
       "      <td>0.0</td>\n",
       "      <td>0.00</td>\n",
       "    </tr>\n",
       "    <tr>\n",
       "      <th>13</th>\n",
       "      <td>Intel</td>\n",
       "      <td>0.05</td>\n",
       "      <td>0.00</td>\n",
       "      <td>0.05</td>\n",
       "      <td>0.0</td>\n",
       "      <td>0.00</td>\n",
       "    </tr>\n",
       "    <tr>\n",
       "      <th>14</th>\n",
       "      <td>Kleiner Perkins Caufield &amp; Byers</td>\n",
       "      <td>0.05</td>\n",
       "      <td>0.00</td>\n",
       "      <td>0.05</td>\n",
       "      <td>0.0</td>\n",
       "      <td>0.00</td>\n",
       "    </tr>\n",
       "    <tr>\n",
       "      <th>15</th>\n",
       "      <td>eXeed Technology</td>\n",
       "      <td>0.05</td>\n",
       "      <td>0.00</td>\n",
       "      <td>0.05</td>\n",
       "      <td>0.0</td>\n",
       "      <td>0.00</td>\n",
       "    </tr>\n",
       "    <tr>\n",
       "      <th>16</th>\n",
       "      <td>ActionBase</td>\n",
       "      <td>0.05</td>\n",
       "      <td>0.05</td>\n",
       "      <td>0.00</td>\n",
       "      <td>0.0</td>\n",
       "      <td>0.05</td>\n",
       "    </tr>\n",
       "    <tr>\n",
       "      <th>17</th>\n",
       "      <td>IDG Capital Partners</td>\n",
       "      <td>0.05</td>\n",
       "      <td>0.00</td>\n",
       "      <td>0.05</td>\n",
       "      <td>0.0</td>\n",
       "      <td>0.00</td>\n",
       "    </tr>\n",
       "    <tr>\n",
       "      <th>18</th>\n",
       "      <td>Infotop</td>\n",
       "      <td>0.05</td>\n",
       "      <td>0.05</td>\n",
       "      <td>0.00</td>\n",
       "      <td>0.0</td>\n",
       "      <td>0.05</td>\n",
       "    </tr>\n",
       "    <tr>\n",
       "      <th>19</th>\n",
       "      <td>Edmond de Rothschild Venture Capital</td>\n",
       "      <td>0.05</td>\n",
       "      <td>0.00</td>\n",
       "      <td>0.05</td>\n",
       "      <td>0.0</td>\n",
       "      <td>0.00</td>\n",
       "    </tr>\n",
       "    <tr>\n",
       "      <th>20</th>\n",
       "      <td>MediaLink</td>\n",
       "      <td>0.05</td>\n",
       "      <td>0.05</td>\n",
       "      <td>0.00</td>\n",
       "      <td>0.0</td>\n",
       "      <td>0.05</td>\n",
       "    </tr>\n",
       "  </tbody>\n",
       "</table>\n",
       "</div>"
      ],
      "text/plain": [
       "                            Company Name  Degree  In-Degree  Out-Degree  \\\n",
       "0                          William Lohse    0.05       0.00        0.05   \n",
       "1                    Knowledge Adventure    0.05       0.05        0.00   \n",
       "2        Hummer Winblad Venture Partners    0.05       0.00        0.05   \n",
       "3                            Market Wire    0.35       0.35        0.00   \n",
       "4                      Mindful Investors    0.05       0.00        0.05   \n",
       "5               Montreux Equity Partners    0.05       0.00        0.05   \n",
       "6                        Osprey Ventures    0.05       0.00        0.05   \n",
       "7                           Perkins Coie    0.05       0.00        0.05   \n",
       "8                        Sequoia Capital    0.05       0.00        0.05   \n",
       "9                    Stanford University    0.05       0.00        0.05   \n",
       "10    Motorola Solutions Venture Capital    0.05       0.00        0.05   \n",
       "11                     Viewpoint Digital    0.20       0.20        0.00   \n",
       "12                        Hummer Winblad    0.05       0.00        0.05   \n",
       "13                                 Intel    0.05       0.00        0.05   \n",
       "14      Kleiner Perkins Caufield & Byers    0.05       0.00        0.05   \n",
       "15                      eXeed Technology    0.05       0.00        0.05   \n",
       "16                            ActionBase    0.05       0.05        0.00   \n",
       "17                  IDG Capital Partners    0.05       0.00        0.05   \n",
       "18                               Infotop    0.05       0.05        0.00   \n",
       "19  Edmond de Rothschild Venture Capital    0.05       0.00        0.05   \n",
       "20                             MediaLink    0.05       0.05        0.00   \n",
       "\n",
       "    Betweenness  Closeness  \n",
       "0           0.0       0.00  \n",
       "1           0.0       0.05  \n",
       "2           0.0       0.00  \n",
       "3           0.0       0.35  \n",
       "4           0.0       0.00  \n",
       "5           0.0       0.00  \n",
       "6           0.0       0.00  \n",
       "7           0.0       0.00  \n",
       "8           0.0       0.00  \n",
       "9           0.0       0.00  \n",
       "10          0.0       0.00  \n",
       "11          0.0       0.20  \n",
       "12          0.0       0.00  \n",
       "13          0.0       0.00  \n",
       "14          0.0       0.00  \n",
       "15          0.0       0.00  \n",
       "16          0.0       0.05  \n",
       "17          0.0       0.00  \n",
       "18          0.0       0.05  \n",
       "19          0.0       0.00  \n",
       "20          0.0       0.05  "
      ]
     },
     "execution_count": 20,
     "metadata": {},
     "output_type": "execute_result"
    }
   ],
   "source": [
    "centrality_table = build_centrality_table(0).rename(columns={0: \"Company Name\"})\n",
    "centrality_table"
   ]
  },
  {
   "cell_type": "code",
   "execution_count": 21,
   "metadata": {},
   "outputs": [],
   "source": [
    "def print_centralization(num,measure):    \n",
    "    table = centrality_table.sort_values([measure],ascending=False).head(10)[['Company Name',measure]]\n",
    "    max_centrality = table.max()[1]\n",
    "    G = nx.from_pandas_edgelist(df_list[num],source='Investor_Name',target='Company_Name', edge_attr=['Company_Market','Raised_Amount_USD'], create_using=nx.DiGraph())\n",
    "    table['difference'] = max_centrality-table[measure]\n",
    "    centralization = table['difference'].sum()/((G.number_of_nodes()-1)*(G.number_of_nodes()-2))\n",
    "    print(f'The centralization is {centralization}')"
   ]
  },
  {
   "cell_type": "code",
   "execution_count": 22,
   "metadata": {},
   "outputs": [
    {
     "data": {
      "text/html": [
       "<div>\n",
       "<style scoped>\n",
       "    .dataframe tbody tr th:only-of-type {\n",
       "        vertical-align: middle;\n",
       "    }\n",
       "\n",
       "    .dataframe tbody tr th {\n",
       "        vertical-align: top;\n",
       "    }\n",
       "\n",
       "    .dataframe thead th {\n",
       "        text-align: right;\n",
       "    }\n",
       "</style>\n",
       "<table border=\"1\" class=\"dataframe\">\n",
       "  <thead>\n",
       "    <tr style=\"text-align: right;\">\n",
       "      <th></th>\n",
       "      <th>Company Name</th>\n",
       "      <th>Degree</th>\n",
       "    </tr>\n",
       "  </thead>\n",
       "  <tbody>\n",
       "    <tr>\n",
       "      <th>3</th>\n",
       "      <td>Market Wire</td>\n",
       "      <td>0.35</td>\n",
       "    </tr>\n",
       "    <tr>\n",
       "      <th>11</th>\n",
       "      <td>Viewpoint Digital</td>\n",
       "      <td>0.20</td>\n",
       "    </tr>\n",
       "    <tr>\n",
       "      <th>0</th>\n",
       "      <td>William Lohse</td>\n",
       "      <td>0.05</td>\n",
       "    </tr>\n",
       "    <tr>\n",
       "      <th>19</th>\n",
       "      <td>Edmond de Rothschild Venture Capital</td>\n",
       "      <td>0.05</td>\n",
       "    </tr>\n",
       "    <tr>\n",
       "      <th>18</th>\n",
       "      <td>Infotop</td>\n",
       "      <td>0.05</td>\n",
       "    </tr>\n",
       "    <tr>\n",
       "      <th>17</th>\n",
       "      <td>IDG Capital Partners</td>\n",
       "      <td>0.05</td>\n",
       "    </tr>\n",
       "    <tr>\n",
       "      <th>16</th>\n",
       "      <td>ActionBase</td>\n",
       "      <td>0.05</td>\n",
       "    </tr>\n",
       "    <tr>\n",
       "      <th>15</th>\n",
       "      <td>eXeed Technology</td>\n",
       "      <td>0.05</td>\n",
       "    </tr>\n",
       "    <tr>\n",
       "      <th>14</th>\n",
       "      <td>Kleiner Perkins Caufield &amp; Byers</td>\n",
       "      <td>0.05</td>\n",
       "    </tr>\n",
       "    <tr>\n",
       "      <th>13</th>\n",
       "      <td>Intel</td>\n",
       "      <td>0.05</td>\n",
       "    </tr>\n",
       "  </tbody>\n",
       "</table>\n",
       "</div>"
      ],
      "text/plain": [
       "                            Company Name  Degree\n",
       "3                            Market Wire    0.35\n",
       "11                     Viewpoint Digital    0.20\n",
       "0                          William Lohse    0.05\n",
       "19  Edmond de Rothschild Venture Capital    0.05\n",
       "18                               Infotop    0.05\n",
       "17                  IDG Capital Partners    0.05\n",
       "16                            ActionBase    0.05\n",
       "15                      eXeed Technology    0.05\n",
       "14      Kleiner Perkins Caufield & Byers    0.05\n",
       "13                                 Intel    0.05"
      ]
     },
     "execution_count": 22,
     "metadata": {},
     "output_type": "execute_result"
    }
   ],
   "source": [
    "centrality_table.sort_values(['Degree'],ascending=False).head(10)[['Company Name','Degree']]"
   ]
  },
  {
   "cell_type": "code",
   "execution_count": 23,
   "metadata": {},
   "outputs": [
    {
     "name": "stdout",
     "output_type": "stream",
     "text": [
      "The centralization is 0.006710526315789473\n"
     ]
    }
   ],
   "source": [
    "print_centralization(0,'Degree')"
   ]
  },
  {
   "cell_type": "code",
   "execution_count": 24,
   "metadata": {},
   "outputs": [
    {
     "data": {
      "text/html": [
       "<div>\n",
       "<style scoped>\n",
       "    .dataframe tbody tr th:only-of-type {\n",
       "        vertical-align: middle;\n",
       "    }\n",
       "\n",
       "    .dataframe tbody tr th {\n",
       "        vertical-align: top;\n",
       "    }\n",
       "\n",
       "    .dataframe thead th {\n",
       "        text-align: right;\n",
       "    }\n",
       "</style>\n",
       "<table border=\"1\" class=\"dataframe\">\n",
       "  <thead>\n",
       "    <tr style=\"text-align: right;\">\n",
       "      <th></th>\n",
       "      <th>Company Name</th>\n",
       "      <th>In-Degree</th>\n",
       "    </tr>\n",
       "  </thead>\n",
       "  <tbody>\n",
       "    <tr>\n",
       "      <th>3</th>\n",
       "      <td>Market Wire</td>\n",
       "      <td>0.35</td>\n",
       "    </tr>\n",
       "    <tr>\n",
       "      <th>11</th>\n",
       "      <td>Viewpoint Digital</td>\n",
       "      <td>0.20</td>\n",
       "    </tr>\n",
       "    <tr>\n",
       "      <th>20</th>\n",
       "      <td>MediaLink</td>\n",
       "      <td>0.05</td>\n",
       "    </tr>\n",
       "    <tr>\n",
       "      <th>18</th>\n",
       "      <td>Infotop</td>\n",
       "      <td>0.05</td>\n",
       "    </tr>\n",
       "    <tr>\n",
       "      <th>16</th>\n",
       "      <td>ActionBase</td>\n",
       "      <td>0.05</td>\n",
       "    </tr>\n",
       "    <tr>\n",
       "      <th>1</th>\n",
       "      <td>Knowledge Adventure</td>\n",
       "      <td>0.05</td>\n",
       "    </tr>\n",
       "    <tr>\n",
       "      <th>12</th>\n",
       "      <td>Hummer Winblad</td>\n",
       "      <td>0.00</td>\n",
       "    </tr>\n",
       "    <tr>\n",
       "      <th>19</th>\n",
       "      <td>Edmond de Rothschild Venture Capital</td>\n",
       "      <td>0.00</td>\n",
       "    </tr>\n",
       "    <tr>\n",
       "      <th>17</th>\n",
       "      <td>IDG Capital Partners</td>\n",
       "      <td>0.00</td>\n",
       "    </tr>\n",
       "    <tr>\n",
       "      <th>15</th>\n",
       "      <td>eXeed Technology</td>\n",
       "      <td>0.00</td>\n",
       "    </tr>\n",
       "  </tbody>\n",
       "</table>\n",
       "</div>"
      ],
      "text/plain": [
       "                            Company Name  In-Degree\n",
       "3                            Market Wire       0.35\n",
       "11                     Viewpoint Digital       0.20\n",
       "20                             MediaLink       0.05\n",
       "18                               Infotop       0.05\n",
       "16                            ActionBase       0.05\n",
       "1                    Knowledge Adventure       0.05\n",
       "12                        Hummer Winblad       0.00\n",
       "19  Edmond de Rothschild Venture Capital       0.00\n",
       "17                  IDG Capital Partners       0.00\n",
       "15                      eXeed Technology       0.00"
      ]
     },
     "execution_count": 24,
     "metadata": {},
     "output_type": "execute_result"
    }
   ],
   "source": [
    "centrality_table.sort_values(['In-Degree'],ascending=False).head(10)[['Company Name','In-Degree']]"
   ]
  },
  {
   "cell_type": "code",
   "execution_count": 25,
   "metadata": {},
   "outputs": [
    {
     "name": "stdout",
     "output_type": "stream",
     "text": [
      "The centralization is 0.007236842105263159\n"
     ]
    }
   ],
   "source": [
    "print_centralization(0,'In-Degree')"
   ]
  },
  {
   "cell_type": "code",
   "execution_count": 26,
   "metadata": {},
   "outputs": [
    {
     "data": {
      "text/html": [
       "<div>\n",
       "<style scoped>\n",
       "    .dataframe tbody tr th:only-of-type {\n",
       "        vertical-align: middle;\n",
       "    }\n",
       "\n",
       "    .dataframe tbody tr th {\n",
       "        vertical-align: top;\n",
       "    }\n",
       "\n",
       "    .dataframe thead th {\n",
       "        text-align: right;\n",
       "    }\n",
       "</style>\n",
       "<table border=\"1\" class=\"dataframe\">\n",
       "  <thead>\n",
       "    <tr style=\"text-align: right;\">\n",
       "      <th></th>\n",
       "      <th>Company Name</th>\n",
       "      <th>Out-Degree</th>\n",
       "    </tr>\n",
       "  </thead>\n",
       "  <tbody>\n",
       "    <tr>\n",
       "      <th>0</th>\n",
       "      <td>William Lohse</td>\n",
       "      <td>0.05</td>\n",
       "    </tr>\n",
       "    <tr>\n",
       "      <th>9</th>\n",
       "      <td>Stanford University</td>\n",
       "      <td>0.05</td>\n",
       "    </tr>\n",
       "    <tr>\n",
       "      <th>19</th>\n",
       "      <td>Edmond de Rothschild Venture Capital</td>\n",
       "      <td>0.05</td>\n",
       "    </tr>\n",
       "    <tr>\n",
       "      <th>17</th>\n",
       "      <td>IDG Capital Partners</td>\n",
       "      <td>0.05</td>\n",
       "    </tr>\n",
       "    <tr>\n",
       "      <th>15</th>\n",
       "      <td>eXeed Technology</td>\n",
       "      <td>0.05</td>\n",
       "    </tr>\n",
       "    <tr>\n",
       "      <th>14</th>\n",
       "      <td>Kleiner Perkins Caufield &amp; Byers</td>\n",
       "      <td>0.05</td>\n",
       "    </tr>\n",
       "    <tr>\n",
       "      <th>13</th>\n",
       "      <td>Intel</td>\n",
       "      <td>0.05</td>\n",
       "    </tr>\n",
       "    <tr>\n",
       "      <th>12</th>\n",
       "      <td>Hummer Winblad</td>\n",
       "      <td>0.05</td>\n",
       "    </tr>\n",
       "    <tr>\n",
       "      <th>10</th>\n",
       "      <td>Motorola Solutions Venture Capital</td>\n",
       "      <td>0.05</td>\n",
       "    </tr>\n",
       "    <tr>\n",
       "      <th>8</th>\n",
       "      <td>Sequoia Capital</td>\n",
       "      <td>0.05</td>\n",
       "    </tr>\n",
       "  </tbody>\n",
       "</table>\n",
       "</div>"
      ],
      "text/plain": [
       "                            Company Name  Out-Degree\n",
       "0                          William Lohse        0.05\n",
       "9                    Stanford University        0.05\n",
       "19  Edmond de Rothschild Venture Capital        0.05\n",
       "17                  IDG Capital Partners        0.05\n",
       "15                      eXeed Technology        0.05\n",
       "14      Kleiner Perkins Caufield & Byers        0.05\n",
       "13                                 Intel        0.05\n",
       "12                        Hummer Winblad        0.05\n",
       "10    Motorola Solutions Venture Capital        0.05\n",
       "8                        Sequoia Capital        0.05"
      ]
     },
     "execution_count": 26,
     "metadata": {},
     "output_type": "execute_result"
    }
   ],
   "source": [
    "centrality_table.sort_values(['Out-Degree'],ascending=False).head(10)[['Company Name','Out-Degree']]"
   ]
  },
  {
   "cell_type": "code",
   "execution_count": 27,
   "metadata": {},
   "outputs": [
    {
     "name": "stdout",
     "output_type": "stream",
     "text": [
      "The centralization is 0.0\n"
     ]
    }
   ],
   "source": [
    "print_centralization(0,'Out-Degree')"
   ]
  },
  {
   "cell_type": "code",
   "execution_count": 28,
   "metadata": {},
   "outputs": [
    {
     "data": {
      "text/html": [
       "<div>\n",
       "<style scoped>\n",
       "    .dataframe tbody tr th:only-of-type {\n",
       "        vertical-align: middle;\n",
       "    }\n",
       "\n",
       "    .dataframe tbody tr th {\n",
       "        vertical-align: top;\n",
       "    }\n",
       "\n",
       "    .dataframe thead th {\n",
       "        text-align: right;\n",
       "    }\n",
       "</style>\n",
       "<table border=\"1\" class=\"dataframe\">\n",
       "  <thead>\n",
       "    <tr style=\"text-align: right;\">\n",
       "      <th></th>\n",
       "      <th>Company Name</th>\n",
       "      <th>Betweenness</th>\n",
       "    </tr>\n",
       "  </thead>\n",
       "  <tbody>\n",
       "    <tr>\n",
       "      <th>0</th>\n",
       "      <td>William Lohse</td>\n",
       "      <td>0.0</td>\n",
       "    </tr>\n",
       "    <tr>\n",
       "      <th>11</th>\n",
       "      <td>Viewpoint Digital</td>\n",
       "      <td>0.0</td>\n",
       "    </tr>\n",
       "    <tr>\n",
       "      <th>19</th>\n",
       "      <td>Edmond de Rothschild Venture Capital</td>\n",
       "      <td>0.0</td>\n",
       "    </tr>\n",
       "    <tr>\n",
       "      <th>18</th>\n",
       "      <td>Infotop</td>\n",
       "      <td>0.0</td>\n",
       "    </tr>\n",
       "    <tr>\n",
       "      <th>17</th>\n",
       "      <td>IDG Capital Partners</td>\n",
       "      <td>0.0</td>\n",
       "    </tr>\n",
       "    <tr>\n",
       "      <th>16</th>\n",
       "      <td>ActionBase</td>\n",
       "      <td>0.0</td>\n",
       "    </tr>\n",
       "    <tr>\n",
       "      <th>15</th>\n",
       "      <td>eXeed Technology</td>\n",
       "      <td>0.0</td>\n",
       "    </tr>\n",
       "    <tr>\n",
       "      <th>14</th>\n",
       "      <td>Kleiner Perkins Caufield &amp; Byers</td>\n",
       "      <td>0.0</td>\n",
       "    </tr>\n",
       "    <tr>\n",
       "      <th>13</th>\n",
       "      <td>Intel</td>\n",
       "      <td>0.0</td>\n",
       "    </tr>\n",
       "    <tr>\n",
       "      <th>12</th>\n",
       "      <td>Hummer Winblad</td>\n",
       "      <td>0.0</td>\n",
       "    </tr>\n",
       "  </tbody>\n",
       "</table>\n",
       "</div>"
      ],
      "text/plain": [
       "                            Company Name  Betweenness\n",
       "0                          William Lohse          0.0\n",
       "11                     Viewpoint Digital          0.0\n",
       "19  Edmond de Rothschild Venture Capital          0.0\n",
       "18                               Infotop          0.0\n",
       "17                  IDG Capital Partners          0.0\n",
       "16                            ActionBase          0.0\n",
       "15                      eXeed Technology          0.0\n",
       "14      Kleiner Perkins Caufield & Byers          0.0\n",
       "13                                 Intel          0.0\n",
       "12                        Hummer Winblad          0.0"
      ]
     },
     "execution_count": 28,
     "metadata": {},
     "output_type": "execute_result"
    }
   ],
   "source": [
    "centrality_table.sort_values(['Betweenness'],ascending=False).head(10)[['Company Name','Betweenness']]"
   ]
  },
  {
   "cell_type": "code",
   "execution_count": 29,
   "metadata": {},
   "outputs": [
    {
     "name": "stdout",
     "output_type": "stream",
     "text": [
      "The centralization is 0.0\n"
     ]
    }
   ],
   "source": [
    "print_centralization(0,'Betweenness')"
   ]
  },
  {
   "cell_type": "code",
   "execution_count": 30,
   "metadata": {},
   "outputs": [
    {
     "data": {
      "text/html": [
       "<div>\n",
       "<style scoped>\n",
       "    .dataframe tbody tr th:only-of-type {\n",
       "        vertical-align: middle;\n",
       "    }\n",
       "\n",
       "    .dataframe tbody tr th {\n",
       "        vertical-align: top;\n",
       "    }\n",
       "\n",
       "    .dataframe thead th {\n",
       "        text-align: right;\n",
       "    }\n",
       "</style>\n",
       "<table border=\"1\" class=\"dataframe\">\n",
       "  <thead>\n",
       "    <tr style=\"text-align: right;\">\n",
       "      <th></th>\n",
       "      <th>Company Name</th>\n",
       "      <th>Closeness</th>\n",
       "    </tr>\n",
       "  </thead>\n",
       "  <tbody>\n",
       "    <tr>\n",
       "      <th>3</th>\n",
       "      <td>Market Wire</td>\n",
       "      <td>0.35</td>\n",
       "    </tr>\n",
       "    <tr>\n",
       "      <th>11</th>\n",
       "      <td>Viewpoint Digital</td>\n",
       "      <td>0.20</td>\n",
       "    </tr>\n",
       "    <tr>\n",
       "      <th>20</th>\n",
       "      <td>MediaLink</td>\n",
       "      <td>0.05</td>\n",
       "    </tr>\n",
       "    <tr>\n",
       "      <th>18</th>\n",
       "      <td>Infotop</td>\n",
       "      <td>0.05</td>\n",
       "    </tr>\n",
       "    <tr>\n",
       "      <th>16</th>\n",
       "      <td>ActionBase</td>\n",
       "      <td>0.05</td>\n",
       "    </tr>\n",
       "    <tr>\n",
       "      <th>1</th>\n",
       "      <td>Knowledge Adventure</td>\n",
       "      <td>0.05</td>\n",
       "    </tr>\n",
       "    <tr>\n",
       "      <th>12</th>\n",
       "      <td>Hummer Winblad</td>\n",
       "      <td>0.00</td>\n",
       "    </tr>\n",
       "    <tr>\n",
       "      <th>19</th>\n",
       "      <td>Edmond de Rothschild Venture Capital</td>\n",
       "      <td>0.00</td>\n",
       "    </tr>\n",
       "    <tr>\n",
       "      <th>17</th>\n",
       "      <td>IDG Capital Partners</td>\n",
       "      <td>0.00</td>\n",
       "    </tr>\n",
       "    <tr>\n",
       "      <th>15</th>\n",
       "      <td>eXeed Technology</td>\n",
       "      <td>0.00</td>\n",
       "    </tr>\n",
       "  </tbody>\n",
       "</table>\n",
       "</div>"
      ],
      "text/plain": [
       "                            Company Name  Closeness\n",
       "3                            Market Wire       0.35\n",
       "11                     Viewpoint Digital       0.20\n",
       "20                             MediaLink       0.05\n",
       "18                               Infotop       0.05\n",
       "16                            ActionBase       0.05\n",
       "1                    Knowledge Adventure       0.05\n",
       "12                        Hummer Winblad       0.00\n",
       "19  Edmond de Rothschild Venture Capital       0.00\n",
       "17                  IDG Capital Partners       0.00\n",
       "15                      eXeed Technology       0.00"
      ]
     },
     "execution_count": 30,
     "metadata": {},
     "output_type": "execute_result"
    }
   ],
   "source": [
    "centrality_table.sort_values(['Closeness'],ascending=False).head(10)[['Company Name','Closeness']]"
   ]
  },
  {
   "cell_type": "code",
   "execution_count": 31,
   "metadata": {},
   "outputs": [
    {
     "name": "stdout",
     "output_type": "stream",
     "text": [
      "The centralization is 0.007236842105263158\n"
     ]
    }
   ],
   "source": [
    "print_centralization(0,'Closeness')"
   ]
  },
  {
   "cell_type": "code",
   "execution_count": 32,
   "metadata": {},
   "outputs": [
    {
     "name": "stdout",
     "output_type": "stream",
     "text": [
      "Average clustering coefficient for random graph is 0.07142857142857142\n"
     ]
    },
    {
     "data": {
      "image/png": "[encoded data removed]",
      "text/plain": [
       "<Figure size 432x432 with 1 Axes>"
      ]
     },
     "metadata": {
      "needs_background": "light"
     },
     "output_type": "display_data"
    }
   ],
   "source": [
    "def plot_clustering_coefficient(num):\n",
    "    G = nx.from_pandas_edgelist(df_list[num],source='Investor_Name',target='Company_Name', edge_attr=['Company_Market','Raised_Amount_USD'], create_using=nx.DiGraph())\n",
    "    clustering_dict = defaultdict(list)\n",
    "    for node in G.nodes():\n",
    "        k = G.degree(node)\n",
    "        clustering_dict[k].append(nx.clustering(G,node))\n",
    "    k_list = sorted(clustering_dict.keys())\n",
    "    clustering_list = []\n",
    "    for k in k_list:\n",
    "        clustering_list.append(np.mean(clustering_dict[k])) \n",
    "    fig = plt.figure(figsize=(6,6))\n",
    "    axes = fig.add_axes([1,1,1,1])\n",
    "    axes.loglog(k_list,clustering_list,'b.', markersize=15, alpha=0.5)\n",
    "    axes.set_xlabel('k')\n",
    "    axes.set_ylabel('C(k)')\n",
    "    axes.set_title('Average Clustering Coefficient (log scale)')\n",
    "    # fig.savefig(f'plots/clustering_coefficient_{num}.png', bbox_inches='tight')\n",
    "    N = G.number_of_nodes()\n",
    "    L = G.number_of_edges()\n",
    "    p = (2*L)/(N*(N-1))\n",
    "    print('Average clustering coefficient for random graph is {}'.format(p))\n",
    "    axes.plot(k_list,[p]*len(k_list))\n",
    "    plt.show()\n",
    "    \n",
    "plot_clustering_coefficient(0)"
   ]
  },
  {
   "cell_type": "code",
   "execution_count": 33,
   "metadata": {},
   "outputs": [],
   "source": [
    "def fit_func(x,a,mu):\n",
    "    return (a*x)**mu"
   ]
  },
  {
   "cell_type": "code",
   "execution_count": 34,
   "metadata": {},
   "outputs": [
    {
     "name": "stdout",
     "output_type": "stream",
     "text": [
      "Assortative graph with mu 0.185\n"
     ]
    },
    {
     "data": {
      "image/png": "[encoded data removed]",
      "text/plain": [
       "<Figure size 432x432 with 1 Axes>"
      ]
     },
     "metadata": {
      "needs_background": "light"
     },
     "output_type": "display_data"
    }
   ],
   "source": [
    "def plot_knn(num):\n",
    "    G = graph_list[num]\n",
    "    knn_dict = nx.k_nearest_neighbors(G)\n",
    "    k_lst = sorted(knn_dict.keys())\n",
    "    knn_lst = []\n",
    "    for k in k_lst:\n",
    "        knn_lst.append(knn_dict[k]) \n",
    "    fig = plt.figure(figsize=(6,6))\n",
    "    axes = fig.add_axes([1,1,1,1])\n",
    "    axes.loglog(k_lst,knn_lst,'b.', markersize=15, alpha=0.5)\n",
    "    axes.set_xlabel('k')\n",
    "    axes.set_ylabel('knn (k)')\n",
    "    axes.set_title('Average next neighbor degree')\n",
    "    try:\n",
    "        popt, pcov = curve_fit(fit_func, np.array(k_lst), np.array(knn_lst),maxfev=5000)\n",
    "        axes.loglog(np.array(k_lst), fit_func(np.array(k_lst), *popt), '--', c='gray')\n",
    "        axes.plot(np.array(k_lst), np.array([2*G.number_of_edges()/G.number_of_nodes()]*len(k_lst)))\n",
    "        if popt[1] > 0:\n",
    "            print(f'Assortative graph with mu {round(popt[1],3)}')\n",
    "        elif popt[1] < 0:\n",
    "            print(f'Disassortative graph with mu {round(popt[1],3)}')\n",
    "        else:\n",
    "            print(f'Neutral graph (mu = 0)')\n",
    "    except:\n",
    "        pass\n",
    "    # fig.savefig('plots/knn.png', bbox_inches='tight')\n",
    "    plt.show()\n",
    "    \n",
    "plot_knn(4)"
   ]
  },
  {
   "cell_type": "code",
   "execution_count": 35,
   "metadata": {},
   "outputs": [
    {
     "name": "stderr",
     "output_type": "stream",
     "text": [
      "<ipython-input-33-f04d1d35b1eb>:2: RuntimeWarning: invalid value encountered in power\n",
      "  return (a*x)**mu\n"
     ]
    },
    {
     "name": "stdout",
     "output_type": "stream",
     "text": [
      "Assortative graph with mu 8.499\n"
     ]
    },
    {
     "data": {
      "image/png": "[encoded data removed]",
      "text/plain": [
       "<Figure size 432x432 with 1 Axes>"
      ]
     },
     "metadata": {
      "needs_background": "light"
     },
     "output_type": "display_data"
    }
   ],
   "source": [
    "def plot_snn(num):\n",
    "    G = graph_list[num]\n",
    "    knn_dict = nx.k_nearest_neighbors(G,weight = 'Raised_Amount_USD')\n",
    "    k_lst = sorted(knn_dict.keys())\n",
    "    snn_lst = []\n",
    "    for k in k_lst:\n",
    "        snn_lst.append(knn_dict[k]) \n",
    "    fig = plt.figure(figsize=(6,6))\n",
    "    axes = fig.add_axes([1,1,1,1])\n",
    "    axes.loglog(k_lst,snn_lst,'b.', markersize=15, alpha=0.5)\n",
    "    axes.set_xlabel('k')\n",
    "    axes.set_ylabel('snn (k)')\n",
    "    axes.set_title('Average next neighbor degree')\n",
    "    try:\n",
    "        popt, pcov = curve_fit(fit_func, np.array(k_lst), np.array(snn_lst),maxfev=5000)\n",
    "        axes.loglog(np.array(k_lst), fit_func(np.array(k_lst), *popt), '--', c='gray')\n",
    "        axes.plot(np.array(k_lst), np.array([2*G.number_of_edges()/G.number_of_nodes()]*len(k_lst)))\n",
    "        if popt[1] > 0:\n",
    "            print(f'Assortative graph with mu {round(popt[1],3)}')\n",
    "        elif popt[1] < 0:\n",
    "            print(f'Disassortative graph with mu {round(popt[1],3)}')\n",
    "        else:\n",
    "            print(f'Neutral graph (mu = 0)')\n",
    "    except:\n",
    "        pass\n",
    "    # fig.savefig('plots/knn.png', bbox_inches='tight')\n",
    "    plt.show()\n",
    "    \n",
    "plot_snn(4)"
   ]
  },
  {
   "cell_type": "code",
   "execution_count": 36,
   "metadata": {},
   "outputs": [
    {
     "name": "stdout",
     "output_type": "stream",
     "text": [
      "Assortative graph with r = 0.001\n"
     ]
    }
   ],
   "source": [
    "def print_degree_correlation_coefficient(num):\n",
    "    G = graph_list[num]\n",
    "    calc = nx.degree_pearson_correlation_coefficient(G,x='in', y='in', weight='Raised_Amount_USD', nodes=None)\n",
    "    if calc > 0:\n",
    "        print(f'Assortative graph with r = {round(calc,3)}')\n",
    "    elif calc < 0:\n",
    "        print(f'Disassortative graph with r = {round(calc,3)}')\n",
    "    else:\n",
    "        print(f'Neutral graph (r = 0)')\n",
    "\n",
    "print_degree_correlation_coefficient(i)"
   ]
  },
  {
   "cell_type": "code",
   "execution_count": 37,
   "metadata": {},
   "outputs": [
    {
     "data": {
      "image/png": "[encoded data removed]",
      "text/plain": [
       "<Figure size 1080x576 with 1 Axes>"
      ]
     },
     "metadata": {
      "needs_background": "light"
     },
     "output_type": "display_data"
    }
   ],
   "source": [
    "def plot_weight_dist(num):\n",
    "    G = graph_list[num]\n",
    "    weight_list = sorted(list((nx.get_edge_attributes(G,'Raised_Amount_USD').values())))\n",
    "    weight_dict = defaultdict(int)\n",
    "    for w in weight_list:\n",
    "        weight_dict[w] += 1\n",
    "    weights = []\n",
    "    countsd = []\n",
    "    for weight,cnt in weight_dict.items():\n",
    "        weights.append(weight)\n",
    "        countsd.append(cnt)\n",
    "    plt.figure(figsize=(15,8))\n",
    "    plt.xlabel(\"Weights (M)\")\n",
    "    plt.ylabel(\"Number of weights\")\n",
    "    plt.title(f'Distribution of weights')\n",
    "    plt.plot(weights,countsd,c='r')\n",
    "    \n",
    "plot_weight_dist(2)"
   ]
  },
  {
   "cell_type": "code",
   "execution_count": 40,
   "metadata": {},
   "outputs": [],
   "source": [
    "# G = graph_list[2]\n",
    "# G = nx.from_pandas_edgelist(df_list[2],source='Investor_Name',target='Company_Name', edge_attr=['Company_Market','Raised_Amount_USD'], create_using=nx.Graph())\n",
    "# a = nx.shortest_path_length(G)\n",
    "# for i in a:\n",
    "#     print(i)"
   ]
  },
  {
   "cell_type": "code",
   "execution_count": 49,
   "metadata": {},
   "outputs": [],
   "source": [
    "def Communitys(num):\n",
    "    G = nx.from_pandas_edgelist(df_list[num],source='Investor_Name',target='Company_Name', edge_attr=['Company_Market','Raised_Amount_USD'], create_using=nx.Graph())\n",
    "    \n",
    "    #Using the Kernighan–Lin algorithm\n",
    "    KL_communities_generator = community.kernighan_lin_bisection(G,max_iter=10)\n",
    "    #Measuring partitions by modularity\n",
    "    print (community.modularity(G, KL_communities_generator))\n",
    "\n",
    "    #Communities with modularity\n",
    "    greedy_mod=greedy_modularity_communities(G)\n",
    "    print (community.modularity(G, greedy_mod))\n",
    "    \n",
    "    #Giravn _newman communities:\n",
    "    GN_communities_generator = c.girvan_newman(G)\n",
    "    for i in range(10):\n",
    "        communities= next(GN_communities_generator)\n",
    "\n",
    "    GN_comm_sets = sorted(map(sorted, communities))\n",
    "    #Measuring partitions by modularity\n",
    "    print (community.modularity(G, GN_comm_sets))\n",
    "    \n",
    "    #Louvain communities:\n",
    "    partition = community_louvain.best_partition(G)\n",
    "    \n",
    "    d_for_getting_num_of_com={}\n",
    "    for x in partition:\n",
    "        if partition[x] not in d_for_getting_num_of_com:\n",
    "            d_for_getting_num_of_com[partition[x]]=1\n",
    "    empty_lists = [ [] for l in range(len(d_for_getting_num_of_com) ) ]\n",
    "    \n",
    "    for node in partition:\n",
    "        empty_lists[partition[node]].append(node)\n",
    "    print (community.modularity(G,empty_lists))\n",
    "\n",
    "    return KL_communities_generator, greedy_mod, GN_comm_sets, partition\n",
    "\n",
    "print(Communitys(2))"
   ]
  },
  {
   "cell_type": "code",
   "execution_count": 39,
   "metadata": {},
   "outputs": [],
   "source": [
    "##############################################################\n",
    "####################### Do Not Delete ########################\n",
    "##############################################################\n",
    "\n",
    "# # Make the gephi's files\n",
    "# graph_list_for_attr = []\n",
    "# for i,df in enumerate(df_list):\n",
    "#     attr_dic = {x:y for x, y in zip(df['Company_Name'], df['Company_Market'])}\n",
    "#     attr_dic_fixed = {x:'Investors' for x in df['Investor_Name']}\n",
    "#     attr_dic_fixed.update(attr_dic)\n",
    "#     graph = nx.from_pandas_edgelist(df,source='Investor_Name',target='Company_Name', edge_attr=['Company_Market','Raised_Amount_USD'], create_using=nx.MultiDiGraph())\n",
    "#     nx.set_node_attributes(graph, attr_dic_fixed, name=\"Sector\")\n",
    "#     graph_list_for_attr.append(graph)\n",
    "#     nx.write_gexf(graph, f\"Gephi{i}.gexf\")"
   ]
  }
 ],
 "metadata": {
  "interpreter": {
   "hash": "22242a70a5b16cbf3283575093471ab2956477e2803ebb6a2c2a426c84b5a7d3"
  },
  "kernelspec": {
   "display_name": "Python 3.8.5 ('base')",
   "language": "python",
   "name": "python3"
  },
  "language_info": {
   "codemirror_mode": {
    "name": "ipython",
    "version": 3
   },
   "file_extension": ".py",
   "mimetype": "text/x-python",
   "name": "python",
   "nbconvert_exporter": "python",
   "pygments_lexer": "ipython3",
   "version": "3.8.5"
  },
  "orig_nbformat": 4
 },
 "nbformat": 4,
 "nbformat_minor": 2
}

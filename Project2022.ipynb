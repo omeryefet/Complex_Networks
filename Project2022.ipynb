{
 "cells": [
  {
   "cell_type": "code",
   "execution_count": 1,
   "metadata": {},
   "outputs": [],
   "source": [
    "import networkx as nx # the main libary we will use\n",
    "from networkx.algorithms import bipartite\n",
    "from networkx.algorithms import community\n",
    "import numpy as np\n",
    "import pandas as pd\n",
    "import matplotlib.pyplot as plt\n",
    "from scipy.optimize import curve_fit\n",
    "%matplotlib inline \n",
    "import networkx.algorithms.community\n",
    "from datetime import datetime, timedelta\n",
    "from datetime import date\n",
    "import powerlaw\n",
    "from collections import defaultdict, Counter\n",
    "from networkx.algorithms import community\n",
    "from networkx.algorithms import bipartite\n",
    "from networkx.algorithms import centrality as ce\n",
    "from networkx.algorithms import community as c"
   ]
  },
  {
   "cell_type": "code",
   "execution_count": 2,
   "metadata": {},
   "outputs": [],
   "source": [
    "file= 'data/Investments.xlsx'\n",
    "df = pd.read_excel(file)"
   ]
  },
  {
   "cell_type": "markdown",
   "metadata": {},
   "source": [
    "### Preprocess"
   ]
  },
  {
   "cell_type": "code",
   "execution_count": 3,
   "metadata": {},
   "outputs": [],
   "source": [
    "df = df[['company_name','company_market','investor_name','funded_year','raised_amount_usd']]\n",
    "df.rename(columns = {'company_name' : 'Company_Name', 'company_market' : 'Company_Market', 'investor_name':'Investor_Name', 'funded_year':'Funded_Year', 'raised_amount_usd':'Raised_Amount_USD'}, inplace = True)\n",
    "df = df.dropna()\n",
    "df = df[df.Raised_Amount_USD != 0]"
   ]
  },
  {
   "cell_type": "code",
   "execution_count": 4,
   "metadata": {},
   "outputs": [
    {
     "data": {
      "text/html": [
       "<div>\n",
       "<style scoped>\n",
       "    .dataframe tbody tr th:only-of-type {\n",
       "        vertical-align: middle;\n",
       "    }\n",
       "\n",
       "    .dataframe tbody tr th {\n",
       "        vertical-align: top;\n",
       "    }\n",
       "\n",
       "    .dataframe thead th {\n",
       "        text-align: right;\n",
       "    }\n",
       "</style>\n",
       "<table border=\"1\" class=\"dataframe\">\n",
       "  <thead>\n",
       "    <tr style=\"text-align: right;\">\n",
       "      <th></th>\n",
       "      <th>Company_Name</th>\n",
       "      <th>Company_Market</th>\n",
       "      <th>Investor_Name</th>\n",
       "      <th>Funded_Year</th>\n",
       "      <th>Raised_Amount_USD</th>\n",
       "    </tr>\n",
       "  </thead>\n",
       "  <tbody>\n",
       "    <tr>\n",
       "      <th>2</th>\n",
       "      <td>ABO Data</td>\n",
       "      <td>Enterprise Software</td>\n",
       "      <td>ANTONIO MURRONI</td>\n",
       "      <td>1979</td>\n",
       "      <td>1000000.0</td>\n",
       "    </tr>\n",
       "    <tr>\n",
       "      <th>3</th>\n",
       "      <td>ABO Data</td>\n",
       "      <td>Enterprise Software</td>\n",
       "      <td>FILIPPO Murroni</td>\n",
       "      <td>1979</td>\n",
       "      <td>1000000.0</td>\n",
       "    </tr>\n",
       "    <tr>\n",
       "      <th>19</th>\n",
       "      <td>Cisco</td>\n",
       "      <td>Software</td>\n",
       "      <td>Sequoia Capital</td>\n",
       "      <td>1987</td>\n",
       "      <td>2500000.0</td>\n",
       "    </tr>\n",
       "    <tr>\n",
       "      <th>31</th>\n",
       "      <td>Knowledge Adventure</td>\n",
       "      <td>Games</td>\n",
       "      <td>William Lohse</td>\n",
       "      <td>1990</td>\n",
       "      <td>60000.0</td>\n",
       "    </tr>\n",
       "    <tr>\n",
       "      <th>43</th>\n",
       "      <td>Market Wire</td>\n",
       "      <td>Advertising</td>\n",
       "      <td>Hummer Winblad Venture Partners</td>\n",
       "      <td>1990</td>\n",
       "      <td>17550000.0</td>\n",
       "    </tr>\n",
       "  </tbody>\n",
       "</table>\n",
       "</div>"
      ],
      "text/plain": [
       "           Company_Name       Company_Market                    Investor_Name  \\\n",
       "2              ABO Data  Enterprise Software                  ANTONIO MURRONI   \n",
       "3              ABO Data  Enterprise Software                  FILIPPO Murroni   \n",
       "19                Cisco             Software                  Sequoia Capital   \n",
       "31  Knowledge Adventure                Games                    William Lohse   \n",
       "43          Market Wire          Advertising  Hummer Winblad Venture Partners   \n",
       "\n",
       "    Funded_Year  Raised_Amount_USD  \n",
       "2          1979          1000000.0  \n",
       "3          1979          1000000.0  \n",
       "19         1987          2500000.0  \n",
       "31         1990            60000.0  \n",
       "43         1990         17550000.0  "
      ]
     },
     "execution_count": 4,
     "metadata": {},
     "output_type": "execute_result"
    }
   ],
   "source": [
    "df.head()"
   ]
  },
  {
   "cell_type": "code",
   "execution_count": 5,
   "metadata": {},
   "outputs": [
    {
     "data": {
      "text/plain": [
       "(99093, 5)"
      ]
     },
     "execution_count": 5,
     "metadata": {},
     "output_type": "execute_result"
    }
   ],
   "source": [
    "df.shape"
   ]
  },
  {
   "cell_type": "markdown",
   "metadata": {},
   "source": [
    "### Data exploration"
   ]
  },
  {
   "cell_type": "code",
   "execution_count": 6,
   "metadata": {},
   "outputs": [
    {
     "name": "stdout",
     "output_type": "stream",
     "text": [
      "Number of unique investors: 20158\n",
      "Number of unique companies: 24910\n",
      "Number of unique company markets: 695\n",
      "Number of unique years: [1979 1987 1990 1992 1994 1995 1996 1997 1998 1999 2000 2001 2002 2003\n",
      " 2004 2005 2006 2007 2008 2009 2010 2011 2012 2013 2014]\n"
     ]
    }
   ],
   "source": [
    "print(f\"Number of unique investors: {df['Investor_Name'].nunique()}\")\n",
    "print(f\"Number of unique companies: {df['Company_Name'].nunique()}\")\n",
    "print(f\"Number of unique company markets: {df['Company_Market'].nunique()}\")\n",
    "print(f\"Number of unique years: {df['Funded_Year'].unique()}\")"
   ]
  },
  {
   "cell_type": "markdown",
   "metadata": {},
   "source": [
    "### Building the network"
   ]
  },
  {
   "cell_type": "code",
   "execution_count": 7,
   "metadata": {},
   "outputs": [
    {
     "name": "stdout",
     "output_type": "stream",
     "text": [
      "MultiDiGraph with 44780 nodes and 99093 edges\n"
     ]
    },
    {
     "name": "stderr",
     "output_type": "stream",
     "text": [
      "<ipython-input-7-3dd5e1f2ff66>:3: DeprecationWarning: info is deprecated and will be removed in version 3.0.\n",
      "\n",
      "  print(nx.info(G_weighted_directed))\n"
     ]
    }
   ],
   "source": [
    "G_weighted_directed = nx.from_pandas_edgelist(df=df,source='Investor_Name',target='Company_Name',edge_attr=True,create_using=nx.MultiDiGraph())\n",
    "nodes = pd.DataFrame(list(G_weighted_directed.nodes))\n",
    "print(nx.info(G_weighted_directed))"
   ]
  },
  {
   "cell_type": "markdown",
   "metadata": {},
   "source": [
    "#### Split the data by years"
   ]
  },
  {
   "cell_type": "code",
   "execution_count": 8,
   "metadata": {},
   "outputs": [],
   "source": [
    "years_range = [(1990, 1994), (1995, 1999), (2000, 2004), (2005,2009), (2010, 2014)]\n",
    "# Split the data to years\n",
    "df_list =[df[(df['Funded_Year'] <= year_range[1]) & (df['Funded_Year'] >= year_range[0])] for year_range in years_range]"
   ]
  },
  {
   "cell_type": "code",
   "execution_count": 9,
   "metadata": {},
   "outputs": [
    {
     "name": "stdout",
     "output_type": "stream",
     "text": [
      "MultiDiGraph with 14250 nodes and 28455 edges\n",
      "defaultdict(<class 'int'>, {85: 1, 16: 56, 202: 1, 8: 312, 9: 236, 14: 66, 2: 2447, 61: 2, 11: 145, 23: 18, 4: 941, 18: 38, 10: 151, 47: 2, 94: 2, 97: 1, 41: 4, 69: 4, 5: 701, 77: 1, 19: 26, 3: 1466, 86: 1, 159: 1, 13: 82, 6: 520, 17: 32, 1: 6155, 111: 2, 15: 65, 35: 3, 12: 116, 255: 2, 37: 7, 26: 6, 7: 377, 109: 1, 52: 2, 40: 6, 22: 23, 95: 2, 119: 1, 20: 19, 53: 2, 66: 2, 81: 1, 43: 4, 34: 3, 49: 3, 83: 3, 29: 11, 65: 1, 25: 12, 93: 1, 30: 11, 39: 7, 112: 1, 51: 5, 46: 2, 48: 4, 256: 1, 59: 2, 120: 1, 38: 4, 63: 1, 24: 9, 50: 3, 36: 3, 31: 4, 27: 11, 33: 3, 45: 6, 168: 1, 42: 4, 75: 2, 218: 1, 32: 10, 102: 1, 116: 1, 114: 1, 88: 1, 21: 28, 58: 1, 104: 1, 54: 2, 98: 1, 44: 4, 80: 2, 106: 1, 117: 1, 28: 16, 72: 1, 133: 1, 68: 1, 56: 1, 60: 1, 82: 1})\n"
     ]
    },
    {
     "name": "stderr",
     "output_type": "stream",
     "text": [
      "<ipython-input-9-8901d999a897>:4: DeprecationWarning: info is deprecated and will be removed in version 3.0.\n",
      "\n",
      "  print(nx.info(G_weighted_directed))\n"
     ]
    },
    {
     "data": {
      "text/plain": [
       "Text(0.5, 1.0, 'Number of nodes vs Number of edges')"
      ]
     },
     "execution_count": 9,
     "metadata": {},
     "output_type": "execute_result"
    },
    {
     "data": {
      "text/plain": [
       "<Figure size 432x288 with 0 Axes>"
      ]
     },
     "metadata": {},
     "output_type": "display_data"
    },
    {
     "data": {
      "image/png": "[encoded data removed]",
      "text/plain": [
       "<Figure size 720x360 with 1 Axes>"
      ]
     },
     "metadata": {
      "needs_background": "light"
     },
     "output_type": "display_data"
    }
   ],
   "source": [
    "G_weighted_directed = nx.from_pandas_edgelist(df=df_list[3],source='Investor_Name',target='Company_Name',edge_attr=True,create_using=nx.MultiDiGraph())\n",
    "\n",
    "nodes = pd.DataFrame(list(G_weighted_directed.nodes))\n",
    "print(nx.info(G_weighted_directed))\n",
    "#degree_hist = nx.degree_histogram(G_weighted_directed)\n",
    "degrees = [G_weighted_directed.degree(n) for n in G_weighted_directed.nodes()]\n",
    "#print(sorted(G_weighted_directed.degree, key=lambda x: x[1], reverse=True))\n",
    "\n",
    "degs = defaultdict(int)\n",
    "for node, deg in G_weighted_directed.degree:\n",
    "    degs[deg] +=1\n",
    "print(degs)\n",
    "fig = plt.figure()\n",
    "fig, ax = plt.subplots(figsize=(10,5))\n",
    "ax.scatter(degs.keys(), degs.values())\n",
    "ax.set_yscale('log')\n",
    "ax.set_xscale('log')\n",
    "ax.set_xlabel(\"Node number (log scale)\")\n",
    "ax.set_ylabel(\"Number of edges (log scale)\")\n",
    "ax.set_title(\"Number of nodes vs Number of edges\")"
   ]
  },
  {
   "cell_type": "code",
   "execution_count": 10,
   "metadata": {},
   "outputs": [
    {
     "name": "stdout",
     "output_type": "stream",
     "text": [
      "MultiDiGraph with 44780 nodes and 99093 edges\n"
     ]
    },
    {
     "name": "stderr",
     "output_type": "stream",
     "text": [
      "<ipython-input-10-3dd5e1f2ff66>:3: DeprecationWarning: info is deprecated and will be removed in version 3.0.\n",
      "\n",
      "  print(nx.info(G_weighted_directed))\n"
     ]
    }
   ],
   "source": [
    "G_weighted_directed = nx.from_pandas_edgelist(df=df,source='Investor_Name',target='Company_Name',edge_attr=True,create_using=nx.MultiDiGraph())\n",
    "nodes = pd.DataFrame(list(G_weighted_directed.nodes))\n",
    "print(nx.info(G_weighted_directed))"
   ]
  },
  {
   "cell_type": "code",
   "execution_count": 11,
   "metadata": {},
   "outputs": [],
   "source": [
    "degree = dict(G_weighted_directed.in_degree)\n",
    "# print(degree)"
   ]
  },
  {
   "cell_type": "code",
   "execution_count": 12,
   "metadata": {},
   "outputs": [
    {
     "name": "stdout",
     "output_type": "stream",
     "text": [
      "Calculating best minimal value for power law fit\n",
      "gamma= 2.512713053215986\n"
     ]
    },
    {
     "data": {
      "image/png": "[encoded data removed]",
      "text/plain": [
       "<Figure size 432x288 with 1 Axes>"
      ]
     },
     "metadata": {
      "needs_background": "light"
     },
     "output_type": "display_data"
    }
   ],
   "source": [
    "degree_sequence = sorted([d for _, d in G_weighted_directed.degree()],reverse=True)\n",
    "figPDF = powerlaw.plot_pdf(degree_sequence,color='b')\n",
    "figPDF.set_ylabel(r\"p(k)\")\n",
    "figPDF.set_xlabel(r\"k\")\n",
    "fit = powerlaw.Fit(degree_sequence,discrete=True)\n",
    "gamma = fit.power_law.alpha\n",
    "print(\"gamma=\",gamma)"
   ]
  },
  {
   "cell_type": "code",
   "execution_count": 13,
   "metadata": {},
   "outputs": [
    {
     "data": {
      "image/png": "[encoded data removed]",
      "text/plain": [
       "<Figure size 432x288 with 1 Axes>"
      ]
     },
     "metadata": {},
     "output_type": "display_data"
    }
   ],
   "source": [
    "# Plot directional Graph\n",
    "\n",
    "# G = nx.MultiDiGraph()\n",
    "# edges = [df_list[3]]\n",
    "G = nx.from_pandas_edgelist(df=df_list[0],source='Investor_Name',target='Company_Name',edge_attr=True,create_using=nx.MultiDiGraph())\n",
    "pos = nx.spring_layout(G)\n",
    "nx.draw_networkx_nodes(G, pos, cmap=plt.get_cmap('jet'), node_size = 500)\n",
    "nx.draw_networkx_labels(G, pos)\n",
    "plt.show()"
   ]
  },
  {
   "cell_type": "code",
   "execution_count": null,
   "metadata": {},
   "outputs": [],
   "source": []
  }
 ],
 "metadata": {
  "interpreter": {
   "hash": "11938c6bc6919ae2720b4d5011047913343b08a43b18698fd82dedb0d4417594"
  },
  "kernelspec": {
   "display_name": "Python 3.9.5 64-bit",
   "language": "python",
   "name": "python3"
  },
  "language_info": {
   "codemirror_mode": {
    "name": "ipython",
    "version": 3
   },
   "file_extension": ".py",
   "mimetype": "text/x-python",
   "name": "python",
   "nbconvert_exporter": "python",
   "pygments_lexer": "ipython3",
   "version": "3.9.5"
  },
  "orig_nbformat": 4
 },
 "nbformat": 4,
 "nbformat_minor": 2
}

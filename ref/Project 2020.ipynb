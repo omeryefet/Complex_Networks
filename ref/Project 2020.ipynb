{
 "cells": [
  {
   "cell_type": "markdown",
   "metadata": {},
   "source": [
    "### Imports"
   ]
  },
  {
   "cell_type": "code",
   "execution_count": 1,
   "metadata": {},
   "outputs": [],
   "source": [
    "import networkx as nx # the main libary we will use\n",
    "from networkx.algorithms import bipartite\n",
    "from networkx.algorithms import community\n",
    "import numpy as np\n",
    "import pandas as pd\n",
    "import matplotlib.pyplot as plt\n",
    "from scipy.optimize import curve_fit\n",
    "%matplotlib inline \n",
    "import statistics\n",
    "import networkx.algorithms.community\n",
    "from datetime import datetime, timedelta\n",
    "from datetime import date\n",
    "import calendar\n",
    "\n",
    "from networkx.algorithms import community\n",
    "from networkx.algorithms import bipartite\n",
    "from networkx.algorithms import centrality as ce\n",
    "from networkx.algorithms import community as c\n",
    "import community as c2\n",
    "from community import community_louvain\n",
    "from networkx.algorithms.community import greedy_modularity_communities"
   ]
  },
  {
   "cell_type": "code",
   "execution_count": 2,
   "metadata": {},
   "outputs": [],
   "source": [
    "plt.rcParams.update({'font.size': 15})"
   ]
  },
  {
   "cell_type": "markdown",
   "metadata": {},
   "source": [
    "### Uploading Data"
   ]
  },
  {
   "cell_type": "code",
   "execution_count": 3,
   "metadata": {},
   "outputs": [],
   "source": [
    "file= 'scooter.csv'\n",
    "df = pd.read_csv(file)"
   ]
  },
  {
   "cell_type": "code",
   "execution_count": 4,
   "metadata": {},
   "outputs": [
    {
     "name": "stdout",
     "output_type": "stream",
     "text": [
      "The number of unique stert point is  275\n",
      "The number of unique end point is  293\n",
      "The number of unique route in the data is  10122\n"
     ]
    }
   ],
   "source": [
    "print(\"The number of unique stert point is \" , df[\"Start Centroid Location\"].nunique())\n",
    "print(\"The number of unique end point is \" , df[\"End Centroid Location\"].nunique())\n",
    "df[\"Route\"] = df[\"Start Centroid Location\"] + df[\"End Centroid Location\"]\n",
    "print(\"The number of unique route in the data is \" , df[\"Route\"].nunique())"
   ]
  },
  {
   "cell_type": "code",
   "execution_count": 5,
   "metadata": {},
   "outputs": [],
   "source": [
    "file= 'scooter.csv'\n",
    "df = pd.read_csv(file)"
   ]
  },
  {
   "cell_type": "code",
   "execution_count": 6,
   "metadata": {},
   "outputs": [
    {
     "data": {
      "text/plain": [
       "Trip ID                        0\n",
       "Start Time                     0\n",
       "End Time                       0\n",
       "Trip Distance                  0\n",
       "Trip Duration                  0\n",
       "Accuracy                       0\n",
       "Start Census Tract             0\n",
       "End Census Tract               0\n",
       "Start Community Area Number    0\n",
       "End Community Area Number      0\n",
       "Start Community Area Name      0\n",
       "End Community Area Name        0\n",
       "Start Centroid Latitude        0\n",
       "Start Centroid Longitude       0\n",
       "Start Centroid Location        0\n",
       "End Centroid Latitude          0\n",
       "End Centroid Longitude         0\n",
       "End Centroid Location          0\n",
       "start_date                     0\n",
       "start_day                      0\n",
       "dtype: int64"
      ]
     },
     "execution_count": 6,
     "metadata": {},
     "output_type": "execute_result"
    }
   ],
   "source": [
    "# Create day column\n",
    "df_new = df.copy().dropna()\n",
    "def change_to_date(x):\n",
    "    for i in range(len(x)):\n",
    "        if x[i] == \" \":\n",
    "            return x[:i]\n",
    "df_new[\"start_date\"] = df_new[\"Start Time\"].apply(change_to_date)\n",
    "df_new.start_date = pd.to_datetime(df_new.start_date, errors = 'coerce')\n",
    "df_new[\"start_day\"] = df_new[\"start_date\"].apply(lambda x : x.strftime('%A'))\n",
    "df_new.isnull().sum()"
   ]
  },
  {
   "cell_type": "code",
   "execution_count": 7,
   "metadata": {},
   "outputs": [],
   "source": [
    "#Round Location\n",
    "def change_location(x):\n",
    "    x = str(x)\n",
    "    if x[0] == \"-\":\n",
    "        return float(x[:7])\n",
    "    return float(x[:6])\n",
    "df_new[\"End Centroid Latitude\"] = df_new[\"End Centroid Latitude\"].apply(change_location)\n",
    "df_new[\"End Centroid Longitude\"] = df_new[\"End Centroid Longitude\"].apply(change_location)\n",
    "df_new[\"Start Centroid Latitude\"] = df_new[\"Start Centroid Latitude\"].apply(change_location)\n",
    "df_new[\"Start Centroid Longitude\"] = df_new[\"Start Centroid Longitude\"].apply(change_location)"
   ]
  },
  {
   "cell_type": "code",
   "execution_count": 8,
   "metadata": {
    "scrolled": true
   },
   "outputs": [
    {
     "data": {
      "text/html": [
       "<div>\n",
       "<style scoped>\n",
       "    .dataframe tbody tr th:only-of-type {\n",
       "        vertical-align: middle;\n",
       "    }\n",
       "\n",
       "    .dataframe tbody tr th {\n",
       "        vertical-align: top;\n",
       "    }\n",
       "\n",
       "    .dataframe thead th {\n",
       "        text-align: right;\n",
       "    }\n",
       "</style>\n",
       "<table border=\"1\" class=\"dataframe\">\n",
       "  <thead>\n",
       "    <tr style=\"text-align: right;\">\n",
       "      <th></th>\n",
       "      <th>Trip ID</th>\n",
       "      <th>Start Time</th>\n",
       "      <th>End Time</th>\n",
       "      <th>Trip Distance</th>\n",
       "      <th>Trip Duration</th>\n",
       "      <th>Accuracy</th>\n",
       "      <th>Start Census Tract</th>\n",
       "      <th>End Census Tract</th>\n",
       "      <th>Start Community Area Number</th>\n",
       "      <th>End Community Area Number</th>\n",
       "      <th>...</th>\n",
       "      <th>End Community Area Name</th>\n",
       "      <th>Start Centroid Latitude</th>\n",
       "      <th>Start Centroid Longitude</th>\n",
       "      <th>Start Centroid Location</th>\n",
       "      <th>End Centroid Latitude</th>\n",
       "      <th>End Centroid Longitude</th>\n",
       "      <th>End Centroid Location</th>\n",
       "      <th>start_day</th>\n",
       "      <th>POINT_START</th>\n",
       "      <th>POINT_END</th>\n",
       "    </tr>\n",
       "  </thead>\n",
       "  <tbody>\n",
       "    <tr>\n",
       "      <th>188</th>\n",
       "      <td>11d51170-55a6-7ac8-11d5-117055a67ac8</td>\n",
       "      <td>6/25/2019 12:00</td>\n",
       "      <td>6/25/2019 12:00</td>\n",
       "      <td>933</td>\n",
       "      <td>309</td>\n",
       "      <td>10</td>\n",
       "      <td>1.703183e+10</td>\n",
       "      <td>1.703183e+10</td>\n",
       "      <td>21.0</td>\n",
       "      <td>21.0</td>\n",
       "      <td>...</td>\n",
       "      <td>NEAR WEST SIDE</td>\n",
       "      <td>41.885</td>\n",
       "      <td>-87.657</td>\n",
       "      <td>POINT (-87.6572424682146 41.8852882458388)</td>\n",
       "      <td>41.879</td>\n",
       "      <td>-87.657</td>\n",
       "      <td>POINT (-87.65704538762 41.8790767308624)</td>\n",
       "      <td>Tuesday</td>\n",
       "      <td>(41.885,-87.657)</td>\n",
       "      <td>(41.879,-87.657)</td>\n",
       "    </tr>\n",
       "    <tr>\n",
       "      <th>191</th>\n",
       "      <td>11c86863-a0a3-6e40-11c8-6863a0a36e40</td>\n",
       "      <td>6/15/2019 21:00</td>\n",
       "      <td>6/15/2019 21:00</td>\n",
       "      <td>5713</td>\n",
       "      <td>1559</td>\n",
       "      <td>10</td>\n",
       "      <td>1.703183e+10</td>\n",
       "      <td>1.703124e+10</td>\n",
       "      <td>21.0</td>\n",
       "      <td>17.0</td>\n",
       "      <td>...</td>\n",
       "      <td>WEST TOWN</td>\n",
       "      <td>41.885</td>\n",
       "      <td>-87.657</td>\n",
       "      <td>POINT (-87.6572424682146 41.8852882458388)</td>\n",
       "      <td>41.908</td>\n",
       "      <td>-87.670</td>\n",
       "      <td>POINT (-87.670937488585 41.9083759393656)</td>\n",
       "      <td>Saturday</td>\n",
       "      <td>(41.885,-87.657)</td>\n",
       "      <td>(41.908,-87.67)</td>\n",
       "    </tr>\n",
       "    <tr>\n",
       "      <th>192</th>\n",
       "      <td>11cd39a6-2986-85a4-11cd-39a6298685a4</td>\n",
       "      <td>6/19/2019 13:00</td>\n",
       "      <td>6/19/2019 13:00</td>\n",
       "      <td>643</td>\n",
       "      <td>223</td>\n",
       "      <td>10</td>\n",
       "      <td>1.703183e+10</td>\n",
       "      <td>1.703183e+10</td>\n",
       "      <td>21.0</td>\n",
       "      <td>21.0</td>\n",
       "      <td>...</td>\n",
       "      <td>NEAR WEST SIDE</td>\n",
       "      <td>41.879</td>\n",
       "      <td>-87.657</td>\n",
       "      <td>POINT (-87.65704538762 41.8790767308624)</td>\n",
       "      <td>41.879</td>\n",
       "      <td>-87.657</td>\n",
       "      <td>POINT (-87.65704538762 41.8790767308624)</td>\n",
       "      <td>Wednesday</td>\n",
       "      <td>(41.879,-87.657)</td>\n",
       "      <td>(41.879,-87.657)</td>\n",
       "    </tr>\n",
       "    <tr>\n",
       "      <th>194</th>\n",
       "      <td>0fe7627a-31d1-496a-b565-48891708fab1</td>\n",
       "      <td>8/7/2019 18:00</td>\n",
       "      <td>8/7/2019 18:00</td>\n",
       "      <td>680</td>\n",
       "      <td>166</td>\n",
       "      <td>10</td>\n",
       "      <td>1.703124e+10</td>\n",
       "      <td>1.703183e+10</td>\n",
       "      <td>17.0</td>\n",
       "      <td>15.0</td>\n",
       "      <td>...</td>\n",
       "      <td>LOGAN SQUARE</td>\n",
       "      <td>41.906</td>\n",
       "      <td>-87.675</td>\n",
       "      <td>POINT (-87.6753102573397 41.9060233934322)</td>\n",
       "      <td>41.920</td>\n",
       "      <td>-87.679</td>\n",
       "      <td>POINT (-87.6799729365284 41.9204780208957)</td>\n",
       "      <td>Wednesday</td>\n",
       "      <td>(41.906,-87.675)</td>\n",
       "      <td>(41.92-,87.679)</td>\n",
       "    </tr>\n",
       "    <tr>\n",
       "      <th>195</th>\n",
       "      <td>0d02a403-a890-4c3f-b825-d3a27cc77fc7</td>\n",
       "      <td>8/16/2019 8:00</td>\n",
       "      <td>8/16/2019 8:00</td>\n",
       "      <td>146</td>\n",
       "      <td>76</td>\n",
       "      <td>10</td>\n",
       "      <td>1.703124e+10</td>\n",
       "      <td>1.703124e+10</td>\n",
       "      <td>17.0</td>\n",
       "      <td>17.0</td>\n",
       "      <td>...</td>\n",
       "      <td>WEST TOWN</td>\n",
       "      <td>41.892</td>\n",
       "      <td>-87.652</td>\n",
       "      <td>POINT (-87.6525172461958 41.8926536169898)</td>\n",
       "      <td>41.892</td>\n",
       "      <td>-87.652</td>\n",
       "      <td>POINT (-87.6525172461958 41.8926536169898)</td>\n",
       "      <td>Friday</td>\n",
       "      <td>(41.892,-87.652)</td>\n",
       "      <td>(41.892,-87.652)</td>\n",
       "    </tr>\n",
       "  </tbody>\n",
       "</table>\n",
       "<p>5 rows × 21 columns</p>\n",
       "</div>"
      ],
      "text/plain": [
       "                                  Trip ID       Start Time         End Time  \\\n",
       "188  11d51170-55a6-7ac8-11d5-117055a67ac8  6/25/2019 12:00  6/25/2019 12:00   \n",
       "191  11c86863-a0a3-6e40-11c8-6863a0a36e40  6/15/2019 21:00  6/15/2019 21:00   \n",
       "192  11cd39a6-2986-85a4-11cd-39a6298685a4  6/19/2019 13:00  6/19/2019 13:00   \n",
       "194  0fe7627a-31d1-496a-b565-48891708fab1   8/7/2019 18:00   8/7/2019 18:00   \n",
       "195  0d02a403-a890-4c3f-b825-d3a27cc77fc7   8/16/2019 8:00   8/16/2019 8:00   \n",
       "\n",
       "     Trip Distance  Trip Duration  Accuracy  Start Census Tract  \\\n",
       "188            933            309        10        1.703183e+10   \n",
       "191           5713           1559        10        1.703183e+10   \n",
       "192            643            223        10        1.703183e+10   \n",
       "194            680            166        10        1.703124e+10   \n",
       "195            146             76        10        1.703124e+10   \n",
       "\n",
       "     End Census Tract  Start Community Area Number  End Community Area Number  \\\n",
       "188      1.703183e+10                         21.0                       21.0   \n",
       "191      1.703124e+10                         21.0                       17.0   \n",
       "192      1.703183e+10                         21.0                       21.0   \n",
       "194      1.703183e+10                         17.0                       15.0   \n",
       "195      1.703124e+10                         17.0                       17.0   \n",
       "\n",
       "     ... End Community Area Name Start Centroid Latitude  \\\n",
       "188  ...          NEAR WEST SIDE                  41.885   \n",
       "191  ...               WEST TOWN                  41.885   \n",
       "192  ...          NEAR WEST SIDE                  41.879   \n",
       "194  ...            LOGAN SQUARE                  41.906   \n",
       "195  ...               WEST TOWN                  41.892   \n",
       "\n",
       "     Start Centroid Longitude                     Start Centroid Location  \\\n",
       "188                   -87.657  POINT (-87.6572424682146 41.8852882458388)   \n",
       "191                   -87.657  POINT (-87.6572424682146 41.8852882458388)   \n",
       "192                   -87.657    POINT (-87.65704538762 41.8790767308624)   \n",
       "194                   -87.675  POINT (-87.6753102573397 41.9060233934322)   \n",
       "195                   -87.652  POINT (-87.6525172461958 41.8926536169898)   \n",
       "\n",
       "    End Centroid Latitude  End Centroid Longitude  \\\n",
       "188                41.879                 -87.657   \n",
       "191                41.908                 -87.670   \n",
       "192                41.879                 -87.657   \n",
       "194                41.920                 -87.679   \n",
       "195                41.892                 -87.652   \n",
       "\n",
       "                          End Centroid Location  start_day       POINT_START  \\\n",
       "188    POINT (-87.65704538762 41.8790767308624)    Tuesday  (41.885,-87.657)   \n",
       "191   POINT (-87.670937488585 41.9083759393656)   Saturday  (41.885,-87.657)   \n",
       "192    POINT (-87.65704538762 41.8790767308624)  Wednesday  (41.879,-87.657)   \n",
       "194  POINT (-87.6799729365284 41.9204780208957)  Wednesday  (41.906,-87.675)   \n",
       "195  POINT (-87.6525172461958 41.8926536169898)     Friday  (41.892,-87.652)   \n",
       "\n",
       "            POINT_END  \n",
       "188  (41.879,-87.657)  \n",
       "191   (41.908,-87.67)  \n",
       "192  (41.879,-87.657)  \n",
       "194   (41.92-,87.679)  \n",
       "195  (41.892,-87.652)  \n",
       "\n",
       "[5 rows x 21 columns]"
      ]
     },
     "execution_count": 8,
     "metadata": {},
     "output_type": "execute_result"
    }
   ],
   "source": [
    "# Create rounded point\n",
    "df_new_point = df_new.copy()\n",
    "def create_point(x):\n",
    "    x = str(x)\n",
    "    if x[0] == \"-\":\n",
    "        return \"(\" + str(x[:7]) + \",\" + str(x[7:]) + \")\" \n",
    "    return \"(\" +str(x[:6]) + \",\" + str(x[6:]) + \")\" \n",
    "\n",
    "df_new_point[\"Start Centroid Latitude1\"] = df_new[\"Start Centroid Latitude\"].astype(str)\n",
    "df_new_point[\"Start Centroid Longitude1\"] = df_new[\"Start Centroid Longitude\"].astype(str)\n",
    "df_new_point[\"End Centroid Latitude1\"] = df_new[\"End Centroid Latitude\"].astype(str)\n",
    "df_new_point[\"End Centroid Longitude1\"] = df_new[\"End Centroid Longitude\"].astype(str)\n",
    "\n",
    "df_new_point[\"POINT_START\"] = df_new_point[\"Start Centroid Latitude1\"] + df_new_point[\"Start Centroid Longitude1\"]\n",
    "df_new_point[\"POINT_START\"] = df_new_point[\"POINT_START\"].apply(create_point)\n",
    "\n",
    "df_new_point[\"POINT_END\"] = df_new_point[\"End Centroid Latitude1\"] + df_new_point[\"End Centroid Longitude1\"]\n",
    "df_new_point[\"POINT_END\"] = df_new_point[\"POINT_END\"].apply(create_point)\n",
    "df_new_point.drop([\"start_date\", \"End Centroid Latitude1\", \"End Centroid Longitude1\", \"Start Centroid Longitude1\", \"Start Centroid Latitude1\"], axis = 1, inplace = True)\n",
    "df_new_point.head()"
   ]
  },
  {
   "cell_type": "markdown",
   "metadata": {},
   "source": [
    "### Handle Nulls"
   ]
  },
  {
   "cell_type": "code",
   "execution_count": 9,
   "metadata": {},
   "outputs": [
    {
     "data": {
      "text/html": [
       "<div>\n",
       "<style scoped>\n",
       "    .dataframe tbody tr th:only-of-type {\n",
       "        vertical-align: middle;\n",
       "    }\n",
       "\n",
       "    .dataframe tbody tr th {\n",
       "        vertical-align: top;\n",
       "    }\n",
       "\n",
       "    .dataframe thead th {\n",
       "        text-align: right;\n",
       "    }\n",
       "</style>\n",
       "<table border=\"1\" class=\"dataframe\">\n",
       "  <thead>\n",
       "    <tr style=\"text-align: right;\">\n",
       "      <th></th>\n",
       "      <th>Trip ID</th>\n",
       "      <th>Start Time</th>\n",
       "      <th>End Time</th>\n",
       "      <th>Trip Distance</th>\n",
       "      <th>Trip Duration</th>\n",
       "      <th>Accuracy</th>\n",
       "      <th>Start Census Tract</th>\n",
       "      <th>End Census Tract</th>\n",
       "      <th>Start Community Area Number</th>\n",
       "      <th>End Community Area Number</th>\n",
       "      <th>...</th>\n",
       "      <th>Start Centroid Longitude</th>\n",
       "      <th>Start Centroid Location</th>\n",
       "      <th>End Centroid Latitude</th>\n",
       "      <th>End Centroid Longitude</th>\n",
       "      <th>End Centroid Location</th>\n",
       "      <th>start_day</th>\n",
       "      <th>POINT_START</th>\n",
       "      <th>POINT_END</th>\n",
       "      <th>Start Hour</th>\n",
       "      <th>Start Date</th>\n",
       "    </tr>\n",
       "  </thead>\n",
       "  <tbody>\n",
       "    <tr>\n",
       "      <th>188</th>\n",
       "      <td>11d51170-55a6-7ac8-11d5-117055a67ac8</td>\n",
       "      <td>6/25/2019 12:00</td>\n",
       "      <td>6/25/2019 12:00</td>\n",
       "      <td>933</td>\n",
       "      <td>309</td>\n",
       "      <td>10</td>\n",
       "      <td>1.703183e+10</td>\n",
       "      <td>1.703183e+10</td>\n",
       "      <td>21.0</td>\n",
       "      <td>21.0</td>\n",
       "      <td>...</td>\n",
       "      <td>-87.657</td>\n",
       "      <td>POINT (-87.6572424682146 41.8852882458388)</td>\n",
       "      <td>41.879</td>\n",
       "      <td>-87.657</td>\n",
       "      <td>POINT (-87.65704538762 41.8790767308624)</td>\n",
       "      <td>Tuesday</td>\n",
       "      <td>(41.885,-87.657)</td>\n",
       "      <td>(41.879,-87.657)</td>\n",
       "      <td>12</td>\n",
       "      <td>2019-06-25</td>\n",
       "    </tr>\n",
       "    <tr>\n",
       "      <th>191</th>\n",
       "      <td>11c86863-a0a3-6e40-11c8-6863a0a36e40</td>\n",
       "      <td>6/15/2019 21:00</td>\n",
       "      <td>6/15/2019 21:00</td>\n",
       "      <td>5713</td>\n",
       "      <td>1559</td>\n",
       "      <td>10</td>\n",
       "      <td>1.703183e+10</td>\n",
       "      <td>1.703124e+10</td>\n",
       "      <td>21.0</td>\n",
       "      <td>17.0</td>\n",
       "      <td>...</td>\n",
       "      <td>-87.657</td>\n",
       "      <td>POINT (-87.6572424682146 41.8852882458388)</td>\n",
       "      <td>41.908</td>\n",
       "      <td>-87.670</td>\n",
       "      <td>POINT (-87.670937488585 41.9083759393656)</td>\n",
       "      <td>Saturday</td>\n",
       "      <td>(41.885,-87.657)</td>\n",
       "      <td>(41.908,-87.67)</td>\n",
       "      <td>21</td>\n",
       "      <td>2019-06-15</td>\n",
       "    </tr>\n",
       "    <tr>\n",
       "      <th>192</th>\n",
       "      <td>11cd39a6-2986-85a4-11cd-39a6298685a4</td>\n",
       "      <td>6/19/2019 13:00</td>\n",
       "      <td>6/19/2019 13:00</td>\n",
       "      <td>643</td>\n",
       "      <td>223</td>\n",
       "      <td>10</td>\n",
       "      <td>1.703183e+10</td>\n",
       "      <td>1.703183e+10</td>\n",
       "      <td>21.0</td>\n",
       "      <td>21.0</td>\n",
       "      <td>...</td>\n",
       "      <td>-87.657</td>\n",
       "      <td>POINT (-87.65704538762 41.8790767308624)</td>\n",
       "      <td>41.879</td>\n",
       "      <td>-87.657</td>\n",
       "      <td>POINT (-87.65704538762 41.8790767308624)</td>\n",
       "      <td>Wednesday</td>\n",
       "      <td>(41.879,-87.657)</td>\n",
       "      <td>(41.879,-87.657)</td>\n",
       "      <td>13</td>\n",
       "      <td>2019-06-19</td>\n",
       "    </tr>\n",
       "    <tr>\n",
       "      <th>194</th>\n",
       "      <td>0fe7627a-31d1-496a-b565-48891708fab1</td>\n",
       "      <td>8/7/2019 18:00</td>\n",
       "      <td>8/7/2019 18:00</td>\n",
       "      <td>680</td>\n",
       "      <td>166</td>\n",
       "      <td>10</td>\n",
       "      <td>1.703124e+10</td>\n",
       "      <td>1.703183e+10</td>\n",
       "      <td>17.0</td>\n",
       "      <td>15.0</td>\n",
       "      <td>...</td>\n",
       "      <td>-87.675</td>\n",
       "      <td>POINT (-87.6753102573397 41.9060233934322)</td>\n",
       "      <td>41.920</td>\n",
       "      <td>-87.679</td>\n",
       "      <td>POINT (-87.6799729365284 41.9204780208957)</td>\n",
       "      <td>Wednesday</td>\n",
       "      <td>(41.906,-87.675)</td>\n",
       "      <td>(41.92-,87.679)</td>\n",
       "      <td>18</td>\n",
       "      <td>2019-08-07</td>\n",
       "    </tr>\n",
       "    <tr>\n",
       "      <th>195</th>\n",
       "      <td>0d02a403-a890-4c3f-b825-d3a27cc77fc7</td>\n",
       "      <td>8/16/2019 8:00</td>\n",
       "      <td>8/16/2019 8:00</td>\n",
       "      <td>146</td>\n",
       "      <td>76</td>\n",
       "      <td>10</td>\n",
       "      <td>1.703124e+10</td>\n",
       "      <td>1.703124e+10</td>\n",
       "      <td>17.0</td>\n",
       "      <td>17.0</td>\n",
       "      <td>...</td>\n",
       "      <td>-87.652</td>\n",
       "      <td>POINT (-87.6525172461958 41.8926536169898)</td>\n",
       "      <td>41.892</td>\n",
       "      <td>-87.652</td>\n",
       "      <td>POINT (-87.6525172461958 41.8926536169898)</td>\n",
       "      <td>Friday</td>\n",
       "      <td>(41.892,-87.652)</td>\n",
       "      <td>(41.892,-87.652)</td>\n",
       "      <td>8</td>\n",
       "      <td>2019-08-16</td>\n",
       "    </tr>\n",
       "  </tbody>\n",
       "</table>\n",
       "<p>5 rows × 23 columns</p>\n",
       "</div>"
      ],
      "text/plain": [
       "                                  Trip ID       Start Time         End Time  \\\n",
       "188  11d51170-55a6-7ac8-11d5-117055a67ac8  6/25/2019 12:00  6/25/2019 12:00   \n",
       "191  11c86863-a0a3-6e40-11c8-6863a0a36e40  6/15/2019 21:00  6/15/2019 21:00   \n",
       "192  11cd39a6-2986-85a4-11cd-39a6298685a4  6/19/2019 13:00  6/19/2019 13:00   \n",
       "194  0fe7627a-31d1-496a-b565-48891708fab1   8/7/2019 18:00   8/7/2019 18:00   \n",
       "195  0d02a403-a890-4c3f-b825-d3a27cc77fc7   8/16/2019 8:00   8/16/2019 8:00   \n",
       "\n",
       "     Trip Distance  Trip Duration  Accuracy  Start Census Tract  \\\n",
       "188            933            309        10        1.703183e+10   \n",
       "191           5713           1559        10        1.703183e+10   \n",
       "192            643            223        10        1.703183e+10   \n",
       "194            680            166        10        1.703124e+10   \n",
       "195            146             76        10        1.703124e+10   \n",
       "\n",
       "     End Census Tract  Start Community Area Number  End Community Area Number  \\\n",
       "188      1.703183e+10                         21.0                       21.0   \n",
       "191      1.703124e+10                         21.0                       17.0   \n",
       "192      1.703183e+10                         21.0                       21.0   \n",
       "194      1.703183e+10                         17.0                       15.0   \n",
       "195      1.703124e+10                         17.0                       17.0   \n",
       "\n",
       "     ... Start Centroid Longitude                     Start Centroid Location  \\\n",
       "188  ...                  -87.657  POINT (-87.6572424682146 41.8852882458388)   \n",
       "191  ...                  -87.657  POINT (-87.6572424682146 41.8852882458388)   \n",
       "192  ...                  -87.657    POINT (-87.65704538762 41.8790767308624)   \n",
       "194  ...                  -87.675  POINT (-87.6753102573397 41.9060233934322)   \n",
       "195  ...                  -87.652  POINT (-87.6525172461958 41.8926536169898)   \n",
       "\n",
       "     End Centroid Latitude  End Centroid Longitude  \\\n",
       "188                 41.879                 -87.657   \n",
       "191                 41.908                 -87.670   \n",
       "192                 41.879                 -87.657   \n",
       "194                 41.920                 -87.679   \n",
       "195                 41.892                 -87.652   \n",
       "\n",
       "                          End Centroid Location  start_day       POINT_START  \\\n",
       "188    POINT (-87.65704538762 41.8790767308624)    Tuesday  (41.885,-87.657)   \n",
       "191   POINT (-87.670937488585 41.9083759393656)   Saturday  (41.885,-87.657)   \n",
       "192    POINT (-87.65704538762 41.8790767308624)  Wednesday  (41.879,-87.657)   \n",
       "194  POINT (-87.6799729365284 41.9204780208957)  Wednesday  (41.906,-87.675)   \n",
       "195  POINT (-87.6525172461958 41.8926536169898)     Friday  (41.892,-87.652)   \n",
       "\n",
       "            POINT_END Start Hour  Start Date  \n",
       "188  (41.879,-87.657)         12  2019-06-25  \n",
       "191   (41.908,-87.67)         21  2019-06-15  \n",
       "192  (41.879,-87.657)         13  2019-06-19  \n",
       "194   (41.92-,87.679)         18  2019-08-07  \n",
       "195  (41.892,-87.652)          8  2019-08-16  \n",
       "\n",
       "[5 rows x 23 columns]"
      ]
     },
     "execution_count": 9,
     "metadata": {},
     "output_type": "execute_result"
    }
   ],
   "source": [
    "#Remove Nulls\n",
    "df=df_new_point.copy().dropna()\n",
    "\n",
    "#New columns for df\n",
    "df['Start Hour']=df.copy()['Start Time'].str.split().str[1]\n",
    "df['Start Hour']=df['Start Hour'].copy().str.split(':').str[0].astype(int)\n",
    "df['Start Date']=pd.to_datetime(df.copy()['Start Time'].str.split().str[0])\n",
    "df['Start Date']=df['Start Date'].copy().apply(lambda x: x.strftime('%Y-%m-%d'))\n",
    "df.head()\n",
    "\n",
    "#Check no Nulls left\n",
    "df.isnull().sum()\n",
    "df.head()"
   ]
  },
  {
   "cell_type": "code",
   "execution_count": 10,
   "metadata": {
    "scrolled": true
   },
   "outputs": [],
   "source": [
    "#Create lists (using them to add nodes attributes)\n",
    "#Start\n",
    "s_points=list(df['POINT_START'])\n",
    "s_Latitude=list(df['Start Centroid Latitude'])\n",
    "s_Longitude=list(df['Start Centroid Longitude'])\n",
    "s_area=list(df['Start Community Area Name'])\n",
    "\n",
    "#End\n",
    "e_points=list(df['POINT_END'])\n",
    "e_Latitude=list(df['End Centroid Latitude'])\n",
    "e_Longitude=list(df['End Centroid Longitude'])\n",
    "e_area=list(df['End Community Area Name'])"
   ]
  },
  {
   "cell_type": "code",
   "execution_count": 11,
   "metadata": {},
   "outputs": [
    {
     "data": {
      "image/png": "[encoded data removed]",
      "text/plain": [
       "<Figure size 1080x360 with 1 Axes>"
      ]
     },
     "metadata": {
      "needs_background": "light"
     },
     "output_type": "display_data"
    }
   ],
   "source": [
    "hist = df['Start Hour'].hist(figsize=(15,5),bins=24, color='greenyellow')"
   ]
  },
  {
   "cell_type": "code",
   "execution_count": 12,
   "metadata": {
    "scrolled": false
   },
   "outputs": [
    {
     "data": {
      "text/html": [
       "<div>\n",
       "<style scoped>\n",
       "    .dataframe tbody tr th:only-of-type {\n",
       "        vertical-align: middle;\n",
       "    }\n",
       "\n",
       "    .dataframe tbody tr th {\n",
       "        vertical-align: top;\n",
       "    }\n",
       "\n",
       "    .dataframe thead th {\n",
       "        text-align: right;\n",
       "    }\n",
       "</style>\n",
       "<table border=\"1\" class=\"dataframe\">\n",
       "  <thead>\n",
       "    <tr style=\"text-align: right;\">\n",
       "      <th></th>\n",
       "      <th>Start Community Area Name</th>\n",
       "      <th>End Community Area Name</th>\n",
       "      <th>Start Centroid Latitude</th>\n",
       "      <th>Start Centroid Longitude</th>\n",
       "      <th>POINT_START</th>\n",
       "      <th>End Centroid Latitude</th>\n",
       "      <th>End Centroid Longitude</th>\n",
       "      <th>POINT_END</th>\n",
       "      <th>Start Hour</th>\n",
       "      <th>start_day</th>\n",
       "      <th>Start Date</th>\n",
       "      <th>weight</th>\n",
       "      <th>Trip Duration</th>\n",
       "      <th>Trip Distance</th>\n",
       "    </tr>\n",
       "  </thead>\n",
       "  <tbody>\n",
       "    <tr>\n",
       "      <th>0</th>\n",
       "      <td>NEAR WEST SIDE</td>\n",
       "      <td>NEAR WEST SIDE</td>\n",
       "      <td>41.885</td>\n",
       "      <td>-87.657</td>\n",
       "      <td>(41.885,-87.657)</td>\n",
       "      <td>41.879</td>\n",
       "      <td>-87.657</td>\n",
       "      <td>(41.879,-87.657)</td>\n",
       "      <td>12</td>\n",
       "      <td>Tuesday</td>\n",
       "      <td>2019-06-25</td>\n",
       "      <td>11903</td>\n",
       "      <td>309</td>\n",
       "      <td>933</td>\n",
       "    </tr>\n",
       "    <tr>\n",
       "      <th>11903</th>\n",
       "      <td>NEAR WEST SIDE</td>\n",
       "      <td>WEST TOWN</td>\n",
       "      <td>41.885</td>\n",
       "      <td>-87.657</td>\n",
       "      <td>(41.885,-87.657)</td>\n",
       "      <td>41.908</td>\n",
       "      <td>-87.670</td>\n",
       "      <td>(41.908,-87.67)</td>\n",
       "      <td>21</td>\n",
       "      <td>Saturday</td>\n",
       "      <td>2019-06-15</td>\n",
       "      <td>680</td>\n",
       "      <td>1559</td>\n",
       "      <td>5713</td>\n",
       "    </tr>\n",
       "    <tr>\n",
       "      <th>12583</th>\n",
       "      <td>NEAR WEST SIDE</td>\n",
       "      <td>NEAR WEST SIDE</td>\n",
       "      <td>41.879</td>\n",
       "      <td>-87.657</td>\n",
       "      <td>(41.879,-87.657)</td>\n",
       "      <td>41.879</td>\n",
       "      <td>-87.657</td>\n",
       "      <td>(41.879,-87.657)</td>\n",
       "      <td>13</td>\n",
       "      <td>Wednesday</td>\n",
       "      <td>2019-06-19</td>\n",
       "      <td>11258</td>\n",
       "      <td>223</td>\n",
       "      <td>643</td>\n",
       "    </tr>\n",
       "    <tr>\n",
       "      <th>23841</th>\n",
       "      <td>WEST TOWN</td>\n",
       "      <td>LOGAN SQUARE</td>\n",
       "      <td>41.906</td>\n",
       "      <td>-87.675</td>\n",
       "      <td>(41.906,-87.675)</td>\n",
       "      <td>41.920</td>\n",
       "      <td>-87.679</td>\n",
       "      <td>(41.92-,87.679)</td>\n",
       "      <td>18</td>\n",
       "      <td>Wednesday</td>\n",
       "      <td>2019-08-07</td>\n",
       "      <td>381</td>\n",
       "      <td>166</td>\n",
       "      <td>680</td>\n",
       "    </tr>\n",
       "    <tr>\n",
       "      <th>24222</th>\n",
       "      <td>WEST TOWN</td>\n",
       "      <td>WEST TOWN</td>\n",
       "      <td>41.892</td>\n",
       "      <td>-87.652</td>\n",
       "      <td>(41.892,-87.652)</td>\n",
       "      <td>41.892</td>\n",
       "      <td>-87.652</td>\n",
       "      <td>(41.892,-87.652)</td>\n",
       "      <td>8</td>\n",
       "      <td>Friday</td>\n",
       "      <td>2019-08-16</td>\n",
       "      <td>4747</td>\n",
       "      <td>76</td>\n",
       "      <td>146</td>\n",
       "    </tr>\n",
       "  </tbody>\n",
       "</table>\n",
       "</div>"
      ],
      "text/plain": [
       "      Start Community Area Name End Community Area Name  \\\n",
       "0                NEAR WEST SIDE          NEAR WEST SIDE   \n",
       "11903            NEAR WEST SIDE               WEST TOWN   \n",
       "12583            NEAR WEST SIDE          NEAR WEST SIDE   \n",
       "23841                 WEST TOWN            LOGAN SQUARE   \n",
       "24222                 WEST TOWN               WEST TOWN   \n",
       "\n",
       "       Start Centroid Latitude  Start Centroid Longitude       POINT_START  \\\n",
       "0                       41.885                   -87.657  (41.885,-87.657)   \n",
       "11903                   41.885                   -87.657  (41.885,-87.657)   \n",
       "12583                   41.879                   -87.657  (41.879,-87.657)   \n",
       "23841                   41.906                   -87.675  (41.906,-87.675)   \n",
       "24222                   41.892                   -87.652  (41.892,-87.652)   \n",
       "\n",
       "       End Centroid Latitude  End Centroid Longitude         POINT_END  \\\n",
       "0                     41.879                 -87.657  (41.879,-87.657)   \n",
       "11903                 41.908                 -87.670   (41.908,-87.67)   \n",
       "12583                 41.879                 -87.657  (41.879,-87.657)   \n",
       "23841                 41.920                 -87.679   (41.92-,87.679)   \n",
       "24222                 41.892                 -87.652  (41.892,-87.652)   \n",
       "\n",
       "       Start Hour  start_day  Start Date  weight  Trip Duration  Trip Distance  \n",
       "0              12    Tuesday  2019-06-25   11903            309            933  \n",
       "11903          21   Saturday  2019-06-15     680           1559           5713  \n",
       "12583          13  Wednesday  2019-06-19   11258            223            643  \n",
       "23841          18  Wednesday  2019-08-07     381            166            680  \n",
       "24222           8     Friday  2019-08-16    4747             76            146  "
      ]
     },
     "execution_count": 12,
     "metadata": {},
     "output_type": "execute_result"
    }
   ],
   "source": [
    "#Create df for weighted & directed graph\n",
    "df_weighted_directed=df.copy()\n",
    "\n",
    "#Create weights column\n",
    "weight=df.groupby(['POINT_START','POINT_END'])['Trip ID'].count().rename('weight').to_frame()\n",
    "df_weighted_directed=df_weighted_directed.copy().merge(weight,left_on=['POINT_START','POINT_END'], right_on=['POINT_START','POINT_END'])\n",
    "df_weighted_directed=df_weighted_directed.copy().drop_duplicates(subset=['POINT_START','POINT_END'])\n",
    "df_weighted_directed=df_weighted_directed.copy()[['Start Community Area Name', 'End Community Area Name','Start Centroid Latitude', 'Start Centroid Longitude',\n",
    "'POINT_START', 'End Centroid Latitude','End Centroid Longitude', 'POINT_END','Start Hour','start_day','Start Date', 'weight','Trip Duration','Trip Distance']]\n",
    "\n",
    "#Weighted df\n",
    "df_weighted_directed.head()"
   ]
  },
  {
   "cell_type": "code",
   "execution_count": 13,
   "metadata": {},
   "outputs": [
    {
     "data": {
      "text/plain": [
       "(-1.106981253923358,\n",
       " 1.100332440663017,\n",
       " -1.1021151154737345,\n",
       " 1.1104321516922115)"
      ]
     },
     "execution_count": 13,
     "metadata": {},
     "output_type": "execute_result"
    },
    {
     "data": {
      "image/png": "[encoded data removed]",
      "text/plain": [
       "<Figure size 1080x720 with 1 Axes>"
      ]
     },
     "metadata": {},
     "output_type": "display_data"
    }
   ],
   "source": [
    "#Start Area Name Distribution\n",
    "df_weighted_directed['Start Community Area Name'].value_counts().head(15).plot.pie(figsize=(15,10),autopct='%1.0f%%',fontsize=13,title='Start Community Area Name')\n",
    "plt.axis('equal')"
   ]
  },
  {
   "cell_type": "code",
   "execution_count": 14,
   "metadata": {},
   "outputs": [
    {
     "data": {
      "text/plain": [
       "(-1.1067198500449877,\n",
       " 1.100319992859285,\n",
       " -1.1019184178828692,\n",
       " 1.1022313728416258)"
      ]
     },
     "execution_count": 14,
     "metadata": {},
     "output_type": "execute_result"
    },
    {
     "data": {
      "image/png": "[encoded data removed]",
      "text/plain": [
       "<Figure size 1080x720 with 1 Axes>"
      ]
     },
     "metadata": {},
     "output_type": "display_data"
    }
   ],
   "source": [
    "#End Area Name Distribution\n",
    "df_weighted_directed['End Community Area Name'].value_counts().head(15).plot.pie(figsize=(15,10), autopct='%1.0f%%',fontsize=13, title='End Community Area Name')\n",
    "plt.axis('equal')"
   ]
  },
  {
   "cell_type": "code",
   "execution_count": 15,
   "metadata": {},
   "outputs": [
    {
     "data": {
      "text/plain": [
       "(-1.1056174033683857,\n",
       " 1.100267501289859,\n",
       " -1.1074107986698847,\n",
       " 1.1127342738453911)"
      ]
     },
     "execution_count": 15,
     "metadata": {},
     "output_type": "execute_result"
    },
    {
     "data": {
      "image/png": "[encoded data removed]",
      "text/plain": [
       "<Figure size 936x576 with 1 Axes>"
      ]
     },
     "metadata": {},
     "output_type": "display_data"
    }
   ],
   "source": [
    "#Start Area Name Distribution\n",
    "df_weighted_directed['start_day'].value_counts().plot.pie(figsize=(13,8),autopct='%1.0f%%',fontsize=13,title='Start Day')\n",
    "plt.axis('equal')"
   ]
  },
  {
   "cell_type": "code",
   "execution_count": 16,
   "metadata": {},
   "outputs": [
    {
     "data": {
      "text/plain": [
       "0           Tuesday\n",
       "11903      Saturday\n",
       "12583     Wednesday\n",
       "23841     Wednesday\n",
       "24222        Friday\n",
       "            ...    \n",
       "382336     Thursday\n",
       "382337    Wednesday\n",
       "382338    Wednesday\n",
       "382339       Monday\n",
       "382340       Friday\n",
       "Name: start_day, Length: 9711, dtype: object"
      ]
     },
     "execution_count": 16,
     "metadata": {},
     "output_type": "execute_result"
    }
   ],
   "source": [
    "df_weighted_directed['start_day']"
   ]
  },
  {
   "cell_type": "code",
   "execution_count": 17,
   "metadata": {},
   "outputs": [
    {
     "name": "stdout",
     "output_type": "stream",
     "text": [
      "Name: \n",
      "Type: DiGraph\n",
      "Number of nodes: 255\n",
      "Number of edges: 9711\n",
      "Average in degree:  38.0824\n",
      "Average out degree:  38.0824\n"
     ]
    }
   ],
   "source": [
    "#Create weighted & directed graph\n",
    "G_unweighted = nx.from_pandas_edgelist(df=df,source='POINT_START',target='POINT_END',edge_attr=True,create_using=nx.DiGraph())\n",
    "attrs_n={}\n",
    "\n",
    "for i in range(len(s_points)):\n",
    "    attrs_n[s_points[i]]= {'Latitude': s_Latitude[i],'Longitude': s_Longitude[i],'Area':s_area[i]}\n",
    "    attrs_n[e_points[i]]= {'Latitude': e_Latitude[i],'Longitude': e_Longitude[i],'Area':e_area[i]}\n",
    "\n",
    "nx.set_node_attributes(G_unweighted,attrs_n)\n",
    "print (nx.info(G_unweighted))\n",
    "#nx.draw(G, with_labels=None)\n",
    "#plt.show()"
   ]
  },
  {
   "cell_type": "code",
   "execution_count": 18,
   "metadata": {
    "scrolled": false
   },
   "outputs": [],
   "source": [
    "#Create weighted & directed graph\n",
    "G_weighted_directed = nx.from_pandas_edgelist(df=df_weighted_directed,source='POINT_START',target='POINT_END',edge_attr=True,create_using=nx.DiGraph())\n",
    "attrs_n={}\n",
    "nodes = pd.DataFrame(list(G_weighted_directed.nodes))"
   ]
  },
  {
   "cell_type": "code",
   "execution_count": 19,
   "metadata": {
    "scrolled": true
   },
   "outputs": [
    {
     "name": "stdout",
     "output_type": "stream",
     "text": [
      "Name: \n",
      "Type: DiGraph\n",
      "Number of nodes: 255\n",
      "Number of edges: 9711\n",
      "Average in degree:  38.0824\n",
      "Average out degree:  38.0824\n"
     ]
    }
   ],
   "source": [
    "for i in range(len(s_points)):\n",
    "    attrs_n[s_points[i]]= {'Latitude': s_Latitude[i],'Longitude': s_Longitude[i],'Area':s_area[i]}\n",
    "    attrs_n[e_points[i]]= {'Latitude': e_Latitude[i],'Longitude': e_Longitude[i],'Area':e_area[i]}\n",
    "\n",
    "nx.set_node_attributes(G_weighted_directed,attrs_n)\n",
    "print (nx.info(G_weighted_directed))\n",
    "#nx.draw(G, with_labels=None)\n",
    "#plt.show()"
   ]
  },
  {
   "cell_type": "code",
   "execution_count": 20,
   "metadata": {},
   "outputs": [
    {
     "name": "stdout",
     "output_type": "stream",
     "text": [
      "Name: \n",
      "Type: Graph\n",
      "Number of nodes: 255\n",
      "Number of edges: 6579\n",
      "Average degree:  51.6000\n"
     ]
    }
   ],
   "source": [
    "#Create weighted & undirected graph\n",
    "G_weighted_undirected = G_weighted_directed.to_undirected()\n",
    "for node in G_weighted_directed:\n",
    "    for ngbr in nx.neighbors(G_weighted_directed, node):\n",
    "        if node in nx.neighbors(G_weighted_directed, ngbr):\n",
    "            G_weighted_undirected.edges[node, ngbr]['weight'] = (\n",
    "                G_weighted_directed.edges[node, ngbr]['weight'] +G_weighted_directed.edges[ngbr, node]['weight']\n",
    "            )\n",
    "G_weighted_undirected.edges.data('weight')\n",
    "print (nx.info(G_weighted_undirected))"
   ]
  },
  {
   "cell_type": "code",
   "execution_count": 21,
   "metadata": {},
   "outputs": [],
   "source": [
    "nodes = pd.DataFrame(list(G_weighted_undirected.nodes))\n",
    "#degree_centrality, betweenness_centrality and closeness_centrality\n",
    "measures = {'Degree': nx.degree_centrality,'Betweenness': nx.betweenness_centrality,'Closeness': nx.closeness_centrality}\n",
    "\n",
    "for name, measure in measures.items():\n",
    "    centrality_dict = measure(G_weighted_directed)\n",
    "    nodes[name] = nodes[0].apply(lambda x: centrality_dict.get(x, None))"
   ]
  },
  {
   "cell_type": "code",
   "execution_count": 22,
   "metadata": {},
   "outputs": [
    {
     "data": {
      "text/html": [
       "<div>\n",
       "<style scoped>\n",
       "    .dataframe tbody tr th:only-of-type {\n",
       "        vertical-align: middle;\n",
       "    }\n",
       "\n",
       "    .dataframe tbody tr th {\n",
       "        vertical-align: top;\n",
       "    }\n",
       "\n",
       "    .dataframe thead th {\n",
       "        text-align: right;\n",
       "    }\n",
       "</style>\n",
       "<table border=\"1\" class=\"dataframe\">\n",
       "  <thead>\n",
       "    <tr style=\"text-align: right;\">\n",
       "      <th></th>\n",
       "      <th>0</th>\n",
       "      <th>Degree</th>\n",
       "    </tr>\n",
       "  </thead>\n",
       "  <tbody>\n",
       "    <tr>\n",
       "      <th>3</th>\n",
       "      <td>(41.906,-87.675)</td>\n",
       "      <td>1.047244</td>\n",
       "    </tr>\n",
       "    <tr>\n",
       "      <th>0</th>\n",
       "      <td>(41.885,-87.657)</td>\n",
       "      <td>1.000000</td>\n",
       "    </tr>\n",
       "    <tr>\n",
       "      <th>51</th>\n",
       "      <td>(41.929,-87.711)</td>\n",
       "      <td>0.929134</td>\n",
       "    </tr>\n",
       "    <tr>\n",
       "      <th>44</th>\n",
       "      <td>(41.92-,87.694)</td>\n",
       "      <td>0.889764</td>\n",
       "    </tr>\n",
       "    <tr>\n",
       "      <th>29</th>\n",
       "      <td>(41.921,-87.699)</td>\n",
       "      <td>0.866142</td>\n",
       "    </tr>\n",
       "  </tbody>\n",
       "</table>\n",
       "</div>"
      ],
      "text/plain": [
       "                   0    Degree\n",
       "3   (41.906,-87.675)  1.047244\n",
       "0   (41.885,-87.657)  1.000000\n",
       "51  (41.929,-87.711)  0.929134\n",
       "44   (41.92-,87.694)  0.889764\n",
       "29  (41.921,-87.699)  0.866142"
      ]
     },
     "execution_count": 22,
     "metadata": {},
     "output_type": "execute_result"
    }
   ],
   "source": [
    "nodes.sort_values(['Degree'],ascending=False).head(5)[[0,'Degree']]"
   ]
  },
  {
   "cell_type": "code",
   "execution_count": 23,
   "metadata": {},
   "outputs": [
    {
     "data": {
      "text/html": [
       "<div>\n",
       "<style scoped>\n",
       "    .dataframe tbody tr th:only-of-type {\n",
       "        vertical-align: middle;\n",
       "    }\n",
       "\n",
       "    .dataframe tbody tr th {\n",
       "        vertical-align: top;\n",
       "    }\n",
       "\n",
       "    .dataframe thead th {\n",
       "        text-align: right;\n",
       "    }\n",
       "</style>\n",
       "<table border=\"1\" class=\"dataframe\">\n",
       "  <thead>\n",
       "    <tr style=\"text-align: right;\">\n",
       "      <th></th>\n",
       "      <th>0</th>\n",
       "      <th>Betweenness</th>\n",
       "    </tr>\n",
       "  </thead>\n",
       "  <tbody>\n",
       "    <tr>\n",
       "      <th>0</th>\n",
       "      <td>(41.885,-87.657)</td>\n",
       "      <td>0.070228</td>\n",
       "    </tr>\n",
       "    <tr>\n",
       "      <th>3</th>\n",
       "      <td>(41.906,-87.675)</td>\n",
       "      <td>0.046069</td>\n",
       "    </tr>\n",
       "    <tr>\n",
       "      <th>27</th>\n",
       "      <td>(41.885,-87.713)</td>\n",
       "      <td>0.040446</td>\n",
       "    </tr>\n",
       "    <tr>\n",
       "      <th>1</th>\n",
       "      <td>(41.879,-87.657)</td>\n",
       "      <td>0.031877</td>\n",
       "    </tr>\n",
       "    <tr>\n",
       "      <th>51</th>\n",
       "      <td>(41.929,-87.711)</td>\n",
       "      <td>0.028294</td>\n",
       "    </tr>\n",
       "  </tbody>\n",
       "</table>\n",
       "</div>"
      ],
      "text/plain": [
       "                   0  Betweenness\n",
       "0   (41.885,-87.657)     0.070228\n",
       "3   (41.906,-87.675)     0.046069\n",
       "27  (41.885,-87.713)     0.040446\n",
       "1   (41.879,-87.657)     0.031877\n",
       "51  (41.929,-87.711)     0.028294"
      ]
     },
     "execution_count": 23,
     "metadata": {},
     "output_type": "execute_result"
    }
   ],
   "source": [
    "nodes.sort_values(['Betweenness'],ascending=False).head(5)[[0,'Betweenness']]"
   ]
  },
  {
   "cell_type": "code",
   "execution_count": 24,
   "metadata": {},
   "outputs": [
    {
     "data": {
      "text/html": [
       "<div>\n",
       "<style scoped>\n",
       "    .dataframe tbody tr th:only-of-type {\n",
       "        vertical-align: middle;\n",
       "    }\n",
       "\n",
       "    .dataframe tbody tr th {\n",
       "        vertical-align: top;\n",
       "    }\n",
       "\n",
       "    .dataframe thead th {\n",
       "        text-align: right;\n",
       "    }\n",
       "</style>\n",
       "<table border=\"1\" class=\"dataframe\">\n",
       "  <thead>\n",
       "    <tr style=\"text-align: right;\">\n",
       "      <th></th>\n",
       "      <th>0</th>\n",
       "      <th>Closeness</th>\n",
       "    </tr>\n",
       "  </thead>\n",
       "  <tbody>\n",
       "    <tr>\n",
       "      <th>3</th>\n",
       "      <td>(41.906,-87.675)</td>\n",
       "      <td>0.616044</td>\n",
       "    </tr>\n",
       "    <tr>\n",
       "      <th>0</th>\n",
       "      <td>(41.885,-87.657)</td>\n",
       "      <td>0.604357</td>\n",
       "    </tr>\n",
       "    <tr>\n",
       "      <th>51</th>\n",
       "      <td>(41.929,-87.711)</td>\n",
       "      <td>0.589968</td>\n",
       "    </tr>\n",
       "    <tr>\n",
       "      <th>29</th>\n",
       "      <td>(41.921,-87.699)</td>\n",
       "      <td>0.585323</td>\n",
       "    </tr>\n",
       "    <tr>\n",
       "      <th>44</th>\n",
       "      <td>(41.92-,87.694)</td>\n",
       "      <td>0.585323</td>\n",
       "    </tr>\n",
       "  </tbody>\n",
       "</table>\n",
       "</div>"
      ],
      "text/plain": [
       "                   0  Closeness\n",
       "3   (41.906,-87.675)   0.616044\n",
       "0   (41.885,-87.657)   0.604357\n",
       "51  (41.929,-87.711)   0.589968\n",
       "29  (41.921,-87.699)   0.585323\n",
       "44   (41.92-,87.694)   0.585323"
      ]
     },
     "execution_count": 24,
     "metadata": {},
     "output_type": "execute_result"
    }
   ],
   "source": [
    "nodes.sort_values(['Closeness'],ascending=False).head(5)[[0,'Closeness']]"
   ]
  },
  {
   "cell_type": "code",
   "execution_count": 25,
   "metadata": {},
   "outputs": [],
   "source": [
    "Degree_lst=list(nodes['Degree'])\n",
    "Betweenness_lst=list(nodes['Betweenness'])\n",
    "Closeness_lst=list(nodes['Closeness'])\n",
    "nodes=list(nodes[0])\n",
    "    \n",
    "for i in range(len(nodes)):\n",
    "    G_weighted_undirected.nodes[nodes[i]]['Degree'] = Degree_lst[i]\n",
    "    G_weighted_undirected.nodes[nodes[i]]['Betweenness'] = Betweenness_lst[i]\n",
    "    G_weighted_undirected.nodes[nodes[i]]['Closeness'] = Closeness_lst[i]"
   ]
  },
  {
   "cell_type": "code",
   "execution_count": 26,
   "metadata": {},
   "outputs": [
    {
     "data": {
      "text/html": [
       "<div>\n",
       "<style scoped>\n",
       "    .dataframe tbody tr th:only-of-type {\n",
       "        vertical-align: middle;\n",
       "    }\n",
       "\n",
       "    .dataframe tbody tr th {\n",
       "        vertical-align: top;\n",
       "    }\n",
       "\n",
       "    .dataframe thead th {\n",
       "        text-align: right;\n",
       "    }\n",
       "</style>\n",
       "<table border=\"1\" class=\"dataframe\">\n",
       "  <thead>\n",
       "    <tr style=\"text-align: right;\">\n",
       "      <th></th>\n",
       "      <th>POINT_START</th>\n",
       "      <th>POINT_END</th>\n",
       "      <th>Start Hour</th>\n",
       "      <th>start_day</th>\n",
       "      <th>Start Date</th>\n",
       "      <th>Start Community Area Name</th>\n",
       "      <th>weight</th>\n",
       "    </tr>\n",
       "  </thead>\n",
       "  <tbody>\n",
       "    <tr>\n",
       "      <th>0</th>\n",
       "      <td>(41.885,-87.657)</td>\n",
       "      <td>(41.879,-87.657)</td>\n",
       "      <td>12</td>\n",
       "      <td>Tuesday</td>\n",
       "      <td>2019-06-25</td>\n",
       "      <td>NEAR WEST SIDE</td>\n",
       "      <td>11903</td>\n",
       "    </tr>\n",
       "    <tr>\n",
       "      <th>11903</th>\n",
       "      <td>(41.885,-87.657)</td>\n",
       "      <td>(41.908,-87.67)</td>\n",
       "      <td>21</td>\n",
       "      <td>Saturday</td>\n",
       "      <td>2019-06-15</td>\n",
       "      <td>NEAR WEST SIDE</td>\n",
       "      <td>680</td>\n",
       "    </tr>\n",
       "    <tr>\n",
       "      <th>12583</th>\n",
       "      <td>(41.879,-87.657)</td>\n",
       "      <td>(41.879,-87.657)</td>\n",
       "      <td>13</td>\n",
       "      <td>Wednesday</td>\n",
       "      <td>2019-06-19</td>\n",
       "      <td>NEAR WEST SIDE</td>\n",
       "      <td>11258</td>\n",
       "    </tr>\n",
       "    <tr>\n",
       "      <th>23841</th>\n",
       "      <td>(41.906,-87.675)</td>\n",
       "      <td>(41.92-,87.679)</td>\n",
       "      <td>18</td>\n",
       "      <td>Wednesday</td>\n",
       "      <td>2019-08-07</td>\n",
       "      <td>WEST TOWN</td>\n",
       "      <td>381</td>\n",
       "    </tr>\n",
       "    <tr>\n",
       "      <th>24222</th>\n",
       "      <td>(41.892,-87.652)</td>\n",
       "      <td>(41.892,-87.652)</td>\n",
       "      <td>8</td>\n",
       "      <td>Friday</td>\n",
       "      <td>2019-08-16</td>\n",
       "      <td>WEST TOWN</td>\n",
       "      <td>4747</td>\n",
       "    </tr>\n",
       "  </tbody>\n",
       "</table>\n",
       "</div>"
      ],
      "text/plain": [
       "            POINT_START         POINT_END  Start Hour  start_day  Start Date  \\\n",
       "0      (41.885,-87.657)  (41.879,-87.657)          12    Tuesday  2019-06-25   \n",
       "11903  (41.885,-87.657)   (41.908,-87.67)          21   Saturday  2019-06-15   \n",
       "12583  (41.879,-87.657)  (41.879,-87.657)          13  Wednesday  2019-06-19   \n",
       "23841  (41.906,-87.675)   (41.92-,87.679)          18  Wednesday  2019-08-07   \n",
       "24222  (41.892,-87.652)  (41.892,-87.652)           8     Friday  2019-08-16   \n",
       "\n",
       "      Start Community Area Name  weight  \n",
       "0                NEAR WEST SIDE   11903  \n",
       "11903            NEAR WEST SIDE     680  \n",
       "12583            NEAR WEST SIDE   11258  \n",
       "23841                 WEST TOWN     381  \n",
       "24222                 WEST TOWN    4747  "
      ]
     },
     "execution_count": 26,
     "metadata": {},
     "output_type": "execute_result"
    }
   ],
   "source": [
    "#Weighted df\n",
    "df_hours=df_weighted_directed.copy()[['POINT_START','POINT_END','Start Hour','start_day','Start Date','Start Community Area Name','weight']]\n",
    "df_hours.head()"
   ]
  },
  {
   "cell_type": "code",
   "execution_count": 27,
   "metadata": {},
   "outputs": [
    {
     "name": "stdout",
     "output_type": "stream",
     "text": [
      "0.005457728349294614\n",
      "0.21470497374111833\n",
      "0.7798372979095871\n"
     ]
    }
   ],
   "source": [
    "#Num total rides\n",
    "num_rides=df_weighted_directed.count()['POINT_START']\n",
    "\n",
    "df_23_7=df_weighted_directed[(df_weighted_directed['Start Hour']==23) | (df_weighted_directed['Start Hour']<7)]\n",
    "precent_rides_23_7=df_23_7.count()['POINT_START']/num_rides\n",
    "print(precent_rides_23_7)\n",
    "\n",
    "df_7_15=df_weighted_directed[(df_weighted_directed['Start Hour']>=7) & (df_weighted_directed['Start Hour']<15)]\n",
    "precent_rides_7_15=df_7_15.count()['POINT_START']/num_rides\n",
    "print(precent_rides_7_15)\n",
    "\n",
    "df_15_23=df_weighted_directed[(df_weighted_directed['Start Hour']>=15) & (df_weighted_directed['Start Hour']<23)]\n",
    "precent_rides_15_23=df_15_23.count()['POINT_START']/num_rides\n",
    "print(precent_rides_15_23)"
   ]
  },
  {
   "cell_type": "code",
   "execution_count": 28,
   "metadata": {},
   "outputs": [
    {
     "name": "stdout",
     "output_type": "stream",
     "text": [
      "Name: \n",
      "Type: DiGraph\n",
      "Number of nodes: 241\n",
      "Number of edges: 2085\n",
      "Average in degree:   8.6515\n",
      "Average out degree:   8.6515\n"
     ]
    }
   ],
   "source": [
    "#Create Graph from hours 7:00 to 15:00\n",
    "G_7_15 = nx.from_pandas_edgelist(df=df_7_15,source='POINT_START',target='POINT_END',edge_attr=True,create_using=nx.DiGraph())\n",
    "attrs_n={}\n",
    "\n",
    "for i in range(len(s_points)):\n",
    "    attrs_n[s_points[i]]= {'Latitude': s_Latitude[i],'Longitude': s_Longitude[i],'Area':s_area[i]}\n",
    "    attrs_n[e_points[i]]= {'Latitude': e_Latitude[i],'Longitude': e_Longitude[i],'Area':e_area[i]}    \n",
    "nx.set_node_attributes(G_7_15,attrs_n)\n",
    "print (nx.info(G_7_15))\n",
    "#nx.draw(G, with_labels=None)\n",
    "#plt.show()"
   ]
  },
  {
   "cell_type": "code",
   "execution_count": 29,
   "metadata": {},
   "outputs": [
    {
     "name": "stdout",
     "output_type": "stream",
     "text": [
      "Name: \n",
      "Type: Graph\n",
      "Number of nodes: 241\n",
      "Number of edges: 1904\n",
      "Average degree:  15.8008\n"
     ]
    }
   ],
   "source": [
    "#Create weighted & undirected graph for morning rides\n",
    "G_7_15_undirected = G_7_15.to_undirected()\n",
    "for node in G_7_15:\n",
    "    for ngbr in nx.neighbors(G_7_15, node):\n",
    "        if node in nx.neighbors(G_7_15, ngbr):\n",
    "            G_7_15_undirected.edges[node, ngbr]['weight'] = (\n",
    "                G_7_15.edges[node, ngbr]['weight'] + G_7_15.edges[ngbr, node]['weight']\n",
    "            )\n",
    "G_7_15_undirected.edges.data('weight')\n",
    "print (nx.info(G_7_15_undirected))"
   ]
  },
  {
   "cell_type": "code",
   "execution_count": 30,
   "metadata": {},
   "outputs": [
    {
     "name": "stdout",
     "output_type": "stream",
     "text": [
      "Name: \n",
      "Type: DiGraph\n",
      "Number of nodes: 251\n",
      "Number of edges: 7573\n",
      "Average in degree:  30.1713\n",
      "Average out degree:  30.1713\n"
     ]
    }
   ],
   "source": [
    "#Create Graph from hours 15:00 to 23:00\n",
    "G_15_23 = nx.from_pandas_edgelist(df=df_15_23,source='POINT_START',target='POINT_END',edge_attr=True,create_using=nx.DiGraph())\n",
    "attrs_n={}\n",
    "\n",
    "for i in range(len(s_points)):\n",
    "    attrs_n[s_points[i]]= {'Latitude': s_Latitude[i],'Longitude': s_Longitude[i],'Area':s_area[i]}\n",
    "    attrs_n[e_points[i]]= {'Latitude': e_Latitude[i],'Longitude': e_Longitude[i],'Area':e_area[i]}    \n",
    "nx.set_node_attributes(G_15_23,attrs_n)\n",
    "print (nx.info(G_15_23))\n",
    "#nx.draw(G, with_labels=None)\n",
    "#plt.show()"
   ]
  },
  {
   "cell_type": "code",
   "execution_count": 31,
   "metadata": {},
   "outputs": [
    {
     "name": "stdout",
     "output_type": "stream",
     "text": [
      "Name: \n",
      "Type: Graph\n",
      "Number of nodes: 251\n",
      "Number of edges: 5653\n",
      "Average degree:  45.0438\n"
     ]
    }
   ],
   "source": [
    "#Create weighted & undirected graph for night rides\n",
    "G_15_23_undirected = G_15_23.to_undirected()\n",
    "for node in G_15_23:\n",
    "    for ngbr in nx.neighbors(G_15_23, node):\n",
    "        if node in nx.neighbors(G_15_23, ngbr):\n",
    "            G_15_23_undirected.edges[node, ngbr]['weight'] = (\n",
    "                G_15_23.edges[node, ngbr]['weight'] + G_15_23.edges[ngbr, node]['weight']\n",
    "            )\n",
    "G_15_23_undirected.edges.data('weight')\n",
    "print (nx.info(G_15_23_undirected))"
   ]
  },
  {
   "cell_type": "code",
   "execution_count": 32,
   "metadata": {},
   "outputs": [],
   "source": [
    "#create df's for days graph\n",
    "df_dist=df_weighted_directed[(df_weighted_directed['Trip Distance']>= 1609)]"
   ]
  },
  {
   "cell_type": "code",
   "execution_count": 33,
   "metadata": {},
   "outputs": [
    {
     "name": "stdout",
     "output_type": "stream",
     "text": [
      "Name: \n",
      "Type: DiGraph\n",
      "Number of nodes: 253\n",
      "Number of edges: 8236\n",
      "Average in degree:  32.5534\n",
      "Average out degree:  32.5534\n"
     ]
    }
   ],
   "source": [
    "#Create graph for weekend\n",
    "G_dist = nx.from_pandas_edgelist(df=df_dist,source='POINT_START',target='POINT_END',edge_attr=True,create_using=nx.DiGraph())\n",
    "attrs_n={}\n",
    "\n",
    "for i in range(len(s_points)):\n",
    "    attrs_n[s_points[i]]= {'Latitude': s_Latitude[i],'Longitude': s_Longitude[i],'Area':s_area[i]}\n",
    "    attrs_n[e_points[i]]= {'Latitude': e_Latitude[i],'Longitude': e_Longitude[i],'Area':e_area[i]}    \n",
    "nx.set_node_attributes(G_dist,attrs_n)\n",
    "print (nx.info(G_dist))\n",
    "#nx.draw(G, with_labels=None)\n",
    "#plt.show()"
   ]
  },
  {
   "cell_type": "code",
   "execution_count": 34,
   "metadata": {},
   "outputs": [],
   "source": [
    "#create df's for days graph\n",
    "df_mon_wedn=df_weighted_directed[(df_weighted_directed['start_day'].isin(['Monday','Tuesday','Wednesday']))]\n",
    "df_fri_sun=df_weighted_directed[(df_weighted_directed['start_day'].isin(['Friday','Saturday','Sunday']))]"
   ]
  },
  {
   "cell_type": "code",
   "execution_count": 35,
   "metadata": {},
   "outputs": [
    {
     "name": "stdout",
     "output_type": "stream",
     "text": [
      "Name: \n",
      "Type: DiGraph\n",
      "Number of nodes: 249\n",
      "Number of edges: 4791\n",
      "Average in degree:  19.2410\n",
      "Average out degree:  19.2410\n"
     ]
    }
   ],
   "source": [
    "#Create graph for weekend\n",
    "G_fri_sun = nx.from_pandas_edgelist(df=df_fri_sun,source='POINT_START',target='POINT_END',edge_attr=True,create_using=nx.DiGraph())\n",
    "attrs_n={}\n",
    "\n",
    "for i in range(len(s_points)):\n",
    "    attrs_n[s_points[i]]= {'Latitude': s_Latitude[i],'Longitude': s_Longitude[i],'Area':s_area[i]}\n",
    "    attrs_n[e_points[i]]= {'Latitude': e_Latitude[i],'Longitude': e_Longitude[i],'Area':e_area[i]}    \n",
    "nx.set_node_attributes(G_fri_sun,attrs_n)\n",
    "print (nx.info(G_fri_sun))\n",
    "#nx.draw(G, with_labels=None)\n",
    "#plt.show()"
   ]
  },
  {
   "cell_type": "code",
   "execution_count": 36,
   "metadata": {},
   "outputs": [
    {
     "name": "stdout",
     "output_type": "stream",
     "text": [
      "Name: \n",
      "Type: Graph\n",
      "Number of nodes: 249\n",
      "Number of edges: 3979\n",
      "Average degree:  31.9598\n"
     ]
    }
   ],
   "source": [
    "#Create weighted & undirected graph for weekend\n",
    "G_fri_sun_undirected = G_fri_sun.to_undirected()\n",
    "for node in G_fri_sun:\n",
    "    for ngbr in nx.neighbors(G_fri_sun, node):\n",
    "        if node in nx.neighbors(G_fri_sun, ngbr):\n",
    "            G_fri_sun_undirected.edges[node, ngbr]['weight'] = (\n",
    "                G_fri_sun.edges[node, ngbr]['weight'] + G_fri_sun.edges[ngbr, node]['weight']\n",
    "            )\n",
    "G_fri_sun_undirected.edges.data('weight')\n",
    "print (nx.info(G_fri_sun_undirected))"
   ]
  },
  {
   "cell_type": "code",
   "execution_count": 37,
   "metadata": {},
   "outputs": [
    {
     "name": "stdout",
     "output_type": "stream",
     "text": [
      "Name: \n",
      "Type: DiGraph\n",
      "Number of nodes: 246\n",
      "Number of edges: 3543\n",
      "Average in degree:  14.4024\n",
      "Average out degree:  14.4024\n"
     ]
    }
   ],
   "source": [
    "#Create graph for weekday\n",
    "G_mon_wedn = nx.from_pandas_edgelist(df=df_mon_wedn,source='POINT_START',target='POINT_END',edge_attr=True,create_using=nx.DiGraph())\n",
    "attrs_n={}\n",
    "\n",
    "for i in range(len(s_points)):\n",
    "    attrs_n[s_points[i]]= {'Latitude': s_Latitude[i],'Longitude': s_Longitude[i],'Area':s_area[i]}\n",
    "    attrs_n[e_points[i]]= {'Latitude': e_Latitude[i],'Longitude': e_Longitude[i],'Area':e_area[i]}    \n",
    "nx.set_node_attributes(G_mon_wedn,attrs_n)\n",
    "print (nx.info(G_mon_wedn))\n",
    "#nx.draw(G, with_labels=None)\n",
    "#plt.show()"
   ]
  },
  {
   "cell_type": "code",
   "execution_count": 38,
   "metadata": {},
   "outputs": [
    {
     "name": "stdout",
     "output_type": "stream",
     "text": [
      "Name: \n",
      "Type: Graph\n",
      "Number of nodes: 246\n",
      "Number of edges: 3071\n",
      "Average degree:  24.9675\n"
     ]
    }
   ],
   "source": [
    "#Create weighted & undirected graph for weekday\n",
    "G_mon_wedn_undirected = G_mon_wedn.to_undirected()\n",
    "for node in G_mon_wedn:\n",
    "    for ngbr in nx.neighbors(G_mon_wedn, node):\n",
    "        if node in nx.neighbors(G_mon_wedn, ngbr):\n",
    "            G_mon_wedn_undirected.edges[node, ngbr]['weight'] = (\n",
    "                G_mon_wedn.edges[node, ngbr]['weight'] + G_mon_wedn.edges[ngbr, node]['weight']\n",
    "            )\n",
    "G_mon_wedn_undirected.edges.data('weight')\n",
    "print (nx.info(G_mon_wedn_undirected))"
   ]
  },
  {
   "cell_type": "code",
   "execution_count": 39,
   "metadata": {},
   "outputs": [],
   "source": [
    "# df for morning and weekday\n",
    "df_7_15_weekday=df_weighted_directed[(df_weighted_directed['Start Hour']>=7) & (df_weighted_directed['Start Hour']<15) & (df_weighted_directed['start_day'].isin(['Monday','Tuesday','Wednesday']))]\n",
    "\n",
    "# df for night and weekday\n",
    "df_15_23_weekday=df_weighted_directed[(df_weighted_directed['Start Hour']>=15) & (df_weighted_directed['Start Hour']<23) & (df_weighted_directed['start_day'].isin(['Monday','Tuesday','Wednesday']))]\n",
    "\n",
    "# df for morning and weekend\n",
    "df_7_15_weekend=df_weighted_directed[(df_weighted_directed['Start Hour']>=7) & (df_weighted_directed['Start Hour']<15) & (df_weighted_directed['start_day'].isin(['Friday','Saturday','Sunday']))]\n",
    "\n",
    "# df for night and weekend\n",
    "df_15_23_weekend=df_weighted_directed[(df_weighted_directed['Start Hour']>=15) & (df_weighted_directed['Start Hour']<23) & (df_weighted_directed['start_day'].isin(['Friday','Saturday','Sunday']))]\n"
   ]
  },
  {
   "cell_type": "code",
   "execution_count": 40,
   "metadata": {},
   "outputs": [
    {
     "name": "stdout",
     "output_type": "stream",
     "text": [
      "Name: \n",
      "Type: DiGraph\n",
      "Number of nodes: 199\n",
      "Number of edges: 575\n",
      "Average in degree:   2.8894\n",
      "Average out degree:   2.8894\n"
     ]
    }
   ],
   "source": [
    "#Create graph for morning and weekdnd\n",
    "G_7_15_weekday = nx.from_pandas_edgelist(df=df_7_15_weekday,source='POINT_START',target='POINT_END',edge_attr=True,create_using=nx.DiGraph())\n",
    "attrs_n={}\n",
    "\n",
    "for i in range(len(s_points)):\n",
    "    attrs_n[s_points[i]]= {'Latitude': s_Latitude[i],'Longitude': s_Longitude[i],'Area':s_area[i]}\n",
    "    attrs_n[e_points[i]]= {'Latitude': e_Latitude[i],'Longitude': e_Longitude[i],'Area':e_area[i]}    \n",
    "nx.set_node_attributes(G_7_15_weekday,attrs_n)\n",
    "print (nx.info(G_7_15_weekday))"
   ]
  },
  {
   "cell_type": "code",
   "execution_count": 41,
   "metadata": {},
   "outputs": [
    {
     "name": "stdout",
     "output_type": "stream",
     "text": [
      "Name: \n",
      "Type: Graph\n",
      "Number of nodes: 199\n",
      "Number of edges: 552\n",
      "Average degree:   5.5477\n"
     ]
    }
   ],
   "source": [
    "#Create weighted & undirected graph for morning weekday\n",
    "G_7_15_weekday_undirected = G_7_15_weekday.to_undirected()\n",
    "for node in G_7_15_weekday:\n",
    "    for ngbr in nx.neighbors(G_7_15_weekday, node):\n",
    "        if node in nx.neighbors(G_7_15_weekday, ngbr):\n",
    "            G_7_15_weekday_undirected.edges[node, ngbr]['weight'] = (\n",
    "                G_7_15_weekday.edges[node, ngbr]['weight'] + G_7_15_weekday.edges[ngbr, node]['weight']\n",
    "            )\n",
    "G_7_15_weekday_undirected.edges.data('weight')\n",
    "print (nx.info(G_7_15_weekday_undirected))"
   ]
  },
  {
   "cell_type": "code",
   "execution_count": 42,
   "metadata": {},
   "outputs": [
    {
     "name": "stdout",
     "output_type": "stream",
     "text": [
      "Name: \n",
      "Type: DiGraph\n",
      "Number of nodes: 239\n",
      "Number of edges: 2950\n",
      "Average in degree:  12.3431\n",
      "Average out degree:  12.3431\n"
     ]
    }
   ],
   "source": [
    "#Create graph for night and weekdnd\n",
    "G_15_23_weekday = nx.from_pandas_edgelist(df=df_15_23_weekday,source='POINT_START',target='POINT_END',edge_attr=True,create_using=nx.DiGraph())\n",
    "attrs_n={}\n",
    "\n",
    "for i in range(len(s_points)):\n",
    "    attrs_n[s_points[i]]= {'Latitude': s_Latitude[i],'Longitude': s_Longitude[i],'Area':s_area[i]}\n",
    "    attrs_n[e_points[i]]= {'Latitude': e_Latitude[i],'Longitude': e_Longitude[i],'Area':e_area[i]}    \n",
    "nx.set_node_attributes(G_15_23_weekday,attrs_n)\n",
    "print (nx.info(G_15_23_weekday))"
   ]
  },
  {
   "cell_type": "code",
   "execution_count": 43,
   "metadata": {},
   "outputs": [
    {
     "name": "stdout",
     "output_type": "stream",
     "text": [
      "Name: \n",
      "Type: Graph\n",
      "Number of nodes: 239\n",
      "Number of edges: 2626\n",
      "Average degree:  21.9749\n"
     ]
    }
   ],
   "source": [
    "#Create weighted & undirected graph for night weekday\n",
    "G_15_23_weekday_undirected = G_15_23_weekday.to_undirected()\n",
    "for node in G_15_23_weekday:\n",
    "    for ngbr in nx.neighbors(G_15_23_weekday, node):\n",
    "        if node in nx.neighbors(G_15_23_weekday, ngbr):\n",
    "            G_15_23_weekday_undirected.edges[node, ngbr]['weight'] = (\n",
    "                G_15_23_weekday.edges[node, ngbr]['weight'] + G_15_23_weekday.edges[ngbr, node]['weight']\n",
    "            )\n",
    "G_15_23_weekday_undirected.edges.data('weight')\n",
    "print (nx.info(G_15_23_weekday_undirected))"
   ]
  },
  {
   "cell_type": "code",
   "execution_count": 44,
   "metadata": {},
   "outputs": [
    {
     "name": "stdout",
     "output_type": "stream",
     "text": [
      "Name: \n",
      "Type: DiGraph\n",
      "Number of nodes: 229\n",
      "Number of edges: 1290\n",
      "Average in degree:   5.6332\n",
      "Average out degree:   5.6332\n"
     ]
    }
   ],
   "source": [
    "#Create graph for morning and weekdnd\n",
    "G_7_15_weekend = nx.from_pandas_edgelist(df=df_7_15_weekend,source='POINT_START',target='POINT_END',edge_attr=True,create_using=nx.DiGraph())\n",
    "attrs_n={}\n",
    "\n",
    "for i in range(len(s_points)):\n",
    "    attrs_n[s_points[i]]= {'Latitude': s_Latitude[i],'Longitude': s_Longitude[i],'Area':s_area[i]}\n",
    "    attrs_n[e_points[i]]= {'Latitude': e_Latitude[i],'Longitude': e_Longitude[i],'Area':e_area[i]}    \n",
    "nx.set_node_attributes(G_7_15_weekend,attrs_n)\n",
    "print (nx.info(G_7_15_weekend))"
   ]
  },
  {
   "cell_type": "code",
   "execution_count": 45,
   "metadata": {},
   "outputs": [
    {
     "name": "stdout",
     "output_type": "stream",
     "text": [
      "Name: \n",
      "Type: Graph\n",
      "Number of nodes: 229\n",
      "Number of edges: 1219\n",
      "Average degree:  10.6463\n"
     ]
    }
   ],
   "source": [
    "#Create weighted & undirected graph for morning weekday\n",
    "G_7_15_weekend_undirected = G_7_15_weekend.to_undirected()\n",
    "for node in G_7_15_weekend:\n",
    "    for ngbr in nx.neighbors(G_7_15_weekend, node):\n",
    "        if node in nx.neighbors(G_7_15_weekend, ngbr):\n",
    "            G_7_15_weekend_undirected.edges[node, ngbr]['weight'] = (\n",
    "                G_7_15_weekend.edges[node, ngbr]['weight'] + G_7_15_weekend.edges[ngbr, node]['weight']\n",
    "            )\n",
    "G_7_15_weekend_undirected.edges.data('weight')\n",
    "print (nx.info(G_7_15_weekend_undirected))"
   ]
  },
  {
   "cell_type": "code",
   "execution_count": 46,
   "metadata": {},
   "outputs": [
    {
     "name": "stdout",
     "output_type": "stream",
     "text": [
      "Name: \n",
      "Type: DiGraph\n",
      "Number of nodes: 244\n",
      "Number of edges: 3472\n",
      "Average in degree:  14.2295\n",
      "Average out degree:  14.2295\n"
     ]
    }
   ],
   "source": [
    "#Create graph for morning and weekdnd\n",
    "G_15_23_weekend = nx.from_pandas_edgelist(df=df_15_23_weekend,source='POINT_START',target='POINT_END',edge_attr=True,create_using=nx.DiGraph())\n",
    "attrs_n={}\n",
    "\n",
    "for i in range(len(s_points)):\n",
    "    attrs_n[s_points[i]]= {'Latitude': s_Latitude[i],'Longitude': s_Longitude[i],'Area':s_area[i]}\n",
    "    attrs_n[e_points[i]]= {'Latitude': e_Latitude[i],'Longitude': e_Longitude[i],'Area':e_area[i]}    \n",
    "nx.set_node_attributes(G_15_23_weekend,attrs_n)\n",
    "print (nx.info(G_15_23_weekend))"
   ]
  },
  {
   "cell_type": "code",
   "execution_count": 47,
   "metadata": {},
   "outputs": [
    {
     "name": "stdout",
     "output_type": "stream",
     "text": [
      "Name: \n",
      "Type: Graph\n",
      "Number of nodes: 244\n",
      "Number of edges: 3039\n",
      "Average degree:  24.9098\n"
     ]
    }
   ],
   "source": [
    "#Create weighted & undirected graph for morning weekday\n",
    "G_15_23_weekend_undirected = G_15_23_weekend.to_undirected()\n",
    "for node in G_15_23_weekend:\n",
    "    for ngbr in nx.neighbors(G_15_23_weekend, node):\n",
    "        if node in nx.neighbors(G_15_23_weekend, ngbr):\n",
    "            G_15_23_weekend_undirected.edges[node, ngbr]['weight'] = (\n",
    "                G_15_23_weekend.edges[node, ngbr]['weight'] + G_15_23_weekend.edges[ngbr, node]['weight']\n",
    "            )\n",
    "G_15_23_weekend_undirected.edges.data('weight')\n",
    "print (nx.info(G_15_23_weekend_undirected))"
   ]
  },
  {
   "cell_type": "code",
   "execution_count": 48,
   "metadata": {},
   "outputs": [
    {
     "name": "stdout",
     "output_type": "stream",
     "text": [
      "min    2019-06-15\n",
      "max    2019-10-15\n",
      "Name: Start Date, dtype: object\n"
     ]
    }
   ],
   "source": [
    "#find project's dates\n",
    "print(df['Start Date'].agg(['min','max']))\n",
    "\n",
    "\n",
    "#2019-06-15 to 2019-06-22 (end project)\n",
    "df_week0=df[(df['Start Date']>='2019-06-15') & (df['Start Date']<='2019-06-22')]\n",
    "\n",
    "#Create weights column for df_start_project \n",
    "weight=df_week0.groupby(['POINT_START','POINT_END'])['Trip ID'].count().rename('weight').to_frame()\n",
    "df_week0=df_week0.copy().merge(weight,left_on=['POINT_START','POINT_END'], right_on=['POINT_START','POINT_END'])\n",
    "df_week0=df_week0.copy().drop_duplicates(subset=['POINT_START','POINT_END'])\n",
    "df_week0=df_week0.copy()[['Start Community Area Name', 'End Community Area Name','Start Centroid Latitude', 'Start Centroid Longitude',\n",
    "'POINT_START', 'End Centroid Latitude','End Centroid Longitude', 'POINT_END','Start Hour','start_day','Start Date', 'weight']]\n",
    "\n",
    "\n",
    "#2019-06-20 to 2019-06-27 (start project)\n",
    "df_week1=df[(df['Start Date']>='2019-06-20') & (df['Start Date']<='2019-06-27')]\n",
    "\n",
    "#Create weights column for df_start_project \n",
    "weight=df_week1.groupby(['POINT_START','POINT_END'])['Trip ID'].count().rename('weight').to_frame()\n",
    "df_week1=df_week1.copy().merge(weight,left_on=['POINT_START','POINT_END'], right_on=['POINT_START','POINT_END'])\n",
    "df_week1=df_week1.copy().drop_duplicates(subset=['POINT_START','POINT_END'])\n",
    "df_week1=df_week1.copy()[['Start Community Area Name', 'End Community Area Name','Start Centroid Latitude', 'Start Centroid Longitude',\n",
    "'POINT_START', 'End Centroid Latitude','End Centroid Longitude', 'POINT_END','Start Hour','start_day','Start Date', 'weight']]\n",
    "\n",
    "\n",
    "#2019-07-23 to 2019-07-30 (start project)\n",
    "df_week2=df[(df['Start Date']>='2019-07-23') & (df['Start Date']<='2019-07-30')]\n",
    "\n",
    "#Create weights column for df_start_project \n",
    "weight=df_week2.groupby(['POINT_START','POINT_END'])['Trip ID'].count().rename('weight').to_frame()\n",
    "df_week2=df_week2.copy().merge(weight,left_on=['POINT_START','POINT_END'], right_on=['POINT_START','POINT_END'])\n",
    "df_week2=df_week2.copy().drop_duplicates(subset=['POINT_START','POINT_END'])\n",
    "df_week2=df_week2.copy()[['Start Community Area Name', 'End Community Area Name','Start Centroid Latitude', 'Start Centroid Longitude',\n",
    "'POINT_START', 'End Centroid Latitude','End Centroid Longitude', 'POINT_END','Start Hour','start_day','Start Date', 'weight']]\n",
    "\n",
    "\n",
    "#2019-08-28 to 2019-09-04 (start project)\n",
    "df_week3=df[(df['Start Date']>='2019-08-28') & (df['Start Date']<='2019-09-04')]\n",
    "\n",
    "#Create weights column for df_start_project \n",
    "weight=df_week3.groupby(['POINT_START','POINT_END'])['Trip ID'].count().rename('weight').to_frame()\n",
    "df_week3=df_week3.copy().merge(weight,left_on=['POINT_START','POINT_END'], right_on=['POINT_START','POINT_END'])\n",
    "df_week3=df_week3.copy().drop_duplicates(subset=['POINT_START','POINT_END'])\n",
    "df_week3=df_week3.copy()[['Start Community Area Name', 'End Community Area Name','Start Centroid Latitude', 'Start Centroid Longitude',\n",
    "'POINT_START', 'End Centroid Latitude','End Centroid Longitude', 'POINT_END','Start Hour','start_day','Start Date', 'weight']]\n",
    "\n",
    "\n",
    "#2019-09-30 to 2019-10-07 (end project)\n",
    "df_week4=df[(df['Start Date']>='2019-09-30') & (df['Start Date']<='2019-10-07')]\n",
    "\n",
    "#Create weights column for df_start_project \n",
    "weight=df_week4.groupby(['POINT_START','POINT_END'])['Trip ID'].count().rename('weight').to_frame()\n",
    "df_week4=df_week4.copy().merge(weight,left_on=['POINT_START','POINT_END'], right_on=['POINT_START','POINT_END'])\n",
    "df_week4=df_week4.copy().drop_duplicates(subset=['POINT_START','POINT_END'])\n",
    "df_week4=df_week4.copy()[['Start Community Area Name', 'End Community Area Name','Start Centroid Latitude', 'Start Centroid Longitude',\n",
    "'POINT_START', 'End Centroid Latitude','End Centroid Longitude', 'POINT_END','Start Hour','start_day','Start Date', 'weight']]"
   ]
  },
  {
   "cell_type": "code",
   "execution_count": 49,
   "metadata": {},
   "outputs": [
    {
     "data": {
      "text/html": [
       "<div>\n",
       "<style scoped>\n",
       "    .dataframe tbody tr th:only-of-type {\n",
       "        vertical-align: middle;\n",
       "    }\n",
       "\n",
       "    .dataframe tbody tr th {\n",
       "        vertical-align: top;\n",
       "    }\n",
       "\n",
       "    .dataframe thead th {\n",
       "        text-align: right;\n",
       "    }\n",
       "</style>\n",
       "<table border=\"1\" class=\"dataframe\">\n",
       "  <thead>\n",
       "    <tr style=\"text-align: right;\">\n",
       "      <th></th>\n",
       "      <th>Start Community Area Name</th>\n",
       "      <th>End Community Area Name</th>\n",
       "      <th>Start Centroid Latitude</th>\n",
       "      <th>Start Centroid Longitude</th>\n",
       "      <th>POINT_START</th>\n",
       "      <th>End Centroid Latitude</th>\n",
       "      <th>End Centroid Longitude</th>\n",
       "      <th>POINT_END</th>\n",
       "      <th>Start Hour</th>\n",
       "      <th>start_day</th>\n",
       "      <th>Start Date</th>\n",
       "      <th>weight</th>\n",
       "    </tr>\n",
       "  </thead>\n",
       "  <tbody>\n",
       "    <tr>\n",
       "      <th>31322</th>\n",
       "      <td>HUMBOLDT PARK</td>\n",
       "      <td>WEST TOWN</td>\n",
       "      <td>41.912</td>\n",
       "      <td>-87.704</td>\n",
       "      <td>(41.912,-87.704)</td>\n",
       "      <td>41.907</td>\n",
       "      <td>-87.694</td>\n",
       "      <td>(41.907,-87.694)</td>\n",
       "      <td>19</td>\n",
       "      <td>Tuesday</td>\n",
       "      <td>2019-06-25</td>\n",
       "      <td>1</td>\n",
       "    </tr>\n",
       "    <tr>\n",
       "      <th>33111</th>\n",
       "      <td>LOGAN SQUARE</td>\n",
       "      <td>LOGAN SQUARE</td>\n",
       "      <td>41.915</td>\n",
       "      <td>-87.699</td>\n",
       "      <td>(41.915,-87.699)</td>\n",
       "      <td>41.920</td>\n",
       "      <td>-87.679</td>\n",
       "      <td>(41.92-,87.679)</td>\n",
       "      <td>19</td>\n",
       "      <td>Thursday</td>\n",
       "      <td>2019-06-27</td>\n",
       "      <td>1</td>\n",
       "    </tr>\n",
       "    <tr>\n",
       "      <th>33112</th>\n",
       "      <td>AVONDALE</td>\n",
       "      <td>HUMBOLDT PARK</td>\n",
       "      <td>41.942</td>\n",
       "      <td>-87.717</td>\n",
       "      <td>(41.942,-87.717)</td>\n",
       "      <td>41.899</td>\n",
       "      <td>-87.721</td>\n",
       "      <td>(41.899,-87.721)</td>\n",
       "      <td>15</td>\n",
       "      <td>Friday</td>\n",
       "      <td>2019-06-21</td>\n",
       "      <td>1</td>\n",
       "    </tr>\n",
       "    <tr>\n",
       "      <th>33131</th>\n",
       "      <td>LOGAN SQUARE</td>\n",
       "      <td>WEST TOWN</td>\n",
       "      <td>41.928</td>\n",
       "      <td>-87.699</td>\n",
       "      <td>(41.928,-87.699)</td>\n",
       "      <td>41.906</td>\n",
       "      <td>-87.665</td>\n",
       "      <td>(41.906,-87.665)</td>\n",
       "      <td>13</td>\n",
       "      <td>Sunday</td>\n",
       "      <td>2019-06-23</td>\n",
       "      <td>1</td>\n",
       "    </tr>\n",
       "    <tr>\n",
       "      <th>33132</th>\n",
       "      <td>HERMOSA</td>\n",
       "      <td>BELMONT CRAGIN</td>\n",
       "      <td>41.915</td>\n",
       "      <td>-87.732</td>\n",
       "      <td>(41.915,-87.732)</td>\n",
       "      <td>41.927</td>\n",
       "      <td>-87.751</td>\n",
       "      <td>(41.927,-87.751)</td>\n",
       "      <td>13</td>\n",
       "      <td>Saturday</td>\n",
       "      <td>2019-06-22</td>\n",
       "      <td>1</td>\n",
       "    </tr>\n",
       "    <tr>\n",
       "      <th>...</th>\n",
       "      <td>...</td>\n",
       "      <td>...</td>\n",
       "      <td>...</td>\n",
       "      <td>...</td>\n",
       "      <td>...</td>\n",
       "      <td>...</td>\n",
       "      <td>...</td>\n",
       "      <td>...</td>\n",
       "      <td>...</td>\n",
       "      <td>...</td>\n",
       "      <td>...</td>\n",
       "      <td>...</td>\n",
       "    </tr>\n",
       "    <tr>\n",
       "      <th>7055</th>\n",
       "      <td>WEST TOWN</td>\n",
       "      <td>WEST TOWN</td>\n",
       "      <td>41.906</td>\n",
       "      <td>-87.675</td>\n",
       "      <td>(41.906,-87.675)</td>\n",
       "      <td>41.906</td>\n",
       "      <td>-87.675</td>\n",
       "      <td>(41.906,-87.675)</td>\n",
       "      <td>14</td>\n",
       "      <td>Thursday</td>\n",
       "      <td>2019-06-20</td>\n",
       "      <td>693</td>\n",
       "    </tr>\n",
       "    <tr>\n",
       "      <th>9726</th>\n",
       "      <td>NEAR WEST SIDE</td>\n",
       "      <td>NEAR WEST SIDE</td>\n",
       "      <td>41.879</td>\n",
       "      <td>-87.657</td>\n",
       "      <td>(41.879,-87.657)</td>\n",
       "      <td>41.885</td>\n",
       "      <td>-87.657</td>\n",
       "      <td>(41.885,-87.657)</td>\n",
       "      <td>11</td>\n",
       "      <td>Wednesday</td>\n",
       "      <td>2019-06-26</td>\n",
       "      <td>733</td>\n",
       "    </tr>\n",
       "    <tr>\n",
       "      <th>929</th>\n",
       "      <td>NEAR WEST SIDE</td>\n",
       "      <td>NEAR WEST SIDE</td>\n",
       "      <td>41.879</td>\n",
       "      <td>-87.657</td>\n",
       "      <td>(41.879,-87.657)</td>\n",
       "      <td>41.879</td>\n",
       "      <td>-87.657</td>\n",
       "      <td>(41.879,-87.657)</td>\n",
       "      <td>17</td>\n",
       "      <td>Tuesday</td>\n",
       "      <td>2019-06-25</td>\n",
       "      <td>871</td>\n",
       "    </tr>\n",
       "    <tr>\n",
       "      <th>0</th>\n",
       "      <td>NEAR WEST SIDE</td>\n",
       "      <td>NEAR WEST SIDE</td>\n",
       "      <td>41.885</td>\n",
       "      <td>-87.657</td>\n",
       "      <td>(41.885,-87.657)</td>\n",
       "      <td>41.879</td>\n",
       "      <td>-87.657</td>\n",
       "      <td>(41.879,-87.657)</td>\n",
       "      <td>12</td>\n",
       "      <td>Tuesday</td>\n",
       "      <td>2019-06-25</td>\n",
       "      <td>924</td>\n",
       "    </tr>\n",
       "    <tr>\n",
       "      <th>1875</th>\n",
       "      <td>NEAR WEST SIDE</td>\n",
       "      <td>NEAR WEST SIDE</td>\n",
       "      <td>41.885</td>\n",
       "      <td>-87.657</td>\n",
       "      <td>(41.885,-87.657)</td>\n",
       "      <td>41.885</td>\n",
       "      <td>-87.657</td>\n",
       "      <td>(41.885,-87.657)</td>\n",
       "      <td>9</td>\n",
       "      <td>Thursday</td>\n",
       "      <td>2019-06-20</td>\n",
       "      <td>4456</td>\n",
       "    </tr>\n",
       "  </tbody>\n",
       "</table>\n",
       "<p>4142 rows × 12 columns</p>\n",
       "</div>"
      ],
      "text/plain": [
       "      Start Community Area Name End Community Area Name  \\\n",
       "31322             HUMBOLDT PARK               WEST TOWN   \n",
       "33111              LOGAN SQUARE            LOGAN SQUARE   \n",
       "33112                  AVONDALE           HUMBOLDT PARK   \n",
       "33131              LOGAN SQUARE               WEST TOWN   \n",
       "33132                   HERMOSA          BELMONT CRAGIN   \n",
       "...                         ...                     ...   \n",
       "7055                  WEST TOWN               WEST TOWN   \n",
       "9726             NEAR WEST SIDE          NEAR WEST SIDE   \n",
       "929              NEAR WEST SIDE          NEAR WEST SIDE   \n",
       "0                NEAR WEST SIDE          NEAR WEST SIDE   \n",
       "1875             NEAR WEST SIDE          NEAR WEST SIDE   \n",
       "\n",
       "       Start Centroid Latitude  Start Centroid Longitude       POINT_START  \\\n",
       "31322                   41.912                   -87.704  (41.912,-87.704)   \n",
       "33111                   41.915                   -87.699  (41.915,-87.699)   \n",
       "33112                   41.942                   -87.717  (41.942,-87.717)   \n",
       "33131                   41.928                   -87.699  (41.928,-87.699)   \n",
       "33132                   41.915                   -87.732  (41.915,-87.732)   \n",
       "...                        ...                       ...               ...   \n",
       "7055                    41.906                   -87.675  (41.906,-87.675)   \n",
       "9726                    41.879                   -87.657  (41.879,-87.657)   \n",
       "929                     41.879                   -87.657  (41.879,-87.657)   \n",
       "0                       41.885                   -87.657  (41.885,-87.657)   \n",
       "1875                    41.885                   -87.657  (41.885,-87.657)   \n",
       "\n",
       "       End Centroid Latitude  End Centroid Longitude         POINT_END  \\\n",
       "31322                 41.907                 -87.694  (41.907,-87.694)   \n",
       "33111                 41.920                 -87.679   (41.92-,87.679)   \n",
       "33112                 41.899                 -87.721  (41.899,-87.721)   \n",
       "33131                 41.906                 -87.665  (41.906,-87.665)   \n",
       "33132                 41.927                 -87.751  (41.927,-87.751)   \n",
       "...                      ...                     ...               ...   \n",
       "7055                  41.906                 -87.675  (41.906,-87.675)   \n",
       "9726                  41.885                 -87.657  (41.885,-87.657)   \n",
       "929                   41.879                 -87.657  (41.879,-87.657)   \n",
       "0                     41.879                 -87.657  (41.879,-87.657)   \n",
       "1875                  41.885                 -87.657  (41.885,-87.657)   \n",
       "\n",
       "       Start Hour  start_day  Start Date  weight  \n",
       "31322          19    Tuesday  2019-06-25       1  \n",
       "33111          19   Thursday  2019-06-27       1  \n",
       "33112          15     Friday  2019-06-21       1  \n",
       "33131          13     Sunday  2019-06-23       1  \n",
       "33132          13   Saturday  2019-06-22       1  \n",
       "...           ...        ...         ...     ...  \n",
       "7055           14   Thursday  2019-06-20     693  \n",
       "9726           11  Wednesday  2019-06-26     733  \n",
       "929            17    Tuesday  2019-06-25     871  \n",
       "0              12    Tuesday  2019-06-25     924  \n",
       "1875            9   Thursday  2019-06-20    4456  \n",
       "\n",
       "[4142 rows x 12 columns]"
      ]
     },
     "execution_count": 49,
     "metadata": {},
     "output_type": "execute_result"
    }
   ],
   "source": [
    "df_week1.sort_values('weight')"
   ]
  },
  {
   "cell_type": "code",
   "execution_count": 50,
   "metadata": {},
   "outputs": [
    {
     "data": {
      "text/html": [
       "<div>\n",
       "<style scoped>\n",
       "    .dataframe tbody tr th:only-of-type {\n",
       "        vertical-align: middle;\n",
       "    }\n",
       "\n",
       "    .dataframe tbody tr th {\n",
       "        vertical-align: top;\n",
       "    }\n",
       "\n",
       "    .dataframe thead th {\n",
       "        text-align: right;\n",
       "    }\n",
       "</style>\n",
       "<table border=\"1\" class=\"dataframe\">\n",
       "  <thead>\n",
       "    <tr style=\"text-align: right;\">\n",
       "      <th></th>\n",
       "      <th>Start Community Area Name</th>\n",
       "      <th>End Community Area Name</th>\n",
       "      <th>Start Centroid Latitude</th>\n",
       "      <th>Start Centroid Longitude</th>\n",
       "      <th>POINT_START</th>\n",
       "      <th>End Centroid Latitude</th>\n",
       "      <th>End Centroid Longitude</th>\n",
       "      <th>POINT_END</th>\n",
       "      <th>Start Hour</th>\n",
       "      <th>start_day</th>\n",
       "      <th>Start Date</th>\n",
       "      <th>weight</th>\n",
       "    </tr>\n",
       "  </thead>\n",
       "  <tbody>\n",
       "    <tr>\n",
       "      <th>25885</th>\n",
       "      <td>WEST TOWN</td>\n",
       "      <td>LOGAN SQUARE</td>\n",
       "      <td>41.892</td>\n",
       "      <td>-87.664</td>\n",
       "      <td>(41.892,-87.664)</td>\n",
       "      <td>41.915</td>\n",
       "      <td>-87.683</td>\n",
       "      <td>(41.915,-87.683)</td>\n",
       "      <td>19</td>\n",
       "      <td>Thursday</td>\n",
       "      <td>2019-08-29</td>\n",
       "      <td>1</td>\n",
       "    </tr>\n",
       "    <tr>\n",
       "      <th>27144</th>\n",
       "      <td>NEAR WEST SIDE</td>\n",
       "      <td>AVONDALE</td>\n",
       "      <td>41.885</td>\n",
       "      <td>-87.657</td>\n",
       "      <td>(41.885,-87.657)</td>\n",
       "      <td>41.935</td>\n",
       "      <td>-87.693</td>\n",
       "      <td>(41.935,-87.693)</td>\n",
       "      <td>19</td>\n",
       "      <td>Wednesday</td>\n",
       "      <td>2019-08-28</td>\n",
       "      <td>1</td>\n",
       "    </tr>\n",
       "    <tr>\n",
       "      <th>27132</th>\n",
       "      <td>LOGAN SQUARE</td>\n",
       "      <td>WEST TOWN</td>\n",
       "      <td>41.920</td>\n",
       "      <td>-87.694</td>\n",
       "      <td>(41.92-,87.694)</td>\n",
       "      <td>41.906</td>\n",
       "      <td>-87.665</td>\n",
       "      <td>(41.906,-87.665)</td>\n",
       "      <td>16</td>\n",
       "      <td>Thursday</td>\n",
       "      <td>2019-08-29</td>\n",
       "      <td>1</td>\n",
       "    </tr>\n",
       "    <tr>\n",
       "      <th>27131</th>\n",
       "      <td>AVONDALE</td>\n",
       "      <td>WEST TOWN</td>\n",
       "      <td>41.935</td>\n",
       "      <td>-87.730</td>\n",
       "      <td>(41.935,-87.73)</td>\n",
       "      <td>41.904</td>\n",
       "      <td>-87.701</td>\n",
       "      <td>(41.904,-87.701)</td>\n",
       "      <td>14</td>\n",
       "      <td>Sunday</td>\n",
       "      <td>2019-09-01</td>\n",
       "      <td>1</td>\n",
       "    </tr>\n",
       "    <tr>\n",
       "      <th>27130</th>\n",
       "      <td>BELMONT CRAGIN</td>\n",
       "      <td>BELMONT CRAGIN</td>\n",
       "      <td>41.934</td>\n",
       "      <td>-87.771</td>\n",
       "      <td>(41.934,-87.771)</td>\n",
       "      <td>41.919</td>\n",
       "      <td>-87.750</td>\n",
       "      <td>(41.919,-87.75)</td>\n",
       "      <td>17</td>\n",
       "      <td>Wednesday</td>\n",
       "      <td>2019-08-28</td>\n",
       "      <td>1</td>\n",
       "    </tr>\n",
       "    <tr>\n",
       "      <th>...</th>\n",
       "      <td>...</td>\n",
       "      <td>...</td>\n",
       "      <td>...</td>\n",
       "      <td>...</td>\n",
       "      <td>...</td>\n",
       "      <td>...</td>\n",
       "      <td>...</td>\n",
       "      <td>...</td>\n",
       "      <td>...</td>\n",
       "      <td>...</td>\n",
       "      <td>...</td>\n",
       "      <td>...</td>\n",
       "    </tr>\n",
       "    <tr>\n",
       "      <th>13586</th>\n",
       "      <td>WEST TOWN</td>\n",
       "      <td>WEST TOWN</td>\n",
       "      <td>41.906</td>\n",
       "      <td>-87.675</td>\n",
       "      <td>(41.906,-87.675)</td>\n",
       "      <td>41.906</td>\n",
       "      <td>-87.675</td>\n",
       "      <td>(41.906,-87.675)</td>\n",
       "      <td>18</td>\n",
       "      <td>Friday</td>\n",
       "      <td>2019-08-30</td>\n",
       "      <td>715</td>\n",
       "    </tr>\n",
       "    <tr>\n",
       "      <th>5552</th>\n",
       "      <td>NEAR WEST SIDE</td>\n",
       "      <td>NEAR WEST SIDE</td>\n",
       "      <td>41.885</td>\n",
       "      <td>-87.657</td>\n",
       "      <td>(41.885,-87.657)</td>\n",
       "      <td>41.879</td>\n",
       "      <td>-87.657</td>\n",
       "      <td>(41.879,-87.657)</td>\n",
       "      <td>20</td>\n",
       "      <td>Wednesday</td>\n",
       "      <td>2019-09-04</td>\n",
       "      <td>836</td>\n",
       "    </tr>\n",
       "    <tr>\n",
       "      <th>6392</th>\n",
       "      <td>NEAR WEST SIDE</td>\n",
       "      <td>NEAR WEST SIDE</td>\n",
       "      <td>41.879</td>\n",
       "      <td>-87.657</td>\n",
       "      <td>(41.879,-87.657)</td>\n",
       "      <td>41.879</td>\n",
       "      <td>-87.657</td>\n",
       "      <td>(41.879,-87.657)</td>\n",
       "      <td>14</td>\n",
       "      <td>Sunday</td>\n",
       "      <td>2019-09-01</td>\n",
       "      <td>897</td>\n",
       "    </tr>\n",
       "    <tr>\n",
       "      <th>7348</th>\n",
       "      <td>NEAR WEST SIDE</td>\n",
       "      <td>NEAR WEST SIDE</td>\n",
       "      <td>41.867</td>\n",
       "      <td>-87.642</td>\n",
       "      <td>(41.867,-87.642)</td>\n",
       "      <td>41.867</td>\n",
       "      <td>-87.642</td>\n",
       "      <td>(41.867,-87.642)</td>\n",
       "      <td>15</td>\n",
       "      <td>Thursday</td>\n",
       "      <td>2019-08-29</td>\n",
       "      <td>1186</td>\n",
       "    </tr>\n",
       "    <tr>\n",
       "      <th>130</th>\n",
       "      <td>NEAR WEST SIDE</td>\n",
       "      <td>NEAR WEST SIDE</td>\n",
       "      <td>41.885</td>\n",
       "      <td>-87.657</td>\n",
       "      <td>(41.885,-87.657)</td>\n",
       "      <td>41.885</td>\n",
       "      <td>-87.657</td>\n",
       "      <td>(41.885,-87.657)</td>\n",
       "      <td>16</td>\n",
       "      <td>Wednesday</td>\n",
       "      <td>2019-08-28</td>\n",
       "      <td>3937</td>\n",
       "    </tr>\n",
       "  </tbody>\n",
       "</table>\n",
       "<p>2677 rows × 12 columns</p>\n",
       "</div>"
      ],
      "text/plain": [
       "      Start Community Area Name End Community Area Name  \\\n",
       "25885                 WEST TOWN            LOGAN SQUARE   \n",
       "27144            NEAR WEST SIDE                AVONDALE   \n",
       "27132              LOGAN SQUARE               WEST TOWN   \n",
       "27131                  AVONDALE               WEST TOWN   \n",
       "27130            BELMONT CRAGIN          BELMONT CRAGIN   \n",
       "...                         ...                     ...   \n",
       "13586                 WEST TOWN               WEST TOWN   \n",
       "5552             NEAR WEST SIDE          NEAR WEST SIDE   \n",
       "6392             NEAR WEST SIDE          NEAR WEST SIDE   \n",
       "7348             NEAR WEST SIDE          NEAR WEST SIDE   \n",
       "130              NEAR WEST SIDE          NEAR WEST SIDE   \n",
       "\n",
       "       Start Centroid Latitude  Start Centroid Longitude       POINT_START  \\\n",
       "25885                   41.892                   -87.664  (41.892,-87.664)   \n",
       "27144                   41.885                   -87.657  (41.885,-87.657)   \n",
       "27132                   41.920                   -87.694   (41.92-,87.694)   \n",
       "27131                   41.935                   -87.730   (41.935,-87.73)   \n",
       "27130                   41.934                   -87.771  (41.934,-87.771)   \n",
       "...                        ...                       ...               ...   \n",
       "13586                   41.906                   -87.675  (41.906,-87.675)   \n",
       "5552                    41.885                   -87.657  (41.885,-87.657)   \n",
       "6392                    41.879                   -87.657  (41.879,-87.657)   \n",
       "7348                    41.867                   -87.642  (41.867,-87.642)   \n",
       "130                     41.885                   -87.657  (41.885,-87.657)   \n",
       "\n",
       "       End Centroid Latitude  End Centroid Longitude         POINT_END  \\\n",
       "25885                 41.915                 -87.683  (41.915,-87.683)   \n",
       "27144                 41.935                 -87.693  (41.935,-87.693)   \n",
       "27132                 41.906                 -87.665  (41.906,-87.665)   \n",
       "27131                 41.904                 -87.701  (41.904,-87.701)   \n",
       "27130                 41.919                 -87.750   (41.919,-87.75)   \n",
       "...                      ...                     ...               ...   \n",
       "13586                 41.906                 -87.675  (41.906,-87.675)   \n",
       "5552                  41.879                 -87.657  (41.879,-87.657)   \n",
       "6392                  41.879                 -87.657  (41.879,-87.657)   \n",
       "7348                  41.867                 -87.642  (41.867,-87.642)   \n",
       "130                   41.885                 -87.657  (41.885,-87.657)   \n",
       "\n",
       "       Start Hour  start_day  Start Date  weight  \n",
       "25885          19   Thursday  2019-08-29       1  \n",
       "27144          19  Wednesday  2019-08-28       1  \n",
       "27132          16   Thursday  2019-08-29       1  \n",
       "27131          14     Sunday  2019-09-01       1  \n",
       "27130          17  Wednesday  2019-08-28       1  \n",
       "...           ...        ...         ...     ...  \n",
       "13586          18     Friday  2019-08-30     715  \n",
       "5552           20  Wednesday  2019-09-04     836  \n",
       "6392           14     Sunday  2019-09-01     897  \n",
       "7348           15   Thursday  2019-08-29    1186  \n",
       "130            16  Wednesday  2019-08-28    3937  \n",
       "\n",
       "[2677 rows x 12 columns]"
      ]
     },
     "execution_count": 50,
     "metadata": {},
     "output_type": "execute_result"
    }
   ],
   "source": [
    "df_week3.sort_values('weight')"
   ]
  },
  {
   "cell_type": "code",
   "execution_count": 51,
   "metadata": {},
   "outputs": [
    {
     "name": "stdout",
     "output_type": "stream",
     "text": [
      "Name: \n",
      "Type: DiGraph\n",
      "Number of nodes: 237\n",
      "Number of edges: 3900\n",
      "Average in degree:  16.4557\n",
      "Average out degree:  16.4557\n",
      "Name: \n",
      "Type: Graph\n",
      "Number of nodes: 237\n",
      "Number of edges: 2856\n",
      "Average degree:  24.1013\n"
     ]
    }
   ],
   "source": [
    "#Create graph for week1 df\n",
    "G_week0 = nx.from_pandas_edgelist(df=df_week0,source='POINT_START',target='POINT_END',edge_attr=True,create_using=nx.DiGraph())\n",
    "attrs_n={}\n",
    "\n",
    "for i in range(len(s_points)):\n",
    "    attrs_n[s_points[i]]= {'Latitude': s_Latitude[i],'Longitude': s_Longitude[i],'Area':s_area[i]}\n",
    "    attrs_n[e_points[i]]= {'Latitude': e_Latitude[i],'Longitude': e_Longitude[i],'Area':e_area[i]}    \n",
    "nx.set_node_attributes(G_week0,attrs_n)\n",
    "print (nx.info(G_week0))\n",
    "#nx.draw(G, with_labels=None)\n",
    "#plt.show()\n",
    "\n",
    "#Create weighted & undirected graph for start project\n",
    "G_week0_undirected = G_week0.to_undirected()\n",
    "for node in G_week0:\n",
    "    for ngbr in nx.neighbors(G_week0, node):\n",
    "        if node in nx.neighbors(G_week0, ngbr):\n",
    "            G_week0_undirected.edges[node, ngbr]['weight'] = (\n",
    "                G_week0.edges[node, ngbr]['weight'] + G_week0.edges[ngbr, node]['weight']\n",
    "            )\n",
    "G_week0_undirected.edges.data('weight')\n",
    "print (nx.info(G_week0_undirected))"
   ]
  },
  {
   "cell_type": "code",
   "execution_count": 52,
   "metadata": {},
   "outputs": [
    {
     "name": "stdout",
     "output_type": "stream",
     "text": [
      "Name: \n",
      "Type: DiGraph\n",
      "Number of nodes: 240\n",
      "Number of edges: 4142\n",
      "Average in degree:  17.2583\n",
      "Average out degree:  17.2583\n",
      "Name: \n",
      "Type: Graph\n",
      "Number of nodes: 240\n",
      "Number of edges: 3023\n",
      "Average degree:  25.1917\n"
     ]
    }
   ],
   "source": [
    "#Create graph for week1 df\n",
    "G_week1 = nx.from_pandas_edgelist(df=df_week1,source='POINT_START',target='POINT_END',edge_attr=True,create_using=nx.DiGraph())\n",
    "attrs_n={}\n",
    "\n",
    "for i in range(len(s_points)):\n",
    "    attrs_n[s_points[i]]= {'Latitude': s_Latitude[i],'Longitude': s_Longitude[i],'Area':s_area[i]}\n",
    "    attrs_n[e_points[i]]= {'Latitude': e_Latitude[i],'Longitude': e_Longitude[i],'Area':e_area[i]}    \n",
    "nx.set_node_attributes(G_week1,attrs_n)\n",
    "print (nx.info(G_week1))\n",
    "#nx.draw(G, with_labels=None)\n",
    "#plt.show()\n",
    "\n",
    "#Create weighted & undirected graph for start project\n",
    "G_week1_undirected = G_week1.to_undirected()\n",
    "for node in G_week1:\n",
    "    for ngbr in nx.neighbors(G_week1, node):\n",
    "        if node in nx.neighbors(G_week1, ngbr):\n",
    "            G_week1_undirected.edges[node, ngbr]['weight'] = (\n",
    "                G_week1.edges[node, ngbr]['weight'] + G_week1.edges[ngbr, node]['weight']\n",
    "            )\n",
    "G_week1_undirected.edges.data('weight')\n",
    "print (nx.info(G_week1_undirected))"
   ]
  },
  {
   "cell_type": "code",
   "execution_count": 53,
   "metadata": {},
   "outputs": [
    {
     "name": "stdout",
     "output_type": "stream",
     "text": [
      "Name: \n",
      "Type: DiGraph\n",
      "Number of nodes: 218\n",
      "Number of edges: 3216\n",
      "Average in degree:  14.7523\n",
      "Average out degree:  14.7523\n",
      "Name: \n",
      "Type: Graph\n",
      "Number of nodes: 218\n",
      "Number of edges: 2301\n",
      "Average degree:  21.1101\n"
     ]
    }
   ],
   "source": [
    "#Create graph for week2 df\n",
    "G_week2 = nx.from_pandas_edgelist(df=df_week2,source='POINT_START',target='POINT_END',edge_attr=True,create_using=nx.DiGraph())\n",
    "attrs_n={}\n",
    "\n",
    "for i in range(len(s_points)):\n",
    "    attrs_n[s_points[i]]= {'Latitude': s_Latitude[i],'Longitude': s_Longitude[i],'Area':s_area[i]}\n",
    "    attrs_n[e_points[i]]= {'Latitude': e_Latitude[i],'Longitude': e_Longitude[i],'Area':e_area[i]}    \n",
    "nx.set_node_attributes(G_week2,attrs_n)\n",
    "print (nx.info(G_week2))\n",
    "#nx.draw(G, with_labels=None)\n",
    "#plt.show()\n",
    "\n",
    "#Create weighted & undirected graph for start project\n",
    "G_week2_undirected = G_week2.to_undirected()\n",
    "for node in G_week2:\n",
    "    for ngbr in nx.neighbors(G_week2, node):\n",
    "        if node in nx.neighbors(G_week2, ngbr):\n",
    "            G_week2_undirected.edges[node, ngbr]['weight'] = (\n",
    "                G_week2.edges[node, ngbr]['weight'] + G_week2.edges[ngbr, node]['weight']\n",
    "            )\n",
    "G_week2_undirected.edges.data('weight')\n",
    "print (nx.info(G_week2_undirected))"
   ]
  },
  {
   "cell_type": "code",
   "execution_count": 54,
   "metadata": {},
   "outputs": [
    {
     "name": "stdout",
     "output_type": "stream",
     "text": [
      "Name: \n",
      "Type: DiGraph\n",
      "Number of nodes: 204\n",
      "Number of edges: 2677\n",
      "Average in degree:  13.1225\n",
      "Average out degree:  13.1225\n",
      "Name: \n",
      "Type: Graph\n",
      "Number of nodes: 204\n",
      "Number of edges: 1913\n",
      "Average degree:  18.7549\n"
     ]
    }
   ],
   "source": [
    "#Create graph for week2 df\n",
    "G_week3 = nx.from_pandas_edgelist(df=df_week3,source='POINT_START',target='POINT_END',edge_attr=True,create_using=nx.DiGraph())\n",
    "attrs_n={}\n",
    "\n",
    "for i in range(len(s_points)):\n",
    "    attrs_n[s_points[i]]= {'Latitude': s_Latitude[i],'Longitude': s_Longitude[i],'Area':s_area[i]}\n",
    "    attrs_n[e_points[i]]= {'Latitude': e_Latitude[i],'Longitude': e_Longitude[i],'Area':e_area[i]}    \n",
    "nx.set_node_attributes(G_week3,attrs_n)\n",
    "print (nx.info(G_week3))\n",
    "#nx.draw(G, with_labels=None)\n",
    "#plt.show()\n",
    "\n",
    "#Create weighted & undirected graph for start project\n",
    "G_week3_undirected = G_week3.to_undirected()\n",
    "for node in G_week3:\n",
    "    for ngbr in nx.neighbors(G_week3, node):\n",
    "        if node in nx.neighbors(G_week3, ngbr):\n",
    "            G_week3_undirected.edges[node, ngbr]['weight'] = (\n",
    "                G_week3.edges[node, ngbr]['weight'] + G_week3.edges[ngbr, node]['weight']\n",
    "            )\n",
    "G_week3_undirected.edges.data('weight')\n",
    "print (nx.info(G_week3_undirected))"
   ]
  },
  {
   "cell_type": "code",
   "execution_count": 55,
   "metadata": {},
   "outputs": [
    {
     "name": "stdout",
     "output_type": "stream",
     "text": [
      "Name: \n",
      "Type: DiGraph\n",
      "Number of nodes: 104\n",
      "Number of edges: 579\n",
      "Average in degree:   5.5673\n",
      "Average out degree:   5.5673\n",
      "Name: \n",
      "Type: Graph\n",
      "Number of nodes: 104\n",
      "Number of edges: 466\n",
      "Average degree:   8.9615\n"
     ]
    }
   ],
   "source": [
    "#Create graph for week2 df\n",
    "G_week4 = nx.from_pandas_edgelist(df=df_week4,source='POINT_START',target='POINT_END',edge_attr=True,create_using=nx.DiGraph())\n",
    "attrs_n={}\n",
    "\n",
    "for i in range(len(s_points)):\n",
    "    attrs_n[s_points[i]]= {'Latitude': s_Latitude[i],'Longitude': s_Longitude[i],'Area':s_area[i]}\n",
    "    attrs_n[e_points[i]]= {'Latitude': e_Latitude[i],'Longitude': e_Longitude[i],'Area':e_area[i]}    \n",
    "nx.set_node_attributes(G_week4,attrs_n)\n",
    "print (nx.info(G_week4))\n",
    "#nx.draw(G, with_labels=None)\n",
    "#plt.show()\n",
    "\n",
    "#Create weighted & undirected graph for start project\n",
    "G_week4_undirected = G_week4.to_undirected()\n",
    "for node in G_week4:\n",
    "    for ngbr in nx.neighbors(G_week4, node):\n",
    "        if node in nx.neighbors(G_week4, ngbr):\n",
    "            G_week4_undirected.edges[node, ngbr]['weight'] = (\n",
    "                G_week4.edges[node, ngbr]['weight'] + G_week4.edges[ngbr, node]['weight']\n",
    "            )\n",
    "G_week4_undirected.edges.data('weight')\n",
    "print (nx.info(G_week4_undirected))"
   ]
  },
  {
   "cell_type": "code",
   "execution_count": 56,
   "metadata": {},
   "outputs": [],
   "source": [
    "#Plot degree distrebution\n",
    "def plot_degree_dist(G,d=None):\n",
    "    if not nx.is_directed(G):\n",
    "        degree_histogram = nx.degree_histogram(G)\n",
    "        title = 'Degree Distribution'\n",
    "    else:\n",
    "        hist_dict ={}\n",
    "        if d == \"in\":\n",
    "            degree = dict(G.in_degree)\n",
    "            title = 'In Degree Distribution'\n",
    "        else: \n",
    "            degree = dict(G.out_degree)\n",
    "            title = 'Out Degree Distribution'\n",
    "        for i, j in degree.items():\n",
    "            if j not in hist_dict.keys():\n",
    "                hist_dict[j]=1\n",
    "            else: hist_dict[j]+=1\n",
    "\n",
    "        num = -1\n",
    "        for i in sorted(hist_dict.keys()):\n",
    "            num+=1\n",
    "            if i == num:\n",
    "                continue    \n",
    "            else:     \n",
    "                while num<i:\n",
    "                    hist_dict[num]=0\n",
    "                    num+=1\n",
    "        degree_histogram = [val for key, val in sorted(hist_dict.items(), reverse=True)]        \n",
    "        \n",
    "    degree_prob = np.array(degree_histogram, dtype=float)/G.number_of_nodes()\n",
    "    \n",
    "    # plotting\n",
    "    fig = plt.figure(figsize=(6,6))\n",
    "    axes = fig.add_axes([1,1,1,1])\n",
    "    \n",
    "    axes.loglog(np.arange(degree_prob.shape[0]), degree_prob, 'b.', markersize=15, alpha=0.5)\n",
    "    \n",
    "    axes.set_xlabel('k')\n",
    "    axes.set_ylabel('p(k)')\n",
    "    axes.set_title(title)\n",
    "    \n",
    "    plt.show()"
   ]
  },
  {
   "cell_type": "code",
   "execution_count": 57,
   "metadata": {},
   "outputs": [],
   "source": [
    "# fit line for the k(knn) graph \n",
    "def fit_func(x,a,mu):\n",
    "    return (a*x)**mu"
   ]
  },
  {
   "cell_type": "code",
   "execution_count": 58,
   "metadata": {},
   "outputs": [],
   "source": [
    "# plot k(knn) graph\n",
    "def plot_knn(G, source=None, target=None, fit=False): \n",
    "    if source == 'in':\n",
    "        knn_dict = nx.k_nearest_neighbors(G,source,target) # k_nearest_neighbors return dict with knn for each k\n",
    "        if target == 'in':\n",
    "            title = 'Average next neighbor in degree for in edges'\n",
    "        else: title = 'Average next neighbor out degree for in edges'\n",
    "    elif source=='out':\n",
    "        knn_dict = nx.k_nearest_neighbors(G,source,target)\n",
    "        if target == 'in':\n",
    "            title = 'Average next neighbor in degree for out edges'\n",
    "        else:\n",
    "            for i in knn_dict.items():\n",
    "                title = 'Average next neighbor out degree for out edges'\n",
    "    else: \n",
    "        knn_dict = nx.k_nearest_neighbors(G)\n",
    "        title = 'Average next neighbor degree (undirected graph)'\n",
    "        \n",
    "    k_lst = sorted(knn_dict.keys())\n",
    "    knn_lst = []\n",
    "    for k in k_lst:\n",
    "        knn_lst.append(knn_dict[k])\n",
    "    \n",
    "    # plotting\n",
    "    fig = plt.figure(figsize=(6,6))\n",
    "    axes = fig.add_axes([1,1,1,1])\n",
    "    \n",
    "    axes.loglog(k_lst,knn_lst,'b.', markersize=15, alpha=0.5)\n",
    "    \n",
    "    axes.set_xlabel('k')\n",
    "    axes.set_ylabel('knn(k)')\n",
    "    axes.set_title(title)\n",
    "    \n",
    "    if fit:\n",
    "        # fit a*x^mu\n",
    "        popt, pcov = curve_fit(fit_func, np.array(k_lst), np.array(knn_lst))\n",
    "        axes.loglog(np.array(k_lst), fit_func(np.array(k_lst), *popt), '--', c='gray')\n",
    "\n",
    "    plt.show()"
   ]
  },
  {
   "cell_type": "code",
   "execution_count": 59,
   "metadata": {},
   "outputs": [
    {
     "data": {
      "text/plain": [
       "\"        \\ndef plot_snn(G, fit=True): \\n    if source == 'in':\\n    snn_dict = nx.k_nearest_neighbors(G, weight='weight') \\n    k_lst = sorted(snn_dict.keys())\\n    snn_lst = []\\n    for k in k_lst:\\n        snn_lst.append(snn_dict[k])\\n    \\n    # plotting\\n    fig = plt.figure(figsize=(6,6))\\n    axes = fig.add_axes([1,1,1,1])\\n    \\n    axes.loglog(k_lst,snn_lst,'b.', markersize=15, alpha=0.5)\\n    \\n    axes.set_xlabel('k')\\n    axes.set_ylabel('snn(k)')\\n    axes.set_title('Average next neighbor strength')\\n    \\n    if fit:\\n        # fit a*x^mu\\n        popt, pcov = curve_fit(fit_func, np.array(k_lst), np.array(snn_lst))\\n        axes.loglog(np.array(k_lst), fit_func(np.array(k_lst), *popt), '--', c='gray')\\n    \\n    plt.show()\\n    \""
      ]
     },
     "execution_count": 59,
     "metadata": {},
     "output_type": "execute_result"
    }
   ],
   "source": [
    "#Plot snn as function of k\n",
    "def fit_func(x,a,mu):\n",
    "    return (a*x)**mu\n",
    "\n",
    "\n",
    "\n",
    "\n",
    "\n",
    "# plot k(knn) graph\n",
    "def plot_snn(G, source=None, target=None, fit=False): \n",
    "    if source == 'in':\n",
    "        snn_dict = nx.k_nearest_neighbors(G,source,target,weight='weight') # k_nearest_neighbors return dict with knn for each k\n",
    "        if target == 'in':\n",
    "            title = 'Average next neighbor strength in degree for in edges'\n",
    "        else: title = 'Average next neighbor strength out degree for in edges'\n",
    "    elif source=='out':\n",
    "        snn_dict = nx.k_nearest_neighbors(G,source,target,weight='weight')\n",
    "        if target == 'in':\n",
    "            title = 'Average next neighbor strength in degree for out edges'\n",
    "        else:\n",
    "            for i in snn_dict.items():\n",
    "                title = 'Average next neighbor strength out degree for out edges'\n",
    "    else: \n",
    "        snn_dict = nx.k_nearest_neighbors(G,weight='weight')\n",
    "        title = 'Average next neighbor strength (undirected graph)'\n",
    "        \n",
    "    s_lst = sorted(snn_dict.keys())\n",
    "    snn_lst = []\n",
    "    for k in s_lst:\n",
    "        snn_lst.append(snn_dict[k])\n",
    "    \n",
    "    # plotting\n",
    "    fig = plt.figure(figsize=(6,6))\n",
    "    axes = fig.add_axes([1,1,1,1])\n",
    "    \n",
    "    axes.loglog(s_lst,snn_lst,'b.', markersize=15, alpha=0.5)\n",
    "    \n",
    "    axes.set_xlabel('k')\n",
    "    axes.set_ylabel('snn(k)')\n",
    "    axes.set_title(title)\n",
    "    \n",
    "    if fit:\n",
    "        # fit a*x^mu\n",
    "        popt, pcov = curve_fit(fit_func, np.array(s_lst), np.array(snn_lst))\n",
    "        axes.loglog(np.array(s_lst), fit_func(np.array(s_lst), *popt), '--', c='gray')\n",
    "\n",
    "    plt.show()\n",
    "        \n",
    "'''        \n",
    "def plot_snn(G, fit=True): \n",
    "    if source == 'in':\n",
    "    snn_dict = nx.k_nearest_neighbors(G, weight='weight') \n",
    "    k_lst = sorted(snn_dict.keys())\n",
    "    snn_lst = []\n",
    "    for k in k_lst:\n",
    "        snn_lst.append(snn_dict[k])\n",
    "    \n",
    "    # plotting\n",
    "    fig = plt.figure(figsize=(6,6))\n",
    "    axes = fig.add_axes([1,1,1,1])\n",
    "    \n",
    "    axes.loglog(k_lst,snn_lst,'b.', markersize=15, alpha=0.5)\n",
    "    \n",
    "    axes.set_xlabel('k')\n",
    "    axes.set_ylabel('snn(k)')\n",
    "    axes.set_title('Average next neighbor strength')\n",
    "    \n",
    "    if fit:\n",
    "        # fit a*x^mu\n",
    "        popt, pcov = curve_fit(fit_func, np.array(k_lst), np.array(snn_lst))\n",
    "        axes.loglog(np.array(k_lst), fit_func(np.array(k_lst), *popt), '--', c='gray')\n",
    "    \n",
    "    plt.show()\n",
    "    '''"
   ]
  },
  {
   "cell_type": "code",
   "execution_count": 60,
   "metadata": {},
   "outputs": [],
   "source": [
    "#Clustering coefficient for k\n",
    "#calculate C(k) the average clustering coefficient for nodes with degree k.\n",
    "def plot_clustering_coefficient(G):\n",
    "    clustering_dict = {}\n",
    "    for node in G.nodes():\n",
    "        k = G.degree(node)\n",
    "        if not k in clustering_dict:\n",
    "            clustering_dict[k] = [nx.clustering(G,node)]\n",
    "        else:\n",
    "            clustering_dict[k].append(nx.clustering(G,node))\n",
    "    k_lst = sorted(clustering_dict.keys())\n",
    "    clustering_lst = []\n",
    "    for k in k_lst:\n",
    "        clustering_lst.append(np.array(clustering_dict[k]).mean())\n",
    "    \n",
    "    # plotting\n",
    "    fig = plt.figure(figsize=(6,6))\n",
    "    axes = fig.add_axes([1,1,1,1])\n",
    "    \n",
    "    axes.loglog(k_lst,clustering_lst,'b.', markersize=15, alpha=0.5)\n",
    "    \n",
    "    axes.set_xlabel('k')\n",
    "    axes.set_ylabel('C(k)')\n",
    "    axes.set_title('Average clustering coefficient')\n",
    "    plt.show()"
   ]
  },
  {
   "cell_type": "code",
   "execution_count": 61,
   "metadata": {},
   "outputs": [],
   "source": [
    "def plot_weight_dist(G):\n",
    "    weight_hist = list(nx.get_edge_attributes(G,'weight').values())\n",
    "    weight_hist = np.array(weight_hist, dtype=float)\n",
    "    degree_prob = weight_hist/G.number_of_nodes()\n",
    "    \n",
    "    # plotting\n",
    "    fig = plt.figure(figsize=(5,5))\n",
    "    axes = fig.add_axes([1,1,1,1])\n",
    "    \n",
    "    axes.loglog(np.arange(degree_prob.shape[0]), degree_prob, 'b.', markersize=15, alpha=0.5)\n",
    "    \n",
    "    axes.set_xlabel('w [log scale]')\n",
    "    axes.set_ylabel('p(w) [log scale]')\n",
    "    axes.set_title('Weight Distribution')\n",
    "    \n",
    "    plt.show()"
   ]
  },
  {
   "cell_type": "markdown",
   "metadata": {},
   "source": [
    "### Clustering coefficient for random graph"
   ]
  },
  {
   "cell_type": "code",
   "execution_count": 62,
   "metadata": {},
   "outputs": [
    {
     "name": "stdout",
     "output_type": "stream",
     "text": [
      "Average clustering coefficient for random graph = 0.2998610467809171\n"
     ]
    }
   ],
   "source": [
    "N = 255.0\n",
    "L =9711.0\n",
    "p = (2*L)/(N*(N-1))\n",
    "print('Average clustering coefficient for random graph = {}'.format(p))"
   ]
  },
  {
   "cell_type": "markdown",
   "metadata": {},
   "source": [
    "### We will wrap the attributes from above and the plots in a function for our convenience"
   ]
  },
  {
   "cell_type": "code",
   "execution_count": 63,
   "metadata": {},
   "outputs": [],
   "source": [
    "def print_attributes_and_plots(G):\n",
    "    print (nx.info(G))\n",
    "    if not nx.is_directed(G):\n",
    "        if nx.is_connected(G):\n",
    "            print ('Diameter: %s' % nx.diameter(G)) # print diameter of the network\n",
    "            print('Average Shortest Path Length: %s' % nx.average_shortest_path_length(G)) #print average shortest path length\n",
    "        else:\n",
    "            print ('Graph not connected: infinite path length')\n",
    "            print ('Size of largest component: %s' % len(max(nx.connected_components(G), key=len)))\n",
    "        plot_degree_dist(G)\n",
    "        plot_snn(G)\n",
    "        plot_clustering_coefficient(G)\n",
    "        print('Average Clustering Coefficient: %s' % nx.average_clustering(G))\n",
    "    else:\n",
    "        plot_degree_dist(G, d='in')\n",
    "        plot_degree_dist(G, d='out')\n",
    "        plot_knn(G,'in','out') \n",
    "        plot_knn(G,'in','in')\n",
    "        plot_knn(G,'out','out') \n",
    "        plot_knn(G,'out','in') \n",
    "        plot_snn(G,'in','out') \n",
    "        plot_snn(G,'in','in')\n",
    "        plot_snn(G,'out','out') \n",
    "        plot_snn(G,'out','in') \n",
    "    print ('In Degree Assortativity Coefficient (r): %s' % nx.degree_assortativity_coefficient(G,'in','in'))\n",
    "    print ('Out Degree Assortativity Coefficient (r): %s' % nx.degree_assortativity_coefficient(G,'out','out'))"
   ]
  },
  {
   "cell_type": "code",
   "execution_count": 64,
   "metadata": {},
   "outputs": [
    {
     "name": "stdout",
     "output_type": "stream",
     "text": [
      "Name: \n",
      "Type: DiGraph\n",
      "Number of nodes: 255\n",
      "Number of edges: 9711\n",
      "Average in degree:  38.0824\n",
      "Average out degree:  38.0824\n"
     ]
    },
    {
     "data": {
      "image/png": "[encoded data removed]",
      "text/plain": [
       "<Figure size 432x432 with 1 Axes>"
      ]
     },
     "metadata": {
      "needs_background": "light"
     },
     "output_type": "display_data"
    },
    {
     "data": {
      "image/png": "[encoded data removed]",
      "text/plain": [
       "<Figure size 432x432 with 1 Axes>"
      ]
     },
     "metadata": {
      "needs_background": "light"
     },
     "output_type": "display_data"
    },
    {
     "data": {
      "image/png": "[encoded data removed]",
      "text/plain": [
       "<Figure size 432x432 with 1 Axes>"
      ]
     },
     "metadata": {
      "needs_background": "light"
     },
     "output_type": "display_data"
    },
    {
     "data": {
      "image/png": "[encoded data removed]",
      "text/plain": [
       "<Figure size 432x432 with 1 Axes>"
      ]
     },
     "metadata": {
      "needs_background": "light"
     },
     "output_type": "display_data"
    },
    {
     "data": {
      "image/png": "[encoded data removed]",
      "text/plain": [
       "<Figure size 432x432 with 1 Axes>"
      ]
     },
     "metadata": {
      "needs_background": "light"
     },
     "output_type": "display_data"
    },
    {
     "data": {
      "image/png": "[encoded data removed]",
      "text/plain": [
       "<Figure size 432x432 with 1 Axes>"
      ]
     },
     "metadata": {
      "needs_background": "light"
     },
     "output_type": "display_data"
    },
    {
     "data": {
      "image/png": "[encoded data removed]",
      "text/plain": [
       "<Figure size 432x432 with 1 Axes>"
      ]
     },
     "metadata": {
      "needs_background": "light"
     },
     "output_type": "display_data"
    },
    {
     "data": {
      "image/png": "[encoded data removed]",
      "text/plain": [
       "<Figure size 432x432 with 1 Axes>"
      ]
     },
     "metadata": {
      "needs_background": "light"
     },
     "output_type": "display_data"
    },
    {
     "data": {
      "image/png": "[encoded data removed]",
      "text/plain": [
       "<Figure size 432x432 with 1 Axes>"
      ]
     },
     "metadata": {
      "needs_background": "light"
     },
     "output_type": "display_data"
    },
    {
     "data": {
      "image/png": "[encoded data removed]",
      "text/plain": [
       "<Figure size 432x432 with 1 Axes>"
      ]
     },
     "metadata": {
      "needs_background": "light"
     },
     "output_type": "display_data"
    },
    {
     "name": "stdout",
     "output_type": "stream",
     "text": [
      "In Degree Assortativity Coefficient (r): 0.2332340816569269\n",
      "Out Degree Assortativity Coefficient (r): 0.14428554920694014\n"
     ]
    }
   ],
   "source": [
    "print_attributes_and_plots(G_weighted_directed)"
   ]
  },
  {
   "cell_type": "code",
   "execution_count": 65,
   "metadata": {},
   "outputs": [
    {
     "name": "stdout",
     "output_type": "stream",
     "text": [
      "Name: \n",
      "Type: Graph\n",
      "Number of nodes: 255\n",
      "Number of edges: 6579\n",
      "Average degree:  51.6000\n",
      "Graph not connected: infinite path length\n",
      "Size of largest component: 254\n"
     ]
    },
    {
     "data": {
      "image/png": "[encoded data removed]",
      "text/plain": [
       "<Figure size 432x432 with 1 Axes>"
      ]
     },
     "metadata": {
      "needs_background": "light"
     },
     "output_type": "display_data"
    },
    {
     "data": {
      "image/png": "[encoded data removed]",
      "text/plain": [
       "<Figure size 432x432 with 1 Axes>"
      ]
     },
     "metadata": {
      "needs_background": "light"
     },
     "output_type": "display_data"
    },
    {
     "data": {
      "image/png": "[encoded data removed]",
      "text/plain": [
       "<Figure size 432x432 with 1 Axes>"
      ]
     },
     "metadata": {
      "needs_background": "light"
     },
     "output_type": "display_data"
    },
    {
     "name": "stdout",
     "output_type": "stream",
     "text": [
      "Average Clustering Coefficient: 0.5826005560186271\n",
      "In Degree Assortativity Coefficient (r): 0.13917090196809515\n",
      "Out Degree Assortativity Coefficient (r): 0.13917090196809515\n"
     ]
    }
   ],
   "source": [
    "print_attributes_and_plots(G_weighted_undirected)"
   ]
  },
  {
   "cell_type": "code",
   "execution_count": 66,
   "metadata": {},
   "outputs": [
    {
     "data": {
      "image/png": "[encoded data removed]",
      "text/plain": [
       "<Figure size 360x360 with 1 Axes>"
      ]
     },
     "metadata": {
      "needs_background": "light"
     },
     "output_type": "display_data"
    }
   ],
   "source": [
    "plot_weight_dist(G_weighted_undirected)"
   ]
  },
  {
   "cell_type": "markdown",
   "metadata": {},
   "source": [
    "## Communities"
   ]
  },
  {
   "cell_type": "code",
   "execution_count": 67,
   "metadata": {},
   "outputs": [],
   "source": [
    "def Communitys(G):\n",
    "    #Using the Kernighan–Lin algorithm\n",
    "    KL_communities_generator = community.kernighan_lin_bisection(G,max_iter=10)\n",
    "    #Measuring partitions by modularity\n",
    "    print (community.modularity(G, KL_communities_generator))\n",
    "\n",
    "    #Communities with modularity\n",
    "    greedy_mod=greedy_modularity_communities(G)\n",
    "    print (community.modularity(G, greedy_mod))\n",
    "    \n",
    "    #Giravn _newman communities:\n",
    "    GN_communities_generator = c.girvan_newman(G)\n",
    "    for i in range(10):\n",
    "        communities= next(GN_communities_generator)\n",
    "\n",
    "    GN_comm_sets = sorted(map(sorted, communities))\n",
    "    #Measuring partitions by modularity\n",
    "    print (community.modularity(G, GN_comm_sets))\n",
    "    \n",
    "    #Louvain communities:\n",
    "    partition = community_louvain.best_partition(G)\n",
    "    \n",
    "    d_for_getting_num_of_com={}\n",
    "    for x in partition:\n",
    "        if partition[x] not in d_for_getting_num_of_com:\n",
    "            d_for_getting_num_of_com[partition[x]]=1\n",
    "    empty_lists = [ [] for l in range(len(d_for_getting_num_of_com) ) ]\n",
    "    \n",
    "    for node in partition:\n",
    "        empty_lists[partition[node]].append(node)\n",
    "    print (community.modularity(G,empty_lists))\n",
    "\n",
    "    return KL_communities_generator, greedy_mod, GN_comm_sets, partition"
   ]
  },
  {
   "cell_type": "code",
   "execution_count": 68,
   "metadata": {},
   "outputs": [],
   "source": [
    "def add_communities_attributes(G, KL_communities_generator, greedy_mod, GN_comm_sets, partition):\n",
    "    #Set attribute of community to nodes\n",
    "    i = 0\n",
    "    for s in KL_communities_generator:\n",
    "        i += 1\n",
    "        for node in list(s):\n",
    "            G.nodes[node]['Community KL'] = i\n",
    "\n",
    "    i=0\n",
    "    for a in GN_comm_sets:\n",
    "        i += 1\n",
    "        for node in list(a):\n",
    "            G.nodes[node]['Girvan–Newman'] = i\n",
    "\n",
    "    i=0\n",
    "    for a in partition:\n",
    "        G.nodes[a]['Louvain'] =partition[a]\n",
    "\n",
    "    i=0\n",
    "    for a in greedy_mod:\n",
    "        i += 1\n",
    "        for node in list(a):\n",
    "            G.nodes[node]['Greedy_mod'] = i"
   ]
  },
  {
   "cell_type": "code",
   "execution_count": 69,
   "metadata": {},
   "outputs": [],
   "source": [
    "nx.write_gexf(G_unweighted,'scooter_unweighted.gexf')"
   ]
  },
  {
   "cell_type": "code",
   "execution_count": 70,
   "metadata": {},
   "outputs": [],
   "source": [
    "nx.write_gexf(G_dist,'scooter_dist.gexf')"
   ]
  },
  {
   "cell_type": "code",
   "execution_count": 71,
   "metadata": {},
   "outputs": [
    {
     "name": "stdout",
     "output_type": "stream",
     "text": [
      "0.2430993228883054\n",
      "2.2935692138776888e-05\n",
      "9.937856127568932e-05\n",
      "0.5669656983640897\n"
     ]
    }
   ],
   "source": [
    "# Create communitys to G_weighted_undirected & G_weighted_directed graph\n",
    "\n",
    "# get communitys\n",
    "KL_communities_generator, greedy_mod, GN_comm_sets, partition = Communitys(G_weighted_undirected)\n",
    "\n",
    "# Add communities attributes to G_weighted_undirected\n",
    "add_communities_attributes(G_weighted_undirected, KL_communities_generator, greedy_mod, GN_comm_sets, partition)\n",
    "\n",
    "# Add communities attributes to G_weighted_directed\n",
    "add_communities_attributes(G_weighted_directed, KL_communities_generator, greedy_mod, GN_comm_sets, partition)\n",
    "nx.write_gexf(G_weighted_directed,'scooter_weighted_directed_community.gexf')"
   ]
  },
  {
   "cell_type": "code",
   "execution_count": 72,
   "metadata": {},
   "outputs": [
    {
     "name": "stdout",
     "output_type": "stream",
     "text": [
      "0.2962533804554414\n",
      "0.00019387157902750035\n",
      "0.0023660248849594182\n",
      "0.5908569981512879\n"
     ]
    }
   ],
   "source": [
    "# Create communitys to morning rides graphs (undirected and directed)\n",
    "\n",
    "# get communitys\n",
    "KL_communities_generator, greedy_mod, GN_comm_sets, partition = Communitys(G_7_15_undirected)\n",
    "\n",
    "# Add communities attributes to undirected graph\n",
    "add_communities_attributes(G_7_15_undirected, KL_communities_generator, greedy_mod, GN_comm_sets, partition)\n",
    "\n",
    "# Add communities attributes to directed graph\n",
    "add_communities_attributes(G_7_15, KL_communities_generator, greedy_mod, GN_comm_sets, partition)\n",
    "nx.write_gexf(G_7_15,'scooter_7_15_directed_community.gexf')"
   ]
  },
  {
   "cell_type": "code",
   "execution_count": 73,
   "metadata": {},
   "outputs": [
    {
     "name": "stdout",
     "output_type": "stream",
     "text": [
      "0.17155771705259454\n",
      "5.2131074863933974e-05\n",
      "0.000920549561618522\n",
      "0.5417397696572275\n"
     ]
    }
   ],
   "source": [
    "# Create communitys to night rides graphs (undirected and directed)\n",
    "\n",
    "# get communitys\n",
    "KL_communities_generator, greedy_mod, GN_comm_sets, partition = Communitys(G_15_23_undirected)\n",
    "\n",
    "# Add communities attributes to undirected graph\n",
    "add_communities_attributes(G_15_23_undirected, KL_communities_generator, greedy_mod, GN_comm_sets, partition)\n",
    "\n",
    "# Add communities attributes to directed graph\n",
    "add_communities_attributes(G_15_23, KL_communities_generator, greedy_mod, GN_comm_sets, partition)\n",
    "nx.write_gexf(G_15_23,'scooter_15_23_directed_community.gexf')"
   ]
  },
  {
   "cell_type": "code",
   "execution_count": 74,
   "metadata": {},
   "outputs": [
    {
     "name": "stdout",
     "output_type": "stream",
     "text": [
      "0.26538747752014963\n",
      "0.00019866120854243954\n",
      "0.00802995676788234\n",
      "0.5754668081732681\n"
     ]
    }
   ],
   "source": [
    "# Create communitys to weekday graphs (undirected and directed)\n",
    "\n",
    "# get communitys\n",
    "KL_communities_generator, greedy_mod, GN_comm_sets, partition = Communitys(G_mon_wedn_undirected)\n",
    "\n",
    "# Add communities attributes to undirected graph\n",
    "add_communities_attributes(G_mon_wedn_undirected, KL_communities_generator, greedy_mod, GN_comm_sets, partition)\n",
    "nx.write_gexf(G_mon_wedn,'scooter_G_mon_wedn_undirected_community.gexf')\n",
    "# Add communities attributes to directed graph\n",
    "add_communities_attributes(G_mon_wedn, KL_communities_generator, greedy_mod, GN_comm_sets, partition)\n",
    "nx.write_gexf(G_mon_wedn,'scooter_G_mon_wedn_directed_community.gexf')"
   ]
  },
  {
   "cell_type": "code",
   "execution_count": 75,
   "metadata": {},
   "outputs": [
    {
     "name": "stdout",
     "output_type": "stream",
     "text": [
      "0.3385790184839714\n",
      "5.674060672417985e-05\n",
      "0.008743139264592087\n",
      "0.5440304862076182\n"
     ]
    }
   ],
   "source": [
    "# Create communitys to weekend graphs (undirected and directed)\n",
    "\n",
    "# get communitys\n",
    "KL_communities_generator, greedy_mod, GN_comm_sets, partition = Communitys(G_fri_sun_undirected)\n",
    "\n",
    "# Add communities attributes to undirected graph\n",
    "add_communities_attributes(G_fri_sun_undirected, KL_communities_generator, greedy_mod, GN_comm_sets, partition)\n",
    "nx.write_gexf(G_fri_sun_undirected,'scooter_G_fri_sun_UNdirected_community.gexf')\n",
    "# Add communities attributes to directed graph\n",
    "add_communities_attributes(G_fri_sun, KL_communities_generator, greedy_mod, GN_comm_sets, partition)\n",
    "nx.write_gexf(G_fri_sun,'scooter_G_fri_sun_directed_community.gexf')"
   ]
  },
  {
   "cell_type": "code",
   "execution_count": 76,
   "metadata": {},
   "outputs": [
    {
     "name": "stdout",
     "output_type": "stream",
     "text": [
      "0.24552460775980808\n",
      "0.0011027684337458097\n",
      "0.015952928237607952\n",
      "0.6213715779079738\n"
     ]
    }
   ],
   "source": [
    "# Create communitys to start project graphs (undirected and directed)\n",
    "\n",
    "# get communitys\n",
    "KL_communities_generator, greedy_mod, GN_comm_sets, partition = Communitys(G_week0_undirected)\n",
    "\n",
    "# Add communities attributes to undirected graph\n",
    "add_communities_attributes(G_week0_undirected, KL_communities_generator, greedy_mod, GN_comm_sets, partition)\n",
    "\n",
    "# Add communities attributes to directed graph\n",
    "add_communities_attributes(G_week0, KL_communities_generator, greedy_mod, GN_comm_sets, partition)\n",
    "nx.write_gexf(G_week0,'G_week0_directed_community.gexf')"
   ]
  },
  {
   "cell_type": "code",
   "execution_count": 77,
   "metadata": {},
   "outputs": [
    {
     "name": "stdout",
     "output_type": "stream",
     "text": [
      "0.23398557388522243\n",
      "0.0006507867506504308\n",
      "0.046790319796276826\n",
      "0.6259860647999111\n"
     ]
    }
   ],
   "source": [
    "# Create communitys to start project graphs (undirected and directed)\n",
    "\n",
    "# get communitys\n",
    "KL_communities_generator, greedy_mod, GN_comm_sets, partition = Communitys(G_week1_undirected)\n",
    "\n",
    "# Add communities attributes to undirected graph\n",
    "add_communities_attributes(G_week1_undirected, KL_communities_generator, greedy_mod, GN_comm_sets, partition)\n",
    "\n",
    "# Add communities attributes to directed graph\n",
    "add_communities_attributes(G_week1, KL_communities_generator, greedy_mod, GN_comm_sets, partition)\n",
    "nx.write_gexf(G_week1,'G_week1_directed_community.gexf')"
   ]
  },
  {
   "cell_type": "code",
   "execution_count": 78,
   "metadata": {},
   "outputs": [
    {
     "name": "stdout",
     "output_type": "stream",
     "text": [
      "0.13605342033136963\n",
      "0.002235395836450604\n",
      "0.017530493236034856\n",
      "0.5515041800306768\n"
     ]
    }
   ],
   "source": [
    "# Create communitys to start project graphs (undirected and directed)\n",
    "\n",
    "# get communitys\n",
    "KL_communities_generator, greedy_mod, GN_comm_sets, partition = Communitys(G_week2_undirected)\n",
    "\n",
    "# Add communities attributes to undirected graph\n",
    "add_communities_attributes(G_week2_undirected, KL_communities_generator, greedy_mod, GN_comm_sets, partition)\n",
    "\n",
    "# Add communities attributes to directed graph\n",
    "add_communities_attributes(G_week2, KL_communities_generator, greedy_mod, GN_comm_sets, partition)\n",
    "nx.write_gexf(G_week2,'G_week2_directed_community.gexf')"
   ]
  },
  {
   "cell_type": "code",
   "execution_count": 79,
   "metadata": {},
   "outputs": [
    {
     "name": "stdout",
     "output_type": "stream",
     "text": [
      "0.16999772011227424\n",
      "0.005428407898488496\n",
      "0.03525201188171873\n",
      "0.5645295237888404\n"
     ]
    }
   ],
   "source": [
    "# Create communitys to start project graphs (undirected and directed)\n",
    "\n",
    "# get communitys\n",
    "KL_communities_generator, greedy_mod, GN_comm_sets, partition = Communitys(G_week3_undirected)\n",
    "\n",
    "# Add communities attributes to undirected graph\n",
    "add_communities_attributes(G_week3_undirected, KL_communities_generator, greedy_mod, GN_comm_sets, partition)\n",
    "\n",
    "# Add communities attributes to directed graph\n",
    "add_communities_attributes(G_week3, KL_communities_generator, greedy_mod, GN_comm_sets, partition)\n",
    "nx.write_gexf(G_week3,'G_week3_directed_community.gexf')"
   ]
  },
  {
   "cell_type": "code",
   "execution_count": 80,
   "metadata": {},
   "outputs": [
    {
     "name": "stdout",
     "output_type": "stream",
     "text": [
      "0.37380582900621956\n",
      "0.028674228757122472\n",
      "0.3299532599322961\n",
      "0.5785537867662329\n"
     ]
    }
   ],
   "source": [
    "# Create communitys to start project graphs (undirected and directed)\n",
    "\n",
    "# get communitys\n",
    "KL_communities_generator, greedy_mod, GN_comm_sets, partition = Communitys(G_week4_undirected)\n",
    "\n",
    "# Add communities attributes to undirected graph\n",
    "add_communities_attributes(G_week4_undirected, KL_communities_generator, greedy_mod, GN_comm_sets, partition)\n",
    "\n",
    "# Add communities attributes to directed graph\n",
    "add_communities_attributes(G_week4, KL_communities_generator, greedy_mod, GN_comm_sets, partition)\n",
    "nx.write_gexf(G_week4,'G_week4_directed_community.gexf')"
   ]
  },
  {
   "cell_type": "code",
   "execution_count": 81,
   "metadata": {},
   "outputs": [
    {
     "name": "stdout",
     "output_type": "stream",
     "text": [
      "0.21720212530366545\n",
      "0.0004351411918749021\n",
      "0.012516408749999385\n",
      "0.4401670938775159\n"
     ]
    }
   ],
   "source": [
    "# Create communitys to morning weekdnd graphs (undirected and directed)\n",
    "\n",
    "# get communitys\n",
    "KL_communities_generator, greedy_mod, GN_comm_sets, partition = Communitys(G_7_15_weekday_undirected)\n",
    "\n",
    "# Add communities attributes to undirected graph\n",
    "add_communities_attributes(G_7_15_weekday_undirected, KL_communities_generator, greedy_mod, GN_comm_sets, partition)\n",
    "nx.write_gexf(G_7_15_weekday_undirected,'scooter_G_7_15_weekday_UNdirected_community.gexf')\n",
    "# Add communities attributes to directed graph\n",
    "add_communities_attributes(G_7_15_weekday, KL_communities_generator, greedy_mod, GN_comm_sets, partition)\n",
    "nx.write_gexf(G_7_15_weekday,'scooter_G_7_15_weekday_directed_community.gexf')"
   ]
  },
  {
   "cell_type": "code",
   "execution_count": 82,
   "metadata": {},
   "outputs": [
    {
     "name": "stdout",
     "output_type": "stream",
     "text": [
      "0.3749703362536942\n",
      "0.0003174981068509664\n",
      "0.005809071021880152\n",
      "0.48441494557845727\n"
     ]
    }
   ],
   "source": [
    "# Create communitys to morning weekdnd graphs (undirected and directed)\n",
    "\n",
    "# get communitys\n",
    "KL_communities_generator, greedy_mod, GN_comm_sets, partition = Communitys(G_7_15_weekend_undirected)\n",
    "\n",
    "# Add communities attributes to undirected graph\n",
    "add_communities_attributes(G_7_15_weekend_undirected, KL_communities_generator, greedy_mod, GN_comm_sets, partition)\n",
    "nx.write_gexf(G_7_15_weekend_undirected,'scooter_G_7_15_weekend_UNdirected_community.gexf')\n",
    "# Add communities attributes to directed graph\n",
    "add_communities_attributes(G_7_15_weekend, KL_communities_generator, greedy_mod, GN_comm_sets, partition)\n",
    "nx.write_gexf(G_7_15_weekend,'scooter_G_7_15_weekend_directed_community.gexf')"
   ]
  },
  {
   "cell_type": "code",
   "execution_count": 83,
   "metadata": {},
   "outputs": [
    {
     "name": "stdout",
     "output_type": "stream",
     "text": [
      "0.3253268335694144\n",
      "0.0002904486804479634\n",
      "0.00981580850179299\n",
      "0.6238988095390853\n"
     ]
    }
   ],
   "source": [
    "# Create communitys to weekend graphs (undirected and directed)\n",
    "\n",
    "# get communitys\n",
    "KL_communities_generator, greedy_mod, GN_comm_sets, partition = Communitys(G_15_23_weekday_undirected)\n",
    "\n",
    "# Add communities attributes to undirected graph\n",
    "add_communities_attributes(G_15_23_weekday_undirected, KL_communities_generator, greedy_mod, GN_comm_sets, partition)\n",
    "nx.write_gexf(G_15_23_weekday_undirected,'scooter_G_15_23_weekday_UNdirected_community.gexf')\n",
    "# Add communities attributes to directed graph\n",
    "add_communities_attributes(G_15_23_weekday, KL_communities_generator, greedy_mod, GN_comm_sets, partition)\n",
    "nx.write_gexf(G_15_23_weekday,'scooter_G_15_23_weekday_directed_community.gexf')"
   ]
  },
  {
   "cell_type": "code",
   "execution_count": 84,
   "metadata": {},
   "outputs": [
    {
     "name": "stdout",
     "output_type": "stream",
     "text": [
      "0.1870261563660011\n",
      "0.0018051943511828194\n",
      "0.01827755346362966\n",
      "0.5268426101409106\n"
     ]
    }
   ],
   "source": [
    "# Create communitys to weekend graphs (undirected and directed)\n",
    "\n",
    "# get communitys\n",
    "KL_communities_generator, greedy_mod, GN_comm_sets, partition = Communitys(G_15_23_weekend_undirected)\n",
    "\n",
    "# Add communities attributes to undirected graph\n",
    "add_communities_attributes(G_15_23_weekend_undirected, KL_communities_generator, greedy_mod, GN_comm_sets, partition)\n",
    "nx.write_gexf(G_15_23_weekend_undirected,'scooter_G_15_23_weekend_UNdirected_community.gexf')\n",
    "# Add communities attributes to directed graph\n",
    "add_communities_attributes(G_15_23_weekend, KL_communities_generator, greedy_mod, GN_comm_sets, partition)\n",
    "nx.write_gexf(G_15_23_weekend,'scooter_G_15_23_weekend_directed_community.gexf')"
   ]
  },
  {
   "cell_type": "code",
   "execution_count": null,
   "metadata": {},
   "outputs": [],
   "source": []
  }
 ],
 "metadata": {
  "kernelspec": {
   "display_name": "Python 3",
   "language": "python",
   "name": "python3"
  },
  "language_info": {
   "codemirror_mode": {
    "name": "ipython",
    "version": 3
   },
   "file_extension": ".py",
   "mimetype": "text/x-python",
   "name": "python",
   "nbconvert_exporter": "python",
   "pygments_lexer": "ipython3",
   "version": "3.7.4"
  }
 },
 "nbformat": 4,
 "nbformat_minor": 4
}
